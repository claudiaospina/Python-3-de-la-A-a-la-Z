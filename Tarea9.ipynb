{
  "nbformat": 4,
  "nbformat_minor": 0,
  "metadata": {
    "colab": {
      "name": "Tarea9.ipynb",
      "provenance": [],
      "authorship_tag": "ABX9TyMUtcfP1sTS1gqoywWZhOED",
      "include_colab_link": true
    },
    "kernelspec": {
      "name": "python3",
      "display_name": "Python 3"
    },
    "language_info": {
      "name": "python"
    }
  },
  "cells": [
    {
      "cell_type": "markdown",
      "metadata": {
        "id": "view-in-github",
        "colab_type": "text"
      },
      "source": [
        "<a href=\"https://colab.research.google.com/github/claudiaospina/Python-3-de-la-A-a-la-Z/blob/main/Tarea9.ipynb\" target=\"_parent\"><img src=\"https://colab.research.google.com/assets/colab-badge.svg\" alt=\"Open In Colab\"/></a>"
      ]
    },
    {
      "cell_type": "markdown",
      "source": [
        "# Tarea 8 - Estructuras de datos: Tuplas\n",
        "#### Curso Python de la A a la Z"
      ],
      "metadata": {
        "id": "a_Aa2tpL6ppO"
      }
    },
    {
      "cell_type": "markdown",
      "source": [
        "### Ejercicio 1\n",
        "Pide al usuario el número de números enteros que va a introducir por teclado. Para cada uno de esos\n",
        "números, crea una tupla donde la primera entrada sea el número entero y, la segunda, la palabra “par” o\n",
        "“impar” según la paridad del número entero. Muestra la tupla recién creada al usuario."
      ],
      "metadata": {
        "id": "xdv2NLA-6-Md"
      }
    },
    {
      "cell_type": "code",
      "source": [
        ""
      ],
      "metadata": {
        "id": "Fap4Bnf-7Jnc"
      },
      "execution_count": null,
      "outputs": []
    },
    {
      "cell_type": "markdown",
      "source": [
        "### Ejercicio 2\n",
        "Dado un año proporcionado por el usuario, crea una tupla de dos elementos cuya primera entrada sea el año\n",
        "y, la segunda entrada, el horóscopo chino correspondiente"
      ],
      "metadata": {
        "id": "fM1lBQhW7hpU"
      }
    },
    {
      "cell_type": "markdown",
      "source": [
        "### Ejercicio 3\n",
        "Dada una frase proporcionada por el usuario, crea una lista de tuplas indicando palabra, longitud de cada\n",
        "palabra, letra inicial y posición que ocupan dentro de la frase."
      ],
      "metadata": {
        "id": "nmhVW3Qq7nQM"
      }
    },
    {
      "cell_type": "markdown",
      "source": [
        "### Ejercicio 4\n",
        "Haz que el usuario introduzca palabras hasta que introduzca una palabra vacía. Guarda todas las palabras\n",
        "en una tupla y muestra la primera y la última introducidas haciendo uso del método unpacking.\n",
        "PISTA: Para guardar los elementos de uno en uno vas a tener que utilizar un tipo de dato que no es tupla\n",
        "y luego transformarlo a tupla."
      ],
      "metadata": {
        "id": "nRUlZceT7rI1"
      }
    },
    {
      "cell_type": "markdown",
      "source": [
        "### Ejercicio 5\n",
        "Dada una lista de palabras, crea otra lista del mismo tamaño que guarde la longitud de cada palabra. Usa\n",
        "la función zip() para crear un diccionario con claves las palabras y valores, su longitud."
      ],
      "metadata": {
        "id": "dc8ZqY737uS8"
      }
    },
    {
      "cell_type": "markdown",
      "source": [
        "### Ejercicio 6\n",
        "Haz que el usuario introduzca palabras hasta que introduzca una palabra vacía. Guarda todas las palabras\n",
        "en una tupla y muestra la tupla y el número total de caracteres que ha introducido.\n",
        "PISTA: Para guardar los elementos de uno en uno vas a tener que utilizar un tipo de dato que no es tupla\n",
        "y luego transformarlo a tupla."
      ],
      "metadata": {
        "id": "bc71MV3I7zLc"
      }
    },
    {
      "cell_type": "markdown",
      "source": [
        "### Ejercicio 7\n",
        "Crea una lista de 20 tuplas de tamaño 2. La primera entrada será un número entero entre 1 y 20 y la segunda\n",
        "entrada contendrá una lista con los 10 primeros múltiplos del número entero correspondiente. Por último,\n",
        "muestra las tablas de multiplicar del 1 al 20 con el formato “1 x 1 = 1”."
      ],
      "metadata": {
        "id": "U8U5Sr8H72MU"
      }
    },
    {
      "cell_type": "markdown",
      "source": [
        "### Ejercicio 8\n",
        "Pide al usuario dos números enteros por teclado. Asegúrate de que el primero es mayor o igual al segundo.\n",
        "Realiza la división entera y guarda en una tupla el dividendo, el divisor, el cociente y el resto de la divisón\n",
        "entera realizada y muéstrale al usuario el resultado por pantalla.\n"
      ],
      "metadata": {
        "id": "hSdPXhRP75s0"
      }
    },
    {
      "cell_type": "markdown",
      "source": [
        "### Ejercicio 9\n",
        "Pide al usuario números entre 0 y 360. Para cada número, crea una tupla donde la primera entrada sea\n",
        "dicho número y, la segunda, la medida angular correspondiente en radianes. Recuerda, 360◦ = 2πrad. En\n",
        "este caso, utiliza π = 3.141592653589793"
      ],
      "metadata": {
        "id": "uq65ELow78zb"
      }
    },
    {
      "cell_type": "markdown",
      "source": [
        "### Ejercicio 10\n",
        "Pide al usuario números complejos. Para cada número, crea una tupla donde la primera entrada sea dicho\n",
        "número complejo, la segunda, su opuesto y, la tercera, su conjugado.\n"
      ],
      "metadata": {
        "id": "c7jXkLul8CjE"
      }
    },
    {
      "cell_type": "code",
      "source": [
        ""
      ],
      "metadata": {
        "id": "Tihu8Xjo8Ghx"
      },
      "execution_count": null,
      "outputs": []
    }
  ]
}