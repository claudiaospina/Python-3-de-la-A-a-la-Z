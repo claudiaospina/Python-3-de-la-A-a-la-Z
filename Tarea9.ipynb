{
  "nbformat": 4,
  "nbformat_minor": 0,
  "metadata": {
    "colab": {
      "name": "Tarea9.ipynb",
      "provenance": [],
      "authorship_tag": "ABX9TyM7gEc6GudhT3JzAuqtvpt5",
      "include_colab_link": true
    },
    "kernelspec": {
      "name": "python3",
      "display_name": "Python 3"
    },
    "language_info": {
      "name": "python"
    }
  },
  "cells": [
    {
      "cell_type": "markdown",
      "metadata": {
        "id": "view-in-github",
        "colab_type": "text"
      },
      "source": [
        "<a href=\"https://colab.research.google.com/github/claudiaospina/Python-3-de-la-A-a-la-Z/blob/main/Tarea9.ipynb\" target=\"_parent\"><img src=\"https://colab.research.google.com/assets/colab-badge.svg\" alt=\"Open In Colab\"/></a>"
      ]
    },
    {
      "cell_type": "markdown",
      "source": [
        "# Tarea 9 - Funciones\n",
        "### Curso Python de la A a la Z"
      ],
      "metadata": {
        "id": "2R9Mg13HEH-v"
      }
    },
    {
      "cell_type": "markdown",
      "source": [
        "## Ejercicio 1\n",
        "Crea una función que busque todos los divisores del número entero positivo dado por parámetro y devuelva\n",
        "una lista con todos los divisores de dicho número."
      ],
      "metadata": {
        "id": "f02vNC6PEZQz"
      }
    },
    {
      "cell_type": "code",
      "source": [
        "def divisores(n):\n",
        "  \"\"\"\n",
        "  Función que calcula todos los divisores posibles de un número introducido por \n",
        "  el usuario como parámetro.\n",
        "  \n",
        "  Args:\n",
        "    n (int): Número ingresado por el usuario\n",
        "\n",
        "  Returns:\n",
        "    [divs]: Lista con los números divisores de n\n",
        "  \"\"\"\n",
        "  divs = []\n",
        "  for i in range(1, n+1):\n",
        "    if n % i == 0:\n",
        "      divs.append(i)\n",
        "  return divs"
      ],
      "metadata": {
        "id": "d1wgww4-UsCB"
      },
      "execution_count": 17,
      "outputs": []
    },
    {
      "cell_type": "code",
      "source": [
        "divisores(87)"
      ],
      "metadata": {
        "colab": {
          "base_uri": "https://localhost:8080/"
        },
        "id": "oLparThdiCMd",
        "outputId": "e267b2ea-13df-4637-cd96-97e9c2763ef5"
      },
      "execution_count": 24,
      "outputs": [
        {
          "output_type": "execute_result",
          "data": {
            "text/plain": [
              "[1, 3, 29, 87]"
            ]
          },
          "metadata": {},
          "execution_count": 24
        }
      ]
    },
    {
      "cell_type": "markdown",
      "source": [
        "## Ejercicio 2\n",
        "Crea una función que dados dos números reales por parámetro, devuelve el mayor."
      ],
      "metadata": {
        "id": "a1ExeAoAEf0m"
      }
    },
    {
      "cell_type": "code",
      "source": [
        "def num_mayor(a, b):\n",
        "  \"\"\"\n",
        "  Función que identifica el mayor entre dos números introducidos por el usuario \n",
        "  como parámetro.\n",
        "  \n",
        "  Args:\n",
        "    a (int): Número ingresado por el usuario\n",
        "    b (int): Número ingresado por el usuario\n",
        "\n",
        "  Returns:\n",
        "    String indicando cuál número es mayor\n",
        "  \"\"\"\n",
        "  if a > b:\n",
        "    print(\"{} es mayor que {}.\".format(a, b))\n",
        "  elif a < b:\n",
        "    print(\"{} es menor que {}.\".format(a, b))\n",
        "  else:\n",
        "    print(\"{} es igual a {}.\".format(a, b))\n",
        " "
      ],
      "metadata": {
        "id": "BvRUlbipepju"
      },
      "execution_count": 15,
      "outputs": []
    },
    {
      "cell_type": "code",
      "source": [
        " num_mayor(15, 15)"
      ],
      "metadata": {
        "colab": {
          "base_uri": "https://localhost:8080/"
        },
        "id": "jcIj_U-Phspj",
        "outputId": "bf765ccb-0373-4af6-e38b-561c3a058395"
      },
      "execution_count": 16,
      "outputs": [
        {
          "output_type": "stream",
          "name": "stdout",
          "text": [
            "15 es igual a 15.\n"
          ]
        }
      ]
    },
    {
      "cell_type": "markdown",
      "source": [
        "## Ejercicio 3 \n",
        "Crea una función que dado un número devuelva su valor absoluto. Recuerda,\n",
        "\n",
        "\\begin{equation}\n",
        "|x|=\\begin{cases} \n",
        "x & \\text{ si }x \\ge 0\\\\\n",
        "-x & \\text{ si }x < 0\n",
        "\\end{cases}\n",
        "\\end{equation}\n"
      ],
      "metadata": {
        "id": "Zlq4jH2DEm4d"
      }
    },
    {
      "cell_type": "markdown",
      "source": [
        "## Ejercicio 4\n",
        "Crea una función que devuelva $True$ si el caracter introducido por parámetro se trata de una vocal y $False$\n",
        "en caso contrario."
      ],
      "metadata": {
        "id": "MnhcamhSMwMr"
      }
    },
    {
      "cell_type": "markdown",
      "source": [
        "## Ejercicio 5\n",
        "Crea una función que devuelva el MCD (máximo común divisor) de 2 números proporcionados por parámetro.\n",
        "PISTA: Aprovecha la función que calcula el mayor entre dos números dados. También necesitarás una función\n",
        "que calcula el menor entre dos números dados"
      ],
      "metadata": {
        "id": "rhbQP6dtMzOC"
      }
    },
    {
      "cell_type": "markdown",
      "source": [
        "## Ejercicio 6\n",
        "Crea una función que devuelva el MCM (mínimo común múltiplo) de 2 números proporcionados por\n",
        "parámetro.\n",
        "PISTA: Aprovecha la función que calcula el MCD de dos números del ejercicio anterior y la función que\n",
        "calcula el valor absoluto de un número."
      ],
      "metadata": {
        "id": "RR2hT3IaNEez"
      }
    },
    {
      "cell_type": "markdown",
      "source": [
        "## Ejercicio 7 \n",
        "Crea una función que dada una palabra devuelva si es palíndroma."
      ],
      "metadata": {
        "id": "AaT8XtnhNLeq"
      }
    },
    {
      "cell_type": "markdown",
      "source": [
        "## Ejercicio 8\n",
        "Crea una función que dado un color en hexadecimal devuelva una lista de 3 posiciones, cada una de ellas\n",
        "correspondiente al valor R, G o B en este orden. Los valores de RGB varían entre 0 y 255."
      ],
      "metadata": {
        "id": "HXPQRwP_NP0S"
      }
    },
    {
      "cell_type": "markdown",
      "source": [
        "## Ejercicio 9\n",
        "Crea una función que dada una lista de palabras por parámetro, devuelva un diccionario que contenga\n",
        "cuántas son de longitud par y cuántas de longitud impar."
      ],
      "metadata": {
        "id": "3oTM5TS2NTYK"
      }
    },
    {
      "cell_type": "markdown",
      "source": [
        "## Ejercicio 10\n",
        "Crea una función que dado un string por parámetro cuente cuántas veces sale cada caracter en dicho string\n",
        "y devuelva toda esa información en un diccionario."
      ],
      "metadata": {
        "id": "fVsmk_vyNXGL"
      }
    }
  ]
}