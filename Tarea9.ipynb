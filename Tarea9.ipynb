{
  "nbformat": 4,
  "nbformat_minor": 0,
  "metadata": {
    "colab": {
      "name": "Tarea9.ipynb",
      "provenance": [],
      "authorship_tag": "ABX9TyOp/1vAGXw6Yh1AI6hfqua4",
      "include_colab_link": true
    },
    "kernelspec": {
      "name": "python3",
      "display_name": "Python 3"
    },
    "language_info": {
      "name": "python"
    }
  },
  "cells": [
    {
      "cell_type": "markdown",
      "metadata": {
        "id": "view-in-github",
        "colab_type": "text"
      },
      "source": [
        "<a href=\"https://colab.research.google.com/github/claudiaospina/Python-3-de-la-A-a-la-Z/blob/main/Tarea9.ipynb\" target=\"_parent\"><img src=\"https://colab.research.google.com/assets/colab-badge.svg\" alt=\"Open In Colab\"/></a>"
      ]
    },
    {
      "cell_type": "markdown",
      "source": [
        "# Tarea 9 - Funciones\n",
        "### Curso Python de la A a la Z"
      ],
      "metadata": {
        "id": "2R9Mg13HEH-v"
      }
    },
    {
      "cell_type": "markdown",
      "source": [
        "## Ejercicio 1\n",
        "Crea una función que busque todos los divisores del número entero positivo dado por parámetro y devuelva\n",
        "una lista con todos los divisores de dicho número."
      ],
      "metadata": {
        "id": "f02vNC6PEZQz"
      }
    },
    {
      "cell_type": "code",
      "source": [
        "def divisores(n):\n",
        "  \"\"\"\n",
        "  Función que calcula todos los divisores posible de un número introducido por \n",
        "  el usuario.\n",
        "  \n",
        "  Args:\n",
        "    n (int): Número ingresado por el usuario\n",
        "\n",
        "  Returns:\n",
        "    (a, b, c): Tupla con los números divisores de n\n",
        "  \"\"\"\n",
        "\n",
        "  "
      ],
      "metadata": {
        "id": "d1wgww4-UsCB"
      },
      "execution_count": null,
      "outputs": []
    },
    {
      "cell_type": "markdown",
      "source": [
        "## Ejercicio 2\n",
        "Crea una función que dados dos números reales por parámetro, devuelve el mayor."
      ],
      "metadata": {
        "id": "a1ExeAoAEf0m"
      }
    },
    {
      "cell_type": "markdown",
      "source": [
        "## Ejercicio 3 \n",
        "Crea una función que dado un número devuelva su valor absoluto. Recuerda,\n",
        "\n",
        "\\begin{equation}\n",
        "|x|=\\begin{cases} \n",
        "x & \\text{ si }x \\ge 0\\\\\n",
        "-x & \\text{ si }x < 0\n",
        "\\end{cases}\n",
        "\\end{equation}\n"
      ],
      "metadata": {
        "id": "Zlq4jH2DEm4d"
      }
    },
    {
      "cell_type": "markdown",
      "source": [
        "## Ejercicio 4\n",
        "Crea una función que devuelva $True$ si el caracter introducido por parámetro se trata de una vocal y $False$\n",
        "en caso contrario."
      ],
      "metadata": {
        "id": "MnhcamhSMwMr"
      }
    },
    {
      "cell_type": "markdown",
      "source": [
        "## Ejercicio 5\n",
        "Crea una función que devuelva el MCD (máximo común divisor) de 2 números proporcionados por parámetro.\n",
        "PISTA: Aprovecha la función que calcula el mayor entre dos números dados. También necesitarás una función\n",
        "que calcula el menor entre dos números dados"
      ],
      "metadata": {
        "id": "rhbQP6dtMzOC"
      }
    },
    {
      "cell_type": "markdown",
      "source": [
        "## Ejercicio 6\n",
        "Crea una función que devuelva el MCM (mínimo común múltiplo) de 2 números proporcionados por\n",
        "parámetro.\n",
        "PISTA: Aprovecha la función que calcula el MCD de dos números del ejercicio anterior y la función que\n",
        "calcula el valor absoluto de un número."
      ],
      "metadata": {
        "id": "RR2hT3IaNEez"
      }
    },
    {
      "cell_type": "markdown",
      "source": [
        "## Ejercicio 7 \n",
        "Crea una función que dada una palabra devuelva si es palíndroma."
      ],
      "metadata": {
        "id": "AaT8XtnhNLeq"
      }
    },
    {
      "cell_type": "markdown",
      "source": [
        "## Ejercicio 8\n",
        "Crea una función que dado un color en hexadecimal devuelva una lista de 3 posiciones, cada una de ellas\n",
        "correspondiente al valor R, G o B en este orden. Los valores de RGB varían entre 0 y 255."
      ],
      "metadata": {
        "id": "HXPQRwP_NP0S"
      }
    },
    {
      "cell_type": "markdown",
      "source": [
        "## Ejercicio 9\n",
        "Crea una función que dada una lista de palabras por parámetro, devuelva un diccionario que contenga\n",
        "cuántas son de longitud par y cuántas de longitud impar."
      ],
      "metadata": {
        "id": "3oTM5TS2NTYK"
      }
    },
    {
      "cell_type": "markdown",
      "source": [
        "## Ejercicio 10\n",
        "Crea una función que dado un string por parámetro cuente cuántas veces sale cada caracter en dicho string\n",
        "y devuelva toda esa información en un diccionario."
      ],
      "metadata": {
        "id": "fVsmk_vyNXGL"
      }
    }
  ]
}