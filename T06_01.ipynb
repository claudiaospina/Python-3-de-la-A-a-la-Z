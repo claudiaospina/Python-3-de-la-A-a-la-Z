{
  "nbformat": 4,
  "nbformat_minor": 0,
  "metadata": {
    "colab": {
      "name": "T06-01.ipynb",
      "provenance": [],
      "collapsed_sections": [],
      "include_colab_link": true
    },
    "kernelspec": {
      "name": "python3",
      "display_name": "Python 3"
    }
  },
  "cells": [
    {
      "cell_type": "markdown",
      "metadata": {
        "id": "view-in-github",
        "colab_type": "text"
      },
      "source": [
        "<a href=\"https://colab.research.google.com/github/claudiaospina/Python-3-de-la-A-a-la-Z/blob/main/T06_01.ipynb\" target=\"_parent\"><img src=\"https://colab.research.google.com/assets/colab-badge.svg\" alt=\"Open In Colab\"/></a>"
      ]
    },
    {
      "cell_type": "markdown",
      "metadata": {
        "id": "i1V8qK0sHmey"
      },
      "source": [
        "# Ejercicio\n",
        "\n",
        "Vamos a pedirle al usuario la longitud de una lista y haremos que introduzca por teclado tantos números enteros como haya indicado, que se guardarán en una lista. Al acabar, imprimiremos la lista."
      ]
    },
    {
      "cell_type": "code",
      "metadata": {
        "id": "zJOuSzraHUKk",
        "colab": {
          "base_uri": "https://localhost:8080/"
        },
        "outputId": "7197ab92-6a0f-4744-ed30-de41621a3464"
      },
      "source": [
        "n = int(input(\"Introduce el tamaño de la lista: \"))\n",
        "l = []\n",
        "\n",
        "for i in range(n):\n",
        "  l.append(int(input()))\n",
        "\n",
        "print(\"Tu lista es:\", l)"
      ],
      "execution_count": null,
      "outputs": [
        {
          "output_type": "stream",
          "text": [
            "Introduce el tamaño de la lista: 5\n",
            "0\n",
            "-5\n",
            "2\n",
            "4\n",
            "10\n",
            "Tu lista es: [0, -5, 2, 4, 10]\n"
          ],
          "name": "stdout"
        }
      ]
    }
  ]
}