{
  "nbformat": 4,
  "nbformat_minor": 0,
  "metadata": {
    "colab": {
      "name": "T04-01.ipynb",
      "provenance": [],
      "include_colab_link": true
    },
    "kernelspec": {
      "name": "python3",
      "display_name": "Python 3"
    }
  },
  "cells": [
    {
      "cell_type": "markdown",
      "metadata": {
        "id": "view-in-github",
        "colab_type": "text"
      },
      "source": [
        "<a href=\"https://colab.research.google.com/github/claudiaospina/Python-3-de-la-A-a-la-Z/blob/main/T04_01.ipynb\" target=\"_parent\"><img src=\"https://colab.research.google.com/assets/colab-badge.svg\" alt=\"Open In Colab\"/></a>"
      ]
    },
    {
      "cell_type": "markdown",
      "metadata": {
        "id": "5VImn4w1Qrfn"
      },
      "source": [
        "# Ejercicio\n",
        "\n",
        "Dado un string, vamos a comprobar si contiene espacios en blanco y, en caso de ser cierto, contaremos cuántos tiene.\n",
        "\n",
        "PISTA: Investiga el operador `in`"
      ]
    },
    {
      "cell_type": "code",
      "metadata": {
        "colab": {
          "base_uri": "https://localhost:8080/"
        },
        "id": "6Eeotb-Ckg6E",
        "outputId": "55655858-7018-44f9-e7b5-53c9f7ec8a29"
      },
      "source": [
        "s = \"Mi gato mola mucho\"\n",
        "c = \" \"\n",
        "if c in s:\n",
        "  print(\"El string tiene {} espacios en blanco\".format(s.count(c)))"
      ],
      "execution_count": null,
      "outputs": [
        {
          "output_type": "stream",
          "text": [
            "El string tiene 3 espacios en blanco\n"
          ],
          "name": "stdout"
        }
      ]
    },
    {
      "cell_type": "code",
      "metadata": {
        "id": "Oo0GcYCWlWau"
      },
      "source": [
        ""
      ],
      "execution_count": null,
      "outputs": []
    }
  ]
}