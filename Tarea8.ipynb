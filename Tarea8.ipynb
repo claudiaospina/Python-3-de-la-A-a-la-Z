{
  "nbformat": 4,
  "nbformat_minor": 0,
  "metadata": {
    "colab": {
      "name": "Tarea8.ipynb",
      "provenance": [],
      "collapsed_sections": [],
      "authorship_tag": "ABX9TyNiE2L4etfLQsgKNucTs3F+",
      "include_colab_link": true
    },
    "kernelspec": {
      "name": "python3",
      "display_name": "Python 3"
    },
    "language_info": {
      "name": "python"
    }
  },
  "cells": [
    {
      "cell_type": "markdown",
      "metadata": {
        "id": "view-in-github",
        "colab_type": "text"
      },
      "source": [
        "<a href=\"https://colab.research.google.com/github/claudiaospina/Python-3-de-la-A-a-la-Z/blob/main/Tarea8.ipynb\" target=\"_parent\"><img src=\"https://colab.research.google.com/assets/colab-badge.svg\" alt=\"Open In Colab\"/></a>"
      ]
    },
    {
      "cell_type": "markdown",
      "source": [
        "# Tarea 8 - Estructuras de datos: Tuplas\n",
        "#### Curso Python de la A a la Z"
      ],
      "metadata": {
        "id": "a_Aa2tpL6ppO"
      }
    },
    {
      "cell_type": "markdown",
      "source": [
        "### Ejercicio 1\n",
        "Pide al usuario el número de números enteros que va a introducir por teclado. Para cada uno de esos\n",
        "números, crea una tupla donde la primera entrada sea el número entero y, la segunda, la palabra “par” o\n",
        "“impar” según la paridad del número entero. Muestra la tupla recién creada al usuario."
      ],
      "metadata": {
        "id": "xdv2NLA-6-Md"
      }
    },
    {
      "cell_type": "code",
      "source": [
        "n = int(input(\"Ingresa la cantidad de números que deseas introducir: \"))\n",
        "t = ()\n",
        "for num in range(n):\n",
        "  num = int(input(\"Ingresa un número entero: \"))\n",
        "  if num % 2 == 0:\n",
        "    p = \"Par\"\n",
        "  else:\n",
        "    p = \"Impar\"\n",
        "  t = (num , p)\n",
        "  print(t)"
      ],
      "metadata": {
        "colab": {
          "base_uri": "https://localhost:8080/"
        },
        "id": "Fap4Bnf-7Jnc",
        "outputId": "68085fee-9fdb-485b-8216-25b4506674ea"
      },
      "execution_count": null,
      "outputs": [
        {
          "output_type": "stream",
          "name": "stdout",
          "text": [
            "Ingresa la cantidad de números que deseas introducir: 10\n",
            "Ingresa un número entero: 1\n",
            "(1, 'Impar')\n",
            "Ingresa un número entero: 2\n",
            "(2, 'Par')\n",
            "Ingresa un número entero: 3\n",
            "(3, 'Impar')\n",
            "Ingresa un número entero: 4\n",
            "(4, 'Par')\n",
            "Ingresa un número entero: 5\n",
            "(5, 'Impar')\n",
            "Ingresa un número entero: 6\n",
            "(6, 'Par')\n",
            "Ingresa un número entero: 7\n",
            "(7, 'Impar')\n",
            "Ingresa un número entero: 8\n",
            "(8, 'Par')\n",
            "Ingresa un número entero: 9\n",
            "(9, 'Impar')\n",
            "Ingresa un número entero: 10\n",
            "(10, 'Par')\n"
          ]
        }
      ]
    },
    {
      "cell_type": "markdown",
      "source": [
        "### Ejercicio 2\n",
        "Dado un año proporcionado por el usuario, crea una tupla de dos elementos cuya primera entrada sea el año\n",
        "y, la segunda entrada, el horóscopo chino correspondiente"
      ],
      "metadata": {
        "id": "fM1lBQhW7hpU"
      }
    },
    {
      "cell_type": "code",
      "source": [
        "year = int(input(\"Ingresa tu año de nacimiento: \"))\n",
        "\n",
        "if year % 12 == 0:\n",
        "  h = \"Mono\"\n",
        "elif year % 12 == 1:\n",
        "  h = \"Gallo\"\n",
        "elif year % 12 == 2:\n",
        "  h = \"Perro\"\n",
        "elif year % 12 == 3:\n",
        "  h = \"Cerdo\"\n",
        "elif year % 12 == 4:\n",
        "  h = \"Rata\"\n",
        "elif year % 12 == 5:\n",
        "  h = \"Buey\"\n",
        "elif year % 12 == 6:\n",
        "  h = \"Tigre\"\n",
        "elif year % 12 == 7:\n",
        "  h = \"Conejo\"\n",
        "elif year % 12 == 8:\n",
        "  h = \"Dragón\"\n",
        "elif year % 12 == 9:\n",
        "  h = \"Serpiente\"\n",
        "elif year % 12 == 10:\n",
        "  h = \"Caballo\"\n",
        "elif year % 12 == 11:\n",
        "  h = \"Cabra\"\n",
        "t = (year, h)\n",
        "print(t)"
      ],
      "metadata": {
        "colab": {
          "base_uri": "https://localhost:8080/"
        },
        "id": "vwTSJXgaBQz5",
        "outputId": "5784a535-732b-4679-c056-fccf9f571ba4"
      },
      "execution_count": null,
      "outputs": [
        {
          "output_type": "stream",
          "name": "stdout",
          "text": [
            "Ingresa tu año de nacimiento: 1992\n",
            "(1992, 'Mono')\n"
          ]
        }
      ]
    },
    {
      "cell_type": "markdown",
      "source": [
        "### Ejercicio 3\n",
        "Dada una frase proporcionada por el usuario, crea una lista de tuplas indicando palabra, longitud de cada\n",
        "palabra, letra inicial y posición que ocupan dentro de la frase."
      ],
      "metadata": {
        "id": "nmhVW3Qq7nQM"
      }
    },
    {
      "cell_type": "code",
      "source": [
        "frase = input(\"Ingresa una frase: \")\n",
        "palabras = frase.split()\n",
        "for palabra in palabras:\n",
        "  longitud = len(palabra)\n",
        "  posicion = palabras.index(palabra)\n",
        "  inicial = palabra[0]\n",
        "  respuesta = (print(\"La palabra {} tiene una longitud de {} caracteres, su letra inicial es la {} y su posición dentro de la frase es {}.\".format(palabra, longitud, inicial, posicion)))\n",
        "  tupla = (palabra, longitud, inicial, posicion)\n",
        "  print(tupla)"
      ],
      "metadata": {
        "colab": {
          "base_uri": "https://localhost:8080/"
        },
        "id": "hSB00tVyLlBC",
        "outputId": "b2a71f7d-f072-4a43-980e-3e7a45e06305"
      },
      "execution_count": null,
      "outputs": [
        {
          "output_type": "stream",
          "name": "stdout",
          "text": [
            "Ingresa una frase: Estas son cuatro palabras\n",
            "La palabra Estas tiene una longitud de 5 caracteres, su letra inicial es la E y su posición dentro de la frase es 0.\n",
            "('Estas', 5, 'E', 0)\n",
            "La palabra son tiene una longitud de 3 caracteres, su letra inicial es la s y su posición dentro de la frase es 1.\n",
            "('son', 3, 's', 1)\n",
            "La palabra cuatro tiene una longitud de 6 caracteres, su letra inicial es la c y su posición dentro de la frase es 2.\n",
            "('cuatro', 6, 'c', 2)\n",
            "La palabra palabras tiene una longitud de 8 caracteres, su letra inicial es la p y su posición dentro de la frase es 3.\n",
            "('palabras', 8, 'p', 3)\n"
          ]
        }
      ]
    },
    {
      "cell_type": "markdown",
      "source": [
        "### Ejercicio 4\n",
        "Haz que el usuario introduzca palabras hasta que introduzca una palabra vacía. Guarda todas las palabras\n",
        "en una tupla y muestra la primera y la última introducidas haciendo uso del método unpacking.\n",
        "PISTA: Para guardar los elementos de uno en uno vas a tener que utilizar un tipo de dato que no es tupla\n",
        "y luego transformarlo a tupla."
      ],
      "metadata": {
        "id": "nRUlZceT7rI1"
      }
    },
    {
      "cell_type": "code",
      "source": [
        "palabras = []\n",
        "palabra = input(\"Introduce una palabra: \")\n",
        "\n",
        "while palabra != \"\":\n",
        "  palabras.append(palabra)\n",
        "  palabra = input(\"Introduce una palabra: \")\n",
        "palabras = tuple(palabras)\n",
        "palabra1, *otrasPalabras, ultimaPalabra = palabras\n",
        "print(palabra1)\n",
        "print(ultimaPalabra)"
      ],
      "metadata": {
        "colab": {
          "base_uri": "https://localhost:8080/"
        },
        "id": "jdFEf9Yhb_2x",
        "outputId": "9b39a08f-223e-40eb-b321-30340e07ad9f"
      },
      "execution_count": null,
      "outputs": [
        {
          "output_type": "stream",
          "name": "stdout",
          "text": [
            "Introduce una palabra: aaaaaaaaaaaa\n",
            "Introduce una palabra: ssssssssssss\n",
            "Introduce una palabra: ddddddddddddddd\n",
            "Introduce una palabra: \n",
            "aaaaaaaaaaaa\n",
            "ddddddddddddddd\n"
          ]
        }
      ]
    },
    {
      "cell_type": "markdown",
      "source": [
        "### Ejercicio 5\n",
        "Dada una lista de palabras, crea otra lista del mismo tamaño que guarde la longitud de cada palabra. Usa\n",
        "la función zip() para crear un diccionario con claves las palabras y valores, su longitud."
      ],
      "metadata": {
        "id": "dc8ZqY737uS8"
      }
    },
    {
      "cell_type": "code",
      "source": [
        "fruits = [\"Cereza\", \"Kiwi\", \"Pera\", \"Naranja\", \"Melocotón\", \"Sandía\", \"Melón\"]\n",
        "longitud = []\n",
        "\n",
        "for fruta in fruits:\n",
        "  longitud.append(len(fruta))\n",
        "elementos = zip(fruits, longitud)\n",
        "dict(elementos)"
      ],
      "metadata": {
        "colab": {
          "base_uri": "https://localhost:8080/"
        },
        "id": "kbVMZOygg7fP",
        "outputId": "1310802e-2a0b-4f1c-9388-c7ff53a58cfc"
      },
      "execution_count": null,
      "outputs": [
        {
          "output_type": "execute_result",
          "data": {
            "text/plain": [
              "{'Cereza': 6,\n",
              " 'Kiwi': 4,\n",
              " 'Melocotón': 9,\n",
              " 'Melón': 5,\n",
              " 'Naranja': 7,\n",
              " 'Pera': 4,\n",
              " 'Sandía': 6}"
            ]
          },
          "metadata": {},
          "execution_count": 6
        }
      ]
    },
    {
      "cell_type": "markdown",
      "source": [
        "### Ejercicio 6\n",
        "Haz que el usuario introduzca palabras hasta que introduzca una palabra vacía. Guarda todas las palabras\n",
        "en una tupla y muestra la tupla y el número total de caracteres que ha introducido.\n",
        "PISTA: Para guardar los elementos de uno en uno vas a tener que utilizar un tipo de dato que no es tupla\n",
        "y luego transformarlo a tupla."
      ],
      "metadata": {
        "id": "bc71MV3I7zLc"
      }
    },
    {
      "cell_type": "code",
      "source": [
        "palabras = []\n",
        "palabra = input(\"Ingresa una palabra: \")\n",
        "caracteres = 0\n",
        "\n",
        "while palabra != \"\":\n",
        "  palabras.append(palabra)\n",
        "  caracteres += len(palabra)\n",
        "  palabra = input(\"Ingresa una palabra: \")\n",
        "\n",
        "palabras = tuple(palabras)\n",
        "print(palabras, caracteres)"
      ],
      "metadata": {
        "colab": {
          "base_uri": "https://localhost:8080/"
        },
        "id": "XJVH1fwrlvoV",
        "outputId": "ffc91636-2094-4e1e-8a47-8b0ea7e3a7af"
      },
      "execution_count": null,
      "outputs": [
        {
          "output_type": "stream",
          "name": "stdout",
          "text": [
            "Ingresa una palabra: asdf\n",
            "Ingresa una palabra: asdfg\n",
            "Ingresa una palabra: asdfgh\n",
            "Ingresa una palabra: \n",
            "('asdf', 'asdfg', 'asdfgh') 15\n"
          ]
        }
      ]
    },
    {
      "cell_type": "markdown",
      "source": [
        "### Ejercicio 7\n",
        "Crea una lista de 20 tuplas de tamaño 2. La primera entrada será un número entero entre 1 y 20 y la segunda\n",
        "entrada contendrá una lista con los 10 primeros múltiplos del número entero correspondiente. Por último,\n",
        "muestra las tablas de multiplicar del 1 al 20 con el formato “1 x 1 = 1”."
      ],
      "metadata": {
        "id": "U8U5Sr8H72MU"
      }
    },
    {
      "cell_type": "code",
      "source": [
        "lista = []\n",
        "\n",
        "for i in range(1, 21):\n",
        "  lista.append((i, [i*j for j in range(1, 11)]))\n",
        "  for k in range(1, 11):\n",
        "    print(\"{} x {} = {}\".format(i, k, i*k))\n",
        "    #print(k)"
      ],
      "metadata": {
        "colab": {
          "base_uri": "https://localhost:8080/"
        },
        "id": "XGi-g1HJVG77",
        "outputId": "40f996f6-51d7-4eee-d2de-0aa823ed8be0"
      },
      "execution_count": 55,
      "outputs": [
        {
          "output_type": "stream",
          "name": "stdout",
          "text": [
            "1 x 1 = 1\n",
            "1 x 2 = 2\n",
            "1 x 3 = 3\n",
            "1 x 4 = 4\n",
            "1 x 5 = 5\n",
            "1 x 6 = 6\n",
            "1 x 7 = 7\n",
            "1 x 8 = 8\n",
            "1 x 9 = 9\n",
            "1 x 10 = 10\n",
            "2 x 1 = 2\n",
            "2 x 2 = 4\n",
            "2 x 3 = 6\n",
            "2 x 4 = 8\n",
            "2 x 5 = 10\n",
            "2 x 6 = 12\n",
            "2 x 7 = 14\n",
            "2 x 8 = 16\n",
            "2 x 9 = 18\n",
            "2 x 10 = 20\n",
            "3 x 1 = 3\n",
            "3 x 2 = 6\n",
            "3 x 3 = 9\n",
            "3 x 4 = 12\n",
            "3 x 5 = 15\n",
            "3 x 6 = 18\n",
            "3 x 7 = 21\n",
            "3 x 8 = 24\n",
            "3 x 9 = 27\n",
            "3 x 10 = 30\n",
            "4 x 1 = 4\n",
            "4 x 2 = 8\n",
            "4 x 3 = 12\n",
            "4 x 4 = 16\n",
            "4 x 5 = 20\n",
            "4 x 6 = 24\n",
            "4 x 7 = 28\n",
            "4 x 8 = 32\n",
            "4 x 9 = 36\n",
            "4 x 10 = 40\n",
            "5 x 1 = 5\n",
            "5 x 2 = 10\n",
            "5 x 3 = 15\n",
            "5 x 4 = 20\n",
            "5 x 5 = 25\n",
            "5 x 6 = 30\n",
            "5 x 7 = 35\n",
            "5 x 8 = 40\n",
            "5 x 9 = 45\n",
            "5 x 10 = 50\n",
            "6 x 1 = 6\n",
            "6 x 2 = 12\n",
            "6 x 3 = 18\n",
            "6 x 4 = 24\n",
            "6 x 5 = 30\n",
            "6 x 6 = 36\n",
            "6 x 7 = 42\n",
            "6 x 8 = 48\n",
            "6 x 9 = 54\n",
            "6 x 10 = 60\n",
            "7 x 1 = 7\n",
            "7 x 2 = 14\n",
            "7 x 3 = 21\n",
            "7 x 4 = 28\n",
            "7 x 5 = 35\n",
            "7 x 6 = 42\n",
            "7 x 7 = 49\n",
            "7 x 8 = 56\n",
            "7 x 9 = 63\n",
            "7 x 10 = 70\n",
            "8 x 1 = 8\n",
            "8 x 2 = 16\n",
            "8 x 3 = 24\n",
            "8 x 4 = 32\n",
            "8 x 5 = 40\n",
            "8 x 6 = 48\n",
            "8 x 7 = 56\n",
            "8 x 8 = 64\n",
            "8 x 9 = 72\n",
            "8 x 10 = 80\n",
            "9 x 1 = 9\n",
            "9 x 2 = 18\n",
            "9 x 3 = 27\n",
            "9 x 4 = 36\n",
            "9 x 5 = 45\n",
            "9 x 6 = 54\n",
            "9 x 7 = 63\n",
            "9 x 8 = 72\n",
            "9 x 9 = 81\n",
            "9 x 10 = 90\n",
            "10 x 1 = 10\n",
            "10 x 2 = 20\n",
            "10 x 3 = 30\n",
            "10 x 4 = 40\n",
            "10 x 5 = 50\n",
            "10 x 6 = 60\n",
            "10 x 7 = 70\n",
            "10 x 8 = 80\n",
            "10 x 9 = 90\n",
            "10 x 10 = 100\n",
            "11 x 1 = 11\n",
            "11 x 2 = 22\n",
            "11 x 3 = 33\n",
            "11 x 4 = 44\n",
            "11 x 5 = 55\n",
            "11 x 6 = 66\n",
            "11 x 7 = 77\n",
            "11 x 8 = 88\n",
            "11 x 9 = 99\n",
            "11 x 10 = 110\n",
            "12 x 1 = 12\n",
            "12 x 2 = 24\n",
            "12 x 3 = 36\n",
            "12 x 4 = 48\n",
            "12 x 5 = 60\n",
            "12 x 6 = 72\n",
            "12 x 7 = 84\n",
            "12 x 8 = 96\n",
            "12 x 9 = 108\n",
            "12 x 10 = 120\n",
            "13 x 1 = 13\n",
            "13 x 2 = 26\n",
            "13 x 3 = 39\n",
            "13 x 4 = 52\n",
            "13 x 5 = 65\n",
            "13 x 6 = 78\n",
            "13 x 7 = 91\n",
            "13 x 8 = 104\n",
            "13 x 9 = 117\n",
            "13 x 10 = 130\n",
            "14 x 1 = 14\n",
            "14 x 2 = 28\n",
            "14 x 3 = 42\n",
            "14 x 4 = 56\n",
            "14 x 5 = 70\n",
            "14 x 6 = 84\n",
            "14 x 7 = 98\n",
            "14 x 8 = 112\n",
            "14 x 9 = 126\n",
            "14 x 10 = 140\n",
            "15 x 1 = 15\n",
            "15 x 2 = 30\n",
            "15 x 3 = 45\n",
            "15 x 4 = 60\n",
            "15 x 5 = 75\n",
            "15 x 6 = 90\n",
            "15 x 7 = 105\n",
            "15 x 8 = 120\n",
            "15 x 9 = 135\n",
            "15 x 10 = 150\n",
            "16 x 1 = 16\n",
            "16 x 2 = 32\n",
            "16 x 3 = 48\n",
            "16 x 4 = 64\n",
            "16 x 5 = 80\n",
            "16 x 6 = 96\n",
            "16 x 7 = 112\n",
            "16 x 8 = 128\n",
            "16 x 9 = 144\n",
            "16 x 10 = 160\n",
            "17 x 1 = 17\n",
            "17 x 2 = 34\n",
            "17 x 3 = 51\n",
            "17 x 4 = 68\n",
            "17 x 5 = 85\n",
            "17 x 6 = 102\n",
            "17 x 7 = 119\n",
            "17 x 8 = 136\n",
            "17 x 9 = 153\n",
            "17 x 10 = 170\n",
            "18 x 1 = 18\n",
            "18 x 2 = 36\n",
            "18 x 3 = 54\n",
            "18 x 4 = 72\n",
            "18 x 5 = 90\n",
            "18 x 6 = 108\n",
            "18 x 7 = 126\n",
            "18 x 8 = 144\n",
            "18 x 9 = 162\n",
            "18 x 10 = 180\n",
            "19 x 1 = 19\n",
            "19 x 2 = 38\n",
            "19 x 3 = 57\n",
            "19 x 4 = 76\n",
            "19 x 5 = 95\n",
            "19 x 6 = 114\n",
            "19 x 7 = 133\n",
            "19 x 8 = 152\n",
            "19 x 9 = 171\n",
            "19 x 10 = 190\n",
            "20 x 1 = 20\n",
            "20 x 2 = 40\n",
            "20 x 3 = 60\n",
            "20 x 4 = 80\n",
            "20 x 5 = 100\n",
            "20 x 6 = 120\n",
            "20 x 7 = 140\n",
            "20 x 8 = 160\n",
            "20 x 9 = 180\n",
            "20 x 10 = 200\n"
          ]
        }
      ]
    },
    {
      "cell_type": "markdown",
      "source": [
        "### Ejercicio 8\n",
        "Pide al usuario dos números enteros por teclado. Asegúrate de que el primero es mayor o igual al segundo.\n",
        "Realiza la división entera y guarda en una tupla el dividendo, el divisor, el cociente y el resto de la divisón\n",
        "entera realizada y muéstrale al usuario el resultado por pantalla.\n"
      ],
      "metadata": {
        "id": "hSdPXhRP75s0"
      }
    },
    {
      "cell_type": "code",
      "source": [
        "dividendo = int(input(\"Ingresa un número entero: \"))\n",
        "divisor = int(input(\"Ingresa otro número entero: \"))\n",
        "\n",
        "if dividendo < divisor:\n",
        "  divisor = input(\"Ingresa un número menor que el anterior: \")\n",
        "else:\n",
        "  cociente = dividendo // divisor\n",
        "  residuo = dividendo % divisor\n",
        "  resultado = (dividendo, divisor, cociente, residuo)\n",
        "  print(\"El cociente entre {} y {} es {} y su residuo es {}.\".format(resultado[0], resultado[1], resultado[2], resultado[3]))\n",
        "  "
      ],
      "metadata": {
        "colab": {
          "base_uri": "https://localhost:8080/"
        },
        "id": "EGpchMBQ6t4q",
        "outputId": "606e75c2-7ea1-4f7b-fdf2-112d6b951772"
      },
      "execution_count": 67,
      "outputs": [
        {
          "output_type": "stream",
          "name": "stdout",
          "text": [
            "Ingresa un número entero: 56\n",
            "Ingresa otro número entero: 6\n",
            "El cociente entre 56 y 6 es 9 y su residuo es 2.\n"
          ]
        },
        {
          "output_type": "execute_result",
          "data": {
            "text/plain": [
              "tuple"
            ]
          },
          "metadata": {},
          "execution_count": 67
        }
      ]
    },
    {
      "cell_type": "markdown",
      "source": [
        "### Ejercicio 9\n",
        "Pide al usuario números entre 0 y 360. Para cada número, crea una tupla donde la primera entrada sea\n",
        "dicho número y, la segunda, la medida angular correspondiente en radianes. Recuerda, 360◦ = 2πrad. En\n",
        "este caso, utiliza π = 3.141592653589793"
      ],
      "metadata": {
        "id": "uq65ELow78zb"
      }
    },
    {
      "cell_type": "markdown",
      "source": [
        "### Ejercicio 10\n",
        "Pide al usuario números complejos. Para cada número, crea una tupla donde la primera entrada sea dicho\n",
        "número complejo, la segunda, su opuesto y, la tercera, su conjugado.\n"
      ],
      "metadata": {
        "id": "c7jXkLul8CjE"
      }
    },
    {
      "cell_type": "code",
      "source": [
        ""
      ],
      "metadata": {
        "id": "Tihu8Xjo8Ghx"
      },
      "execution_count": null,
      "outputs": []
    }
  ]
}