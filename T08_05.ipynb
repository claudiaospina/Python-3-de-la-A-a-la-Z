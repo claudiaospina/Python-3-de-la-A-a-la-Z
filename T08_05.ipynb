{
  "nbformat": 4,
  "nbformat_minor": 0,
  "metadata": {
    "colab": {
      "name": "T08-05.ipynb",
      "provenance": [],
      "collapsed_sections": [],
      "include_colab_link": true
    },
    "kernelspec": {
      "name": "python3",
      "display_name": "Python 3"
    }
  },
  "cells": [
    {
      "cell_type": "markdown",
      "metadata": {
        "id": "view-in-github",
        "colab_type": "text"
      },
      "source": [
        "<a href=\"https://colab.research.google.com/github/claudiaospina/Python-3-de-la-A-a-la-Z/blob/main/T08_05.ipynb\" target=\"_parent\"><img src=\"https://colab.research.google.com/assets/colab-badge.svg\" alt=\"Open In Colab\"/></a>"
      ]
    },
    {
      "cell_type": "markdown",
      "metadata": {
        "id": "nyASWSZSlGnQ"
      },
      "source": [
        "# Ejercicio\n",
        "\n",
        "Vamos a crear un programa que nos devuelva el elemento máximo de un conjunto sin utilizar la función `max()`."
      ]
    },
    {
      "cell_type": "code",
      "metadata": {
        "colab": {
          "base_uri": "https://localhost:8080/"
        },
        "id": "NZpaOwfu09kS",
        "outputId": "42a849f8-b643-4df9-bf36-b8aeb7757a6c"
      },
      "source": [
        "myset = {20, 3, 5, 10, 9, 30, -5, 30}\n",
        "max = -99999\n",
        "\n",
        "for e in myset:\n",
        "  if e > max:\n",
        "    max = e\n",
        "\n",
        "print(\"El máximo de {} es {}\".format(myset, max))"
      ],
      "execution_count": null,
      "outputs": [
        {
          "output_type": "stream",
          "text": [
            "El máximo de {3, 5, 9, 10, 20, -5, 30} es 30\n"
          ],
          "name": "stdout"
        }
      ]
    }
  ]
}