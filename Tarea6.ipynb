{
 "cells": [
  {
   "cell_type": "markdown",
   "id": "d23c2f33",
   "metadata": {},
   "source": [
    "# Tarea 6 - Estructuras de datos: Diccionarios\n",
    "\n",
    "#### Curso Python de la A a la Z"
   ]
  },
  {
   "cell_type": "markdown",
   "id": "4d37296f",
   "metadata": {},
   "source": [
    "### Ejercicio 1\n",
    "Crea un programa que pida un número entero positivo por teclado y que cree un diccionario cuyas claves\n",
    "sean desde el número 1 hasta el número indicado. Los valores de cada clave serán las propias claves elevadas\n",
    "al cubo."
   ]
  },
  {
   "cell_type": "code",
   "execution_count": 19,
   "id": "8cd26814",
   "metadata": {},
   "outputs": [
    {
     "name": "stdout",
     "output_type": "stream",
     "text": [
      "Ingrese el número límite para el diccionario: 8\n",
      "{1: 1, 2: 8, 3: 27, 4: 64, 5: 125, 6: 216, 7: 343, 8: 512}\n"
     ]
    }
   ],
   "source": [
    "limite = int(input(\"Ingrese el número límite para el diccionario: \"))\n",
    "clave = []\n",
    "valor = []\n",
    "\n",
    "for i in range(1, limite + 1):\n",
    "    clave.append(i)\n",
    "    valor.append(i**3)\n",
    "\n",
    "dicc = {clave[i] : valor[i] for i in range(len(clave))}\n",
    "print(dicc)"
   ]
  },
  {
   "cell_type": "markdown",
   "id": "ee6cdf7e",
   "metadata": {},
   "source": [
    "##### Solución curso:"
   ]
  },
  {
   "cell_type": "code",
   "execution_count": 30,
   "id": "aabcf173",
   "metadata": {},
   "outputs": [
    {
     "name": "stdout",
     "output_type": "stream",
     "text": [
      "Introduce un número entero positivo: 5\n",
      "{1: 1, 2: 8, 3: 27, 4: 64, 5: 125}\n"
     ]
    }
   ],
   "source": [
    "n = int(input(\"Introduce un número entero positivo: \"))\n",
    "\n",
    "d = {}\n",
    "for i in range(1, n + 1):\n",
    "    d[i] = i ** 3\n",
    "\n",
    "print(d)"
   ]
  },
  {
   "cell_type": "markdown",
   "id": "7969a445",
   "metadata": {},
   "source": [
    "### Ejercicio 2\n",
    "Escribe un programa que pregunte al usuario su nombre, edad y teléfono y lo guarde en un diccionario.\n",
    "Después, debe mostrar por pantalla el mensaje  \"{nombre} tiene {edad} años y su número de teléfono es\n",
    "{teléfono}\"."
   ]
  },
  {
   "cell_type": "code",
   "execution_count": 29,
   "id": "926953b2",
   "metadata": {},
   "outputs": [
    {
     "name": "stdout",
     "output_type": "stream",
     "text": [
      "Ingrese su nombre: Claudia\n",
      "Ingrese su edad: 29\n",
      "Ingrese su número de teléfono: 22222222\n",
      "Claudia tiene 29 años y su teléfono es 22222222\n"
     ]
    }
   ],
   "source": [
    "nombre = input(\"Ingrese su nombre: \")\n",
    "edad = int(input(\"Ingrese su edad: \"))\n",
    "telefono = input(\"Ingrese su número de teléfono: \")\n",
    "\n",
    "dicc = {\"Nombre\" : nombre, \"Edad\" : edad, \"Teléfono\" : telefono}\n",
    "\n",
    "print(dicc.get(\"Nombre\"), \"tiene\", dicc.get(\"Edad\"), \"años y su teléfono es\", dicc.get(\"Teléfono\"))"
   ]
  },
  {
   "cell_type": "markdown",
   "id": "9ee0c5f0",
   "metadata": {},
   "source": [
    "##### Solución curso:"
   ]
  },
  {
   "cell_type": "code",
   "execution_count": 31,
   "id": "f41504cf",
   "metadata": {},
   "outputs": [
    {
     "name": "stdout",
     "output_type": "stream",
     "text": [
      "Introduce tu nombre: Claudia\n",
      "Introduce tu edad: 29\n",
      "Introduce tu número de teléfono: 3108261507\n",
      "Claudia tiene 29 años y su número de teléfono es 3108261507\n"
     ]
    }
   ],
   "source": [
    "user = {}\n",
    "\n",
    "user[\"name\"] = str(input(\"Introduce tu nombre: \"))\n",
    "user[\"age\"] = int(input(\"Introduce tu edad: \"))\n",
    "user[\"phone\"] = int(input(\"Introduce tu número de teléfono: \"))\n",
    "\n",
    "print(\"{} tiene {} años y su número de teléfono es {}.\".format(user[\"name\"], user[\"age\"], user[\"phone\"]))"
   ]
  },
  {
   "cell_type": "markdown",
   "id": "95a82511",
   "metadata": {},
   "source": [
    "### Ejercicio 3\n",
    "Escribe un programa que cree un diccionario simulando una cesta de la compra. El programa debe preguntar\n",
    "el artículo y su precio por unidad. El artículo será la clave y el valor el precio, hasta que el usuario decida\n",
    "terminar. Después se debe mostrar por pantalla la lista de la compra y el coste total, con el siguiente formato\n",
    "\n",
    "|            |        |\n",
    "|------------|--------|\n",
    "| Artículo 1 | Precio |\n",
    "| Artículo 2 | Precio |\n",
    "| Artículo 3 | Precio |\n",
    "|------------|--------|\n",
    "| Total | Total Precio |\n",
    "|            |        |\n"
   ]
  },
  {
   "cell_type": "code",
   "execution_count": 50,
   "id": "715414b5",
   "metadata": {},
   "outputs": [
    {
     "name": "stdout",
     "output_type": "stream",
     "text": [
      "Ingresa el artículo Huevos\n",
      "Ingresa el precio del artículo 4500\n",
      "Ingresa el artículo Leche\n",
      "Ingresa el precio del artículo 5454\n",
      "Ingresa el artículo Pan\n",
      "Ingresa el precio del artículo 5000\n",
      "Ingresa el artículo 0\n",
      "\n",
      "Huevo | 4500.0\n",
      "Leche | 5454.0\n",
      "Pan | 5000.0\n",
      "...............\n",
      "Total | 14954.0\n"
     ]
    }
   ],
   "source": [
    "cesta = {}\n",
    "art = input(\"Ingresa el artículo: \")\n",
    "total = 0\n",
    "while art != \"0\":\n",
    "    cesta[art] = float(input(\"Ingresa el precio del artículo: \"))\n",
    "    art = input(\"Ingresa el artículo: \")\n",
    "print(\"\")\n",
    "for art, precio in cesta.items():\n",
    "    total += precio\n",
    "    print(art[0:5], \"|\", precio)\n",
    "print(15*\".\")\n",
    "print(\"Total\", \"|\", total)"
   ]
  },
  {
   "cell_type": "markdown",
   "id": "407ebcb5",
   "metadata": {},
   "source": [
    "##### Solución curso:"
   ]
  },
  {
   "cell_type": "code",
   "execution_count": 46,
   "id": "13ad87b6",
   "metadata": {},
   "outputs": [
    {
     "name": "stdout",
     "output_type": "stream",
     "text": [
      "Indica el artículo Huevos\n",
      "Indica l precio 5000\n",
      "Indica el artículo Leche\n",
      "Indica l precio 5844\n",
      "Indica el artículo Carne\n",
      "Indica l precio 4545\n",
      "Indica el artículo adasdas\n",
      "Indica l precio 2000\n",
      "Indica el artículo \n",
      "\n",
      "|            Huevos | 5000.0   |\n",
      "|             Leche | 5844.0   |\n",
      "|             Carne | 4545.0   |\n",
      "|           adasdas | 2000.0   |\n"
     ]
    }
   ],
   "source": [
    "shopping_list = {}\n",
    "key = input(\"Indica el artículo: \")\n",
    "\n",
    "while key != \"\":\n",
    "    shopping_list[key] = float(input(\"Indica l precio: \"))\n",
    "    key = input(\"Indica el artículo: \")\n",
    "\n",
    "print(\"\")\n",
    "for key, val in shopping_list.items():\n",
    "    print(\"|\" + \" \" * (20 - 2 - len(key)) + key + \" | \" + str(val) + \" \" * (9 - len(str(val))) + \"|\")"
   ]
  },
  {
   "cell_type": "markdown",
   "id": "8d612d43",
   "metadata": {},
   "source": [
    "### Ejercicio 4\n",
    "Crea un programa que lea números enteros hasta que introduzca el 0 y devuelva un diccionario con la\n",
    "cantidad números positivos y negativos introducidos."
   ]
  },
  {
   "cell_type": "code",
   "execution_count": 52,
   "id": "bb776f62",
   "metadata": {},
   "outputs": [
    {
     "name": "stdout",
     "output_type": "stream",
     "text": [
      "Ingresa un número entero 5\n",
      "Ingresa un número entero 6\n",
      "Ingresa un número entero 4\n",
      "Ingresa un número entero -5\n",
      "Ingresa un número entero 45\n",
      "Ingresa un número entero -85\n",
      "Ingresa un número entero 0\n",
      "{'Positivos': 4, 'Negativos': 2}\n"
     ]
    }
   ],
   "source": [
    "num = int(input(\"Ingresa un número entero: \"))\n",
    "positivo = 0\n",
    "negativo = 0\n",
    "\n",
    "while num != 0:\n",
    "    if num > 0:\n",
    "        positivo += 1\n",
    "    else:\n",
    "        negativo += 1\n",
    "    num = int(input(\"Ingresa un número entero: \"))\n",
    "    \n",
    "dicc = {\"Positivos\" : positivo, \"Negativos\" : negativo}\n",
    "print(dicc)"
   ]
  },
  {
   "cell_type": "markdown",
   "id": "85721e74",
   "metadata": {},
   "source": [
    "### Ejercicio 5\n",
    "Crea un programa que lea números enteros hasta que introduzca el 0 y devuelva un diccionario con la\n",
    "cantidad números pares e impares introducidos."
   ]
  },
  {
   "cell_type": "code",
   "execution_count": 53,
   "id": "69ff4e3f",
   "metadata": {},
   "outputs": [
    {
     "name": "stdout",
     "output_type": "stream",
     "text": [
      "Ingresa un número entero 5\n",
      "Ingresa un número entero 6\n",
      "Ingresa un número entero 8\n",
      "Ingresa un número entero 8\n",
      "Ingresa un número entero 8\n",
      "Ingresa un número entero 3\n",
      "Ingresa un número entero 291\n",
      "Ingresa un número entero 0\n",
      "{'Pares': 4, 'Impares': 3}\n"
     ]
    }
   ],
   "source": [
    "num = int(input(\"Ingresa un número entero: \"))\n",
    "par = 0\n",
    "impar = 0\n",
    "\n",
    "while num != 0:\n",
    "    if num % 2 == 0:\n",
    "        par += 1\n",
    "    else:\n",
    "        impar += 1\n",
    "    num = int(input(\"Ingresa un número entero: \"))\n",
    "    \n",
    "dicc = {\"Pares\" : par, \"Impares\" : impar}\n",
    "print(dicc)"
   ]
  },
  {
   "cell_type": "markdown",
   "id": "52199ca8",
   "metadata": {},
   "source": [
    "### Ejercicio 6\n",
    "Crea un programa que permita al usuario introducir los nombres de los alumnos de una clase y las notas que\n",
    "han obtenido. Cada alumno puede tener distinta cantidad de notas. Guarda la información en un diccionario\n",
    "cuyas claves serán los nombres de los alumnos y los valores serán listas con las notas de cada alumno.\n",
    "\n",
    "El programa va a pedir el número de alumnos que vamos a introducir, pedirá su nombre e irá pidiendo sus\n",
    "notas hasta que introduzcamos un número negativo. Al final el programa nos mostrará la lista de alumnos\n",
    "y la nota media obtenida por cada uno de ellos.\n",
    "\n",
    "PISTA: Vas a necesitar la función sum().\n"
   ]
  },
  {
   "cell_type": "code",
   "execution_count": 61,
   "id": "9c496de7",
   "metadata": {},
   "outputs": [
    {
     "name": "stdout",
     "output_type": "stream",
     "text": [
      "Ingrese el nombre del alumno fdfd\n",
      "Ingresa las notas del estudiante 5\n",
      "Ingresa las notas del estudiante 5\n",
      "Ingresa las notas del estudiante 5\n",
      "Ingresa las notas del estudiante 5\n",
      "Ingresa las notas del estudiante 6\n",
      "Ingresa las notas del estudiante 0\n",
      "Ingrese el nombre del alumno fdfs\n",
      "Ingresa las notas del estudiante 5\n",
      "Ingresa las notas del estudiante 6\n",
      "Ingresa las notas del estudiante 6\n",
      "Ingresa las notas del estudiante 6\n",
      "Ingresa las notas del estudiante 6\n",
      "Ingresa las notas del estudiante 0\n",
      "Ingrese el nombre del alumno \n",
      "\n",
      "fdfd : 5.2\n",
      "fdfs : 5.8\n"
     ]
    }
   ],
   "source": [
    "dicc = {}\n",
    "alumno = input(\"Ingrese el nombre del alumno: \")\n",
    "\n",
    "while alumno != \"\":\n",
    "    dicc[alumno] = []\n",
    "    notas = int(input(\"Ingresa las notas del estudiante: \"))\n",
    "    while notas > 0:\n",
    "        dicc[alumno].append(notas)\n",
    "        notas = int(input(\"Ingresa las notas del estudiante: \"))\n",
    "    alumno = input(\"Ingrese el nombre del alumno: \")\n",
    "print(\"\")\n",
    "\n",
    "for i in dicc:\n",
    "    print(i, \":\", sum(dicc[i])/len(dicc[i]))\n",
    "\n"
   ]
  },
  {
   "cell_type": "markdown",
   "id": "a735ef49",
   "metadata": {},
   "source": [
    "### Ejercicio 7\n",
    "Crea un programa que pida un número entero positivo por teclado y que cree un diccionario cuyas claves\n",
    "sean desde el número 1 hasta el número indicado. Los valores de cada clave serán tantos símbolos \"*\" como\n",
    "indique la clave."
   ]
  },
  {
   "cell_type": "code",
   "execution_count": 62,
   "id": "eb562858",
   "metadata": {},
   "outputs": [
    {
     "name": "stdout",
     "output_type": "stream",
     "text": [
      "Ingresa un número entero 5\n",
      "{1: '*', 2: '**', 3: '***', 4: '****', 5: '*****'}\n"
     ]
    }
   ],
   "source": [
    "num = int(input(\"Ingresa un número entero: \"))\n",
    "dicc = {}\n",
    "\n",
    "for i in range(1, num + 1):\n",
    "    dicc[i] = i * \"*\"\n",
    "\n",
    "print(dicc)"
   ]
  },
  {
   "cell_type": "markdown",
   "id": "c95b2c94",
   "metadata": {},
   "source": [
    "### Ejercicio 8\n",
    "Crea un programa que pida el número de palabras a introducir. Crear un diccionario de clave la palabra y\n",
    "de valor la longitud de dicha palabra.\n"
   ]
  },
  {
   "cell_type": "code",
   "execution_count": 64,
   "id": "89b4e00d",
   "metadata": {},
   "outputs": [
    {
     "name": "stdout",
     "output_type": "stream",
     "text": [
      "Ingrese el número de palabras deseadas 3\n",
      "Ingrese la palabra deseada Claudia\n",
      "Ingrese la palabra deseada Ospina\n",
      "Ingrese la palabra deseada Grajales\n",
      "{'Claudia': 7, 'Ospina': 6, 'Grajales': 8}\n"
     ]
    }
   ],
   "source": [
    "numpal = int(input(\"Ingrese el número de palabras deseadas: \"))\n",
    "dicc = {}\n",
    "\n",
    "for i in range(numpal):\n",
    "    palabra = input(\"Ingrese la palabra deseada: \")\n",
    "    dicc[palabra] = len(palabra)\n",
    "\n",
    "print(dicc)"
   ]
  },
  {
   "cell_type": "markdown",
   "id": "e2bf3dd4",
   "metadata": {},
   "source": [
    "### Ejercicio 9\n",
    "Crea un programa que pida el número de palabras a introducir. Crear un diccionario de clave la palabra y\n",
    "de valor el número de vocales de la palabra."
   ]
  },
  {
   "cell_type": "code",
   "execution_count": 66,
   "id": "e6de6a07",
   "metadata": {},
   "outputs": [
    {
     "name": "stdout",
     "output_type": "stream",
     "text": [
      "Ingrese el número de palabras deseadas: 3\n",
      "Ingrese la palabra deseada: Claudia\n",
      "Ingrese la palabra deseada: Ospina\n",
      "Ingrese la palabra deseada: Grajales\n",
      "{'claudia': 4, 'ospina': 3, 'grajales': 3}\n"
     ]
    }
   ],
   "source": [
    "numpal = int(input(\"Ingrese el número de palabras deseadas: \"))\n",
    "dicc = {}\n",
    "vocal = [\"a\", \"e\", \"i\", \"o\", \"u\"]\n",
    "\n",
    "for i in range(numpal):\n",
    "    palabra = input(\"Ingrese la palabra deseada: \").lower()\n",
    "    vocales = 0\n",
    "    for letra in palabra:\n",
    "        if letra in vocal:\n",
    "            vocales += 1\n",
    "    dicc[palabra] = vocales\n",
    "\n",
    "print(dicc)"
   ]
  },
  {
   "cell_type": "markdown",
   "id": "cdc1fd51",
   "metadata": {},
   "source": [
    "### Ejercicio 10\n",
    "Dada una matriz, crea un diccionario que guarde el número de filas, el de columnas y cada fila en una entrada\n",
    "de un diccionario."
   ]
  },
  {
   "cell_type": "code",
   "execution_count": 68,
   "id": "e1907941",
   "metadata": {},
   "outputs": [
    {
     "name": "stdout",
     "output_type": "stream",
     "text": [
      "[[0.45778896 0.27687473 0.15682104 0.14742168]\n",
      " [0.08143394 0.36633248 0.80513423 0.46419732]\n",
      " [0.15083162 0.66678566 0.49618669 0.74797983]]\n",
      "{'Filas': 3, 'Columnas': 4}\n"
     ]
    }
   ],
   "source": [
    "import numpy as np\n",
    "matriz = np.random.rand(3, 4)\n",
    "print(matriz)\n",
    "\n",
    "dicc = {\"Filas\": len(matriz), \"Columnas\": len(matriz[0])}\n",
    "print(dicc)"
   ]
  }
 ],
 "metadata": {
  "kernelspec": {
   "display_name": "Python 3",
   "language": "python",
   "name": "python3"
  },
  "language_info": {
   "codemirror_mode": {
    "name": "ipython",
    "version": 3
   },
   "file_extension": ".py",
   "mimetype": "text/x-python",
   "name": "python",
   "nbconvert_exporter": "python",
   "pygments_lexer": "ipython3",
   "version": "3.8.8"
  }
 },
 "nbformat": 4,
 "nbformat_minor": 5
}
