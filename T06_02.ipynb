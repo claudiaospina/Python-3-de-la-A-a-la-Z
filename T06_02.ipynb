{
  "nbformat": 4,
  "nbformat_minor": 0,
  "metadata": {
    "colab": {
      "name": "T06-02.ipynb",
      "provenance": [],
      "collapsed_sections": [],
      "include_colab_link": true
    },
    "kernelspec": {
      "name": "python3",
      "display_name": "Python 3"
    }
  },
  "cells": [
    {
      "cell_type": "markdown",
      "metadata": {
        "id": "view-in-github",
        "colab_type": "text"
      },
      "source": [
        "<a href=\"https://colab.research.google.com/github/claudiaospina/Python-3-de-la-A-a-la-Z/blob/main/T06_02.ipynb\" target=\"_parent\"><img src=\"https://colab.research.google.com/assets/colab-badge.svg\" alt=\"Open In Colab\"/></a>"
      ]
    },
    {
      "cell_type": "markdown",
      "metadata": {
        "id": "Na9oJ-G9ILM6"
      },
      "source": [
        "# Ejercicio\n",
        "\n",
        "Dada una lista de caracteres, le pediremos al usuario qué elemento quiere eliminar y lo eliminaremos de la lista."
      ]
    },
    {
      "cell_type": "code",
      "metadata": {
        "colab": {
          "base_uri": "https://localhost:8080/"
        },
        "id": "pt9PXWmLbT_D",
        "outputId": "4e8a44f7-a8c6-46d8-f2b0-ef5182e50d6c"
      },
      "source": [
        "l = [\"m\", \"a\", \"r\", \"j\", \"b\", \"g\", \"i\", \"s\", \"f\", \"g\"]\n",
        "print(\"Esta es la lista original:\", l)\n",
        "c = input(\"Introduce el elemento que quieres eliminar \")\n",
        "\n",
        "for e in l:\n",
        "  if e == c:\n",
        "    l.remove(e)\n",
        "\n",
        "print(\"Esta es la lista actualizada\", l)"
      ],
      "execution_count": null,
      "outputs": [
        {
          "output_type": "stream",
          "text": [
            "Esta es la lista original: ['m', 'a', 'r', 'j', 'b', 'g', 'i', 's', 'f', 'g']\n",
            "Introduce el elemento que quieres eliminar g\n",
            "Esta es la lista actualizada ['m', 'a', 'r', 'j', 'b', 'i', 's', 'f']\n"
          ],
          "name": "stdout"
        }
      ]
    }
  ]
}