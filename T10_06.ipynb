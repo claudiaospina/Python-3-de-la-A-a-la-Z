{
  "nbformat": 4,
  "nbformat_minor": 0,
  "metadata": {
    "colab": {
      "name": "T10-06.ipynb",
      "provenance": [],
      "collapsed_sections": [],
      "include_colab_link": true
    },
    "kernelspec": {
      "name": "python3",
      "display_name": "Python 3"
    }
  },
  "cells": [
    {
      "cell_type": "markdown",
      "metadata": {
        "id": "view-in-github",
        "colab_type": "text"
      },
      "source": [
        "<a href=\"https://colab.research.google.com/github/claudiaospina/Python-3-de-la-A-a-la-Z/blob/main/T10_06.ipynb\" target=\"_parent\"><img src=\"https://colab.research.google.com/assets/colab-badge.svg\" alt=\"Open In Colab\"/></a>"
      ]
    },
    {
      "cell_type": "markdown",
      "metadata": {
        "id": "5ZU7Fofwabom"
      },
      "source": [
        "# Ejercicio"
      ]
    },
    {
      "cell_type": "markdown",
      "metadata": {
        "id": "XrRL1-eIadNg"
      },
      "source": [
        "Vamos a crear una función que haga de calculadora (suma, resta, producto y división), haciendo uso de funciones helper para mostrar la operación realizada. Pediremos por parámetro tipo de operación (\"sum\", \"subract\", \"product\", \"division\") y dos números reales. Devolveremos el resultado de la operación correspondiente."
      ]
    },
    {
      "cell_type": "code",
      "metadata": {
        "id": "AMFhgyAdaXvB"
      },
      "source": [
        "def calculator(operation, x, y):\n",
        "  \"\"\"\n",
        "  Resuelve la operación aritmética correspondiente para los valores x e y\n",
        "  Args:\n",
        "    operation: String que indica la operación aritmética a realizar (sum, subtract, product, division)\n",
        "    x: Número real\n",
        "    y: Número real\n",
        "  Returns:\n",
        "    result: Número real solución de la operación aritmética indicada para los valores x e y\n",
        "  \"\"\"\n",
        "  operation = operation.lower()\n",
        "  if operation == \"sum\":\n",
        "    result = x + y\n",
        "  elif operation == \"subtract\":\n",
        "    result = x - y\n",
        "  elif operation == \"product\":\n",
        "    result = x * y\n",
        "  elif operation == \"division\":\n",
        "    result = x / y\n",
        "  else:\n",
        "    print(\"Has indicado una operación que esta calculadora no puede resolver.\")\n",
        "    result = \"NULL\"\n",
        "\n",
        "  if result != \"NULL\":\n",
        "    helper(operation, x, y)\n",
        "    return result\n",
        "\n",
        "def helper(operation, x, y):\n",
        "  \"\"\"\n",
        "  Indica la operación realizada e imprime el resultado\n",
        "  Args:\n",
        "    operation: String que indica la operación aritmética a realizar (sum, subtract, product, division)\n",
        "    x: Número real\n",
        "    y: Número real\n",
        "  \"\"\"\n",
        "  if operation == \"sum\":\n",
        "    sign = \"+\"\n",
        "  elif operation == \"subtract\":\n",
        "    sign = \"-\"\n",
        "  elif operation == \"product\":\n",
        "    sign = \"x\"\n",
        "  elif operation == \"division\":\n",
        "    sign = \":\"\n",
        "\n",
        "  print(\"Se ha realizado la operación {} {} {}\".format(x, sign, y))\n"
      ],
      "execution_count": null,
      "outputs": []
    },
    {
      "cell_type": "code",
      "metadata": {
        "colab": {
          "base_uri": "https://localhost:8080/"
        },
        "id": "LLrqp8OF-BMf",
        "outputId": "4cbaa417-a626-48c5-b04c-df15eb4a2dd3"
      },
      "source": [
        "print(calculator(\"Sum\", 5, 2))\n",
        "print(calculator(\"subtract\", 5, 2))\n",
        "print(calculator(\"Product\", 5, 2))\n",
        "print(calculator(\"division\", 5, 2))\n",
        "print(calculator(\"module\", 5, 2))"
      ],
      "execution_count": null,
      "outputs": [
        {
          "output_type": "stream",
          "text": [
            "Se ha realizado la operación 5 + 2\n",
            "7\n",
            "Se ha realizado la operación 5 - 2\n",
            "3\n",
            "Se ha realizado la operación 5 x 2\n",
            "10\n",
            "Se ha realizado la operación 5 : 2\n",
            "2.5\n",
            "Has indicado una operación que esta calculadora no puede resolver.\n",
            "None\n"
          ],
          "name": "stdout"
        }
      ]
    }
  ]
}