{
  "nbformat": 4,
  "nbformat_minor": 0,
  "metadata": {
    "colab": {
      "name": "T04-02.ipynb",
      "provenance": [],
      "collapsed_sections": [],
      "include_colab_link": true
    },
    "kernelspec": {
      "name": "python3",
      "display_name": "Python 3"
    }
  },
  "cells": [
    {
      "cell_type": "markdown",
      "metadata": {
        "id": "view-in-github",
        "colab_type": "text"
      },
      "source": [
        "<a href=\"https://colab.research.google.com/github/claudiaospina/Python-3-de-la-A-a-la-Z/blob/main/T04_02.ipynb\" target=\"_parent\"><img src=\"https://colab.research.google.com/assets/colab-badge.svg\" alt=\"Open In Colab\"/></a>"
      ]
    },
    {
      "cell_type": "markdown",
      "metadata": {
        "id": "03qOS6hCSMvB"
      },
      "source": [
        "# Ejercicio\n",
        "\n",
        "Vamos a hacer un programa que resuelva ecuaciones de primer grado de la forma $Ax + B = 0$ proporcionadas por el usuario donde $A \\ne 0$."
      ]
    },
    {
      "cell_type": "code",
      "metadata": {
        "colab": {
          "base_uri": "https://localhost:8080/"
        },
        "id": "2BuYR41XSKuf",
        "outputId": "445e7aac-7818-4336-bf16-0b8ad7705602"
      },
      "source": [
        "A = float(input(\"Coeficiente A = \"))\n",
        "B = float(input(\"Coeficiente B = \"))\n",
        "\n",
        "if A != 0:\n",
        "  sol = -B / A\n",
        "  print(\"La solución es x =\", sol)\n",
        "else:\n",
        "  print(\"No hay ecuación que resolver, porque A = 0\")"
      ],
      "execution_count": null,
      "outputs": [
        {
          "output_type": "stream",
          "text": [
            "Coeficiente A = 0\n",
            "Coeficiente B = 7\n",
            "No hay ecuación que resolver, porque A = 0\n"
          ],
          "name": "stdout"
        }
      ]
    }
  ]
}