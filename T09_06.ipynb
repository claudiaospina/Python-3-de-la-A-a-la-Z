{
  "nbformat": 4,
  "nbformat_minor": 0,
  "metadata": {
    "colab": {
      "name": "T09-06.ipynb",
      "provenance": [],
      "collapsed_sections": [],
      "include_colab_link": true
    },
    "kernelspec": {
      "name": "python3",
      "display_name": "Python 3"
    }
  },
  "cells": [
    {
      "cell_type": "markdown",
      "metadata": {
        "id": "view-in-github",
        "colab_type": "text"
      },
      "source": [
        "<a href=\"https://colab.research.google.com/github/claudiaospina/Python-3-de-la-A-a-la-Z/blob/main/T09_06.ipynb\" target=\"_parent\"><img src=\"https://colab.research.google.com/assets/colab-badge.svg\" alt=\"Open In Colab\"/></a>"
      ]
    },
    {
      "cell_type": "markdown",
      "metadata": {
        "id": "8scfmlAjHdBV"
      },
      "source": [
        "# Ejercicio\n",
        "\n",
        "Dada una lista de palabras, vamos a crear otra lista del mismo tamaño que guarde la primera letra de cada palabra en la posición correspondiente. Por último, con la función `zip()` crearemos una tupla de tuplas con la palabra en la primera entrada y la letra con la que empieza, en la segunda."
      ]
    },
    {
      "cell_type": "code",
      "metadata": {
        "id": "ubUJMpiQDOXS",
        "colab": {
          "base_uri": "https://localhost:8080/"
        },
        "outputId": "59875ee7-7b56-42ee-aff0-2440f2a71c3a"
      },
      "source": [
        "words = [\"ola\", \"caracola\", \"piña\", \"playa\", \"barbacoa\", \"ventana\", \"mosca\"]\n",
        "first_letters = []\n",
        "\n",
        "for w in words:\n",
        "  first_letters.append(w[0])\n",
        "\n",
        "print(tuple(zip(words, first_letters)))"
      ],
      "execution_count": null,
      "outputs": [
        {
          "output_type": "stream",
          "text": [
            "(('ola', 'o'), ('caracola', 'c'), ('piña', 'p'), ('playa', 'p'), ('barbacoa', 'b'), ('ventana', 'v'), ('mosca', 'm'))\n"
          ],
          "name": "stdout"
        }
      ]
    }
  ]
}