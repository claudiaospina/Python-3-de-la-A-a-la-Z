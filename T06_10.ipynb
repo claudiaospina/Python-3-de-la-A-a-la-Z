{
  "nbformat": 4,
  "nbformat_minor": 0,
  "metadata": {
    "colab": {
      "name": "T06-10.ipynb",
      "provenance": [],
      "collapsed_sections": [],
      "include_colab_link": true
    },
    "kernelspec": {
      "name": "python3",
      "display_name": "Python 3"
    }
  },
  "cells": [
    {
      "cell_type": "markdown",
      "metadata": {
        "id": "view-in-github",
        "colab_type": "text"
      },
      "source": [
        "<a href=\"https://colab.research.google.com/github/claudiaospina/Python-3-de-la-A-a-la-Z/blob/main/T06_10.ipynb\" target=\"_parent\"><img src=\"https://colab.research.google.com/assets/colab-badge.svg\" alt=\"Open In Colab\"/></a>"
      ]
    },
    {
      "cell_type": "markdown",
      "metadata": {
        "id": "neCpomHqW6uo"
      },
      "source": [
        "# Ejercicio\n",
        "\n",
        "Vamos a multiplicar dos matrices con `numpy`. Ambas matrices serán proporcionadas por el usuario, así como la dimensión de ambas."
      ]
    },
    {
      "cell_type": "code",
      "metadata": {
        "id": "yT8MB0mCHjUq",
        "colab": {
          "base_uri": "https://localhost:8080/"
        },
        "outputId": "801ba016-bf76-4fd9-d9bd-0a02d5674fe7"
      },
      "source": [
        "import numpy as np\n",
        "n = int(input(\"Número de filas de A: \"))\n",
        "m = int(input(\"Número de columnas de A: \"))\n",
        "p = int(input(\"Número de columnas de B: \"))\n",
        "\n",
        "A = np.empty((n, m))\n",
        "print(\"\\n=== Matriz A ===\")\n",
        "for i in range(n):\n",
        "  for j in range(m):\n",
        "    A[i, j] = float(input(\"Introduce el elemento ({},{}) \".format(i, j)))\n",
        "\n",
        "B = np.empty((m, p))\n",
        "print(\"\\n=== Matriz B ===\")\n",
        "for i in range(m):\n",
        "  for j in range(p):\n",
        "    B[i, j] = float(input(\"Introduce el elemento ({},{}) \".format(i, j)))\n",
        "\n",
        "print(\"\\n=== Matriz A · B ===\")\n",
        "print(A.dot(B))"
      ],
      "execution_count": null,
      "outputs": [
        {
          "output_type": "stream",
          "text": [
            "Número de filas de A: 3\n",
            "Número de columnas de A: 2\n",
            "Número de columnas de B: 3\n",
            "\n",
            "=== Matriz A ===\n",
            "Introduce el elemento (0,0) 1\n",
            "Introduce el elemento (0,1) 0\n",
            "Introduce el elemento (1,0) 0\n",
            "Introduce el elemento (1,1) 1\n",
            "Introduce el elemento (2,0) 0\n",
            "Introduce el elemento (2,1) 1\n",
            "\n",
            "=== Matriz B ===\n",
            "Introduce el elemento (0,0) 3\n",
            "Introduce el elemento (0,1) 2\n",
            "Introduce el elemento (0,2) 0\n",
            "Introduce el elemento (1,0) 1\n",
            "Introduce el elemento (1,1) 1\n",
            "Introduce el elemento (1,2) -1\n",
            "\n",
            "=== Matriz A · B ===\n",
            "[[ 3.  2.  0.]\n",
            " [ 1.  1. -1.]\n",
            " [ 1.  1. -1.]]\n"
          ],
          "name": "stdout"
        }
      ]
    },
    {
      "cell_type": "code",
      "metadata": {
        "id": "C6zGR4314Ku4"
      },
      "source": [
        ""
      ],
      "execution_count": null,
      "outputs": []
    }
  ]
}