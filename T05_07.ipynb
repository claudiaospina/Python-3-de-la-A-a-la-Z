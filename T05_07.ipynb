{
  "nbformat": 4,
  "nbformat_minor": 0,
  "metadata": {
    "colab": {
      "name": "T05-07.ipynb",
      "provenance": [],
      "collapsed_sections": [],
      "include_colab_link": true
    },
    "kernelspec": {
      "name": "python3",
      "display_name": "Python 3"
    }
  },
  "cells": [
    {
      "cell_type": "markdown",
      "metadata": {
        "id": "view-in-github",
        "colab_type": "text"
      },
      "source": [
        "<a href=\"https://colab.research.google.com/github/claudiaospina/Python-3-de-la-A-a-la-Z/blob/main/T05_07.ipynb\" target=\"_parent\"><img src=\"https://colab.research.google.com/assets/colab-badge.svg\" alt=\"Open In Colab\"/></a>"
      ]
    },
    {
      "cell_type": "markdown",
      "metadata": {
        "id": "6uYR4MQmY82q"
      },
      "source": [
        "# Ejercicio\n",
        "\n",
        "Con un bucle `for`, vamos a recorrer un string dado y vamos a imprimir todas las letras salvo por la letra indicada por el usuario."
      ]
    },
    {
      "cell_type": "code",
      "metadata": {
        "id": "uFJspYMzR1yg",
        "colab": {
          "base_uri": "https://localhost:8080/"
        },
        "outputId": "980f9c89-6a70-46d0-8200-a2cdee4a1e74"
      },
      "source": [
        "s = \"Predecir el futuro resulta ser un negocio muy difícil en sí\"\n",
        "print(\"El string original es:\", s)\n",
        "letter = input(\"Introduce la letra que quieras eliminar del string original: \")\n",
        "\n",
        "s = s.lower()\n",
        "letter = letter.lower()\n",
        "\n",
        "for c in s:\n",
        "  if c == letter:\n",
        "    continue\n",
        "  else:\n",
        "    print(c, end = \"\")"
      ],
      "execution_count": null,
      "outputs": [
        {
          "output_type": "stream",
          "text": [
            "El string original es: Predecir el futuro resulta ser un negocio muy difícil en sí\n",
            "Introduce la letra que quieras eliminar del string original: p\n",
            "redecir el futuro resulta ser un negocio muy difícil en sí"
          ],
          "name": "stdout"
        }
      ]
    }
  ]
}