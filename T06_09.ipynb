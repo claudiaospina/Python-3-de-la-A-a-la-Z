{
  "nbformat": 4,
  "nbformat_minor": 0,
  "metadata": {
    "colab": {
      "name": "T06-09.ipynb",
      "provenance": [],
      "collapsed_sections": [],
      "include_colab_link": true
    },
    "kernelspec": {
      "name": "python3",
      "display_name": "Python 3"
    }
  },
  "cells": [
    {
      "cell_type": "markdown",
      "metadata": {
        "id": "view-in-github",
        "colab_type": "text"
      },
      "source": [
        "<a href=\"https://colab.research.google.com/github/claudiaospina/Python-3-de-la-A-a-la-Z/blob/main/T06_09.ipynb\" target=\"_parent\"><img src=\"https://colab.research.google.com/assets/colab-badge.svg\" alt=\"Open In Colab\"/></a>"
      ]
    },
    {
      "cell_type": "markdown",
      "metadata": {
        "id": "knXLyqKyVyIq"
      },
      "source": [
        "# Ejercicio\n",
        "\n",
        "Vamos a sumar dos matrices con `numpy`. Ambas matrices las proporcionará el usuario, así como sus dimensiones."
      ]
    },
    {
      "cell_type": "code",
      "metadata": {
        "id": "WELgfcGbHhMj",
        "colab": {
          "base_uri": "https://localhost:8080/"
        },
        "outputId": "33b9ddda-d5b0-44e7-d2a6-553f3e8024b6"
      },
      "source": [
        "import numpy as np\n",
        "n = int(input(\"Número de filas: \"))\n",
        "m = int(input(\"Número de columnas: \"))\n",
        "\n",
        "A = np.empty((n, m))\n",
        "print(\"\\n=== Matriz A ===\")\n",
        "for i in range(n):\n",
        "  for j in range(m):\n",
        "    A[i, j] = float(input(\"Introduce el elemento ({},{}) \".format(i, j)))\n",
        "\n",
        "B = np.empty((n, m))\n",
        "print(\"\\n=== Matriz B ===\")\n",
        "for i in range(n):\n",
        "  for j in range(m):\n",
        "    B[i, j] = float(input(\"Introduce el elemento ({},{}) \".format(i, j)))\n",
        "\n",
        "print(\"\\n=== Matriz A + B ===\")\n",
        "print(A + B)"
      ],
      "execution_count": null,
      "outputs": [
        {
          "output_type": "stream",
          "text": [
            "Número de filas: 4\n",
            "Número de columnas: 2\n",
            "\n",
            "=== Matriz A ===\n",
            "Introduce el elemento (0,0) 1\n",
            "Introduce el elemento (0,1) 0\n",
            "Introduce el elemento (1,0) 0\n",
            "Introduce el elemento (1,1) -2\n",
            "Introduce el elemento (2,0) 1\n",
            "Introduce el elemento (2,1) -1\n",
            "Introduce el elemento (3,0) 0\n",
            "Introduce el elemento (3,1) 3\n",
            "\n",
            "=== Matriz B ===\n",
            "Introduce el elemento (0,0) 9\n",
            "Introduce el elemento (0,1) 8\n",
            "Introduce el elemento (1,0) 7\n",
            "Introduce el elemento (1,1) 6\n",
            "Introduce el elemento (2,0) 3\n",
            "Introduce el elemento (2,1) 2\n",
            "Introduce el elemento (3,0) 1\n",
            "Introduce el elemento (3,1) 0\n",
            "\n",
            "=== Matriz A + B ===\n",
            "[[10.  8.]\n",
            " [ 7.  4.]\n",
            " [ 4.  1.]\n",
            " [ 1.  3.]]\n"
          ],
          "name": "stdout"
        }
      ]
    }
  ]
}