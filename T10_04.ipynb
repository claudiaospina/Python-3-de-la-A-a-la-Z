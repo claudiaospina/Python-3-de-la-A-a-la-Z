{
  "nbformat": 4,
  "nbformat_minor": 0,
  "metadata": {
    "colab": {
      "name": "T10-04.ipynb",
      "provenance": [],
      "collapsed_sections": [],
      "include_colab_link": true
    },
    "kernelspec": {
      "name": "python3",
      "display_name": "Python 3"
    }
  },
  "cells": [
    {
      "cell_type": "markdown",
      "metadata": {
        "id": "view-in-github",
        "colab_type": "text"
      },
      "source": [
        "<a href=\"https://colab.research.google.com/github/claudiaospina/Python-3-de-la-A-a-la-Z/blob/main/T10_04.ipynb\" target=\"_parent\"><img src=\"https://colab.research.google.com/assets/colab-badge.svg\" alt=\"Open In Colab\"/></a>"
      ]
    },
    {
      "cell_type": "markdown",
      "metadata": {
        "id": "AxvXo6ZEWSdn"
      },
      "source": [
        "# Ejercicio"
      ]
    },
    {
      "cell_type": "markdown",
      "metadata": {
        "id": "aKpp68ONWZhx"
      },
      "source": [
        "Vamos a crear una función recursiva que calcule el [factorial](https://es.wikipedia.org/wiki/Factorial) de un número entero positivo."
      ]
    },
    {
      "cell_type": "code",
      "metadata": {
        "id": "cqksTpSqWQby"
      },
      "source": [
        "def factorial(n):\n",
        "  \"\"\"\n",
        "  Calcula el factorial de un número entero positivo\n",
        "  Args:\n",
        "    n: Número entero positivo\n",
        "  Returns:\n",
        "    Factorial de n\n",
        "  \"\"\"\n",
        "  if n == 0:\n",
        "    return 1\n",
        "  return n * factorial(n - 1)"
      ],
      "execution_count": null,
      "outputs": []
    },
    {
      "cell_type": "code",
      "metadata": {
        "colab": {
          "base_uri": "https://localhost:8080/"
        },
        "id": "fnGf8qig5ZvX",
        "outputId": "3accacf4-24f7-4c09-c680-94f1ae013376"
      },
      "source": [
        "factorial(6)"
      ],
      "execution_count": null,
      "outputs": [
        {
          "output_type": "execute_result",
          "data": {
            "text/plain": [
              "720"
            ]
          },
          "metadata": {
            "tags": []
          },
          "execution_count": 4
        }
      ]
    }
  ]
}