{
  "nbformat": 4,
  "nbformat_minor": 0,
  "metadata": {
    "colab": {
      "name": "T03-04.ipynb",
      "provenance": [],
      "collapsed_sections": [],
      "include_colab_link": true
    },
    "kernelspec": {
      "name": "python3",
      "display_name": "Python 3"
    }
  },
  "cells": [
    {
      "cell_type": "markdown",
      "metadata": {
        "id": "view-in-github",
        "colab_type": "text"
      },
      "source": [
        "<a href=\"https://colab.research.google.com/github/claudiaospina/Python-3-de-la-A-a-la-Z/blob/main/T03_04.ipynb\" target=\"_parent\"><img src=\"https://colab.research.google.com/assets/colab-badge.svg\" alt=\"Open In Colab\"/></a>"
      ]
    },
    {
      "cell_type": "markdown",
      "metadata": {
        "id": "ZfRrR6Hi4HWc"
      },
      "source": [
        "# Ejercicio\n",
        "\n",
        "Vamos a pedirle al usuario palabras o frases y le vamos a devolver el mismo string modificado con alguno de los métodos aprendidos según se indique:\n",
        "\n",
        "1. Devolver la palabra en mayúscula\n",
        "2. Devolver la frase con todas las palabras empezando en mayúscula\n",
        "3. Devolver la palabra (con 3 o más letras) con todas las letras en minúscula salvo la tercera letra\n",
        "4. Devolver la palabra con todas las letras en mayúsculas salvo la primera y la última\n",
        "5. Devolver la frase donde cada vez que aparezcan las dos primeras letras de la primera palabra, sean substituidas por cualesquiera otras dos letras."
      ]
    },
    {
      "cell_type": "markdown",
      "metadata": {
        "id": "B4Mkrqc2FbM2"
      },
      "source": [
        "## Apartado 1"
      ]
    },
    {
      "cell_type": "code",
      "metadata": {
        "colab": {
          "base_uri": "https://localhost:8080/"
        },
        "id": "dtxM2cHtHLVK",
        "outputId": "7cf6e7ca-66bd-400b-bd50-ecc44cf812e8"
      },
      "source": [
        "print(\"Introduce una palabra y yo te la devuelvo en mayúsculas\")\n",
        "word = input()\n",
        "print(word.upper())"
      ],
      "execution_count": null,
      "outputs": [
        {
          "output_type": "stream",
          "text": [
            "Introduce una palabra y yo te la devuelvo en mayúsculas\n",
            "hámster\n",
            "HÁMSTER\n"
          ],
          "name": "stdout"
        }
      ]
    },
    {
      "cell_type": "markdown",
      "metadata": {
        "id": "wG2aOe4DFd6s"
      },
      "source": [
        "## Apartado 2\n"
      ]
    },
    {
      "cell_type": "code",
      "metadata": {
        "colab": {
          "base_uri": "https://localhost:8080/"
        },
        "id": "K0BN-B4tHK5I",
        "outputId": "5a0c9bd9-66d0-439b-ea6e-67eacf375439"
      },
      "source": [
        "print(\"Introduce una frase y yo te devuelvo todas las palabras empezando en mayúscula\")\n",
        "s = input()\n",
        "print(s.title())"
      ],
      "execution_count": null,
      "outputs": [
        {
          "output_type": "stream",
          "text": [
            "Introduce una frase y yo te devuelvo todas las palabras empezando en mayúscula\n",
            "un día vi a una vaca vestida de uniforme\n",
            "Un Día Vi A Una Vaca Vestida De Uniforme\n"
          ],
          "name": "stdout"
        }
      ]
    },
    {
      "cell_type": "markdown",
      "metadata": {
        "id": "MyfS3RuKFfEY"
      },
      "source": [
        "## Apartado 3"
      ]
    },
    {
      "cell_type": "code",
      "metadata": {
        "colab": {
          "base_uri": "https://localhost:8080/"
        },
        "id": "gDv_0ip_Ffw2",
        "outputId": "6f613e70-0afe-4563-bb91-873dceeef91a"
      },
      "source": [
        "print(\"Introduce una palabra con 3 letras o más y yo te devuelvo todas sus letras en minúscula salvo la tercera\")\n",
        "word = input()\n",
        "word = word[:2].lower() + word[2].upper() + word[3:].lower()\n",
        "print(word)"
      ],
      "execution_count": null,
      "outputs": [
        {
          "output_type": "stream",
          "text": [
            "Introduce una palabra con 3 letras o más y yo te devuelvo todas sus letras en minúscula salvo la tercera\n",
            "sol\n",
            "soL\n"
          ],
          "name": "stdout"
        }
      ]
    },
    {
      "cell_type": "markdown",
      "metadata": {
        "id": "5dKxDye0FgHY"
      },
      "source": [
        "## Apartado 4"
      ]
    },
    {
      "cell_type": "code",
      "metadata": {
        "colab": {
          "base_uri": "https://localhost:8080/"
        },
        "id": "RMDhq93TFgrg",
        "outputId": "b8bd683e-22c5-4592-8da7-9de080005bf5"
      },
      "source": [
        "print(\"Introduce una palabra y yo te devuelvo todas sus letras en mayúscula salvo la primera y la última\")\n",
        "word = input()\n",
        "word = word[0].lower() + word[1:(len(word) - 1)].upper() + word[-1].lower()\n",
        "print(word)"
      ],
      "execution_count": null,
      "outputs": [
        {
          "output_type": "stream",
          "text": [
            "Introduce una palabra y yo te devuelvo todas sus letras en mayúscula salvo la primera y la última\n",
            "pececito\n",
            "pECECITo\n"
          ],
          "name": "stdout"
        }
      ]
    },
    {
      "cell_type": "markdown",
      "metadata": {
        "id": "Y20GiIsvFhDt"
      },
      "source": [
        "## Apartado 5"
      ]
    },
    {
      "cell_type": "code",
      "metadata": {
        "colab": {
          "base_uri": "https://localhost:8080/"
        },
        "id": "LGJQG_cWFhvk",
        "outputId": "1f01a064-417c-4d9a-da24-67d94ebbf521"
      },
      "source": [
        "subs = \"asdf\"\n",
        "print(\"Introduce una frase y yo te la devuelvo sustituyendo las dos primeras letras de la primera palabra por las letras {}\".format(subs))\n",
        "s = input()\n",
        "print(s.replace(s[:2], subs))"
      ],
      "execution_count": 1,
      "outputs": [
        {
          "output_type": "stream",
          "text": [
            "Introduce una frase y yo te la devuelvo sustituyendo las dos primeras letras de la primera palabra por las letras asdf\n",
            "erre con erre cigarro\n",
            "asdfre con asdfre cigarro\n"
          ],
          "name": "stdout"
        }
      ]
    }
  ]
}