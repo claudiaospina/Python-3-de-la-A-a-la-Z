{
  "nbformat": 4,
  "nbformat_minor": 0,
  "metadata": {
    "colab": {
      "name": "T04-05.ipynb",
      "provenance": [],
      "collapsed_sections": [],
      "include_colab_link": true
    },
    "kernelspec": {
      "name": "python3",
      "display_name": "Python 3"
    }
  },
  "cells": [
    {
      "cell_type": "markdown",
      "metadata": {
        "id": "view-in-github",
        "colab_type": "text"
      },
      "source": [
        "<a href=\"https://colab.research.google.com/github/claudiaospina/Python-3-de-la-A-a-la-Z/blob/main/T04_05.ipynb\" target=\"_parent\"><img src=\"https://colab.research.google.com/assets/colab-badge.svg\" alt=\"Open In Colab\"/></a>"
      ]
    },
    {
      "cell_type": "markdown",
      "metadata": {
        "id": "1IiSFWk7UQYV"
      },
      "source": [
        "# Ejercicio\n",
        "\n",
        "Vamos a comprobar si un año es bisiesto o no.\n",
        "\n",
        "Un año es bisiesto si es divisible entre cuatro pero no es múltiplo de cien a no ser que lo sea de 400."
      ]
    },
    {
      "cell_type": "code",
      "metadata": {
        "colab": {
          "base_uri": "https://localhost:8080/"
        },
        "id": "D9teAvSjUNFX",
        "outputId": "f3614bd5-3bc2-4be7-e515-52829fbb1eab"
      },
      "source": [
        "year = int(input(\"Año: \"))\n",
        "\n",
        "if year % 4 == 0:\n",
        "  if year % 100 == 0:\n",
        "    if year % 400 == 0:\n",
        "      print(\"El año {} es bisiesto\".format(year))\n",
        "    else: print(\"El año {} no es bisiesto\".format(year))\n",
        "  else: print(\"El año {} es bisiesto\".format(year))\n",
        "else: print(\"El año {} no es bisiesto\".format(year))"
      ],
      "execution_count": null,
      "outputs": [
        {
          "output_type": "stream",
          "text": [
            "Año: 4\n",
            "El año 4 es bisiesto\n"
          ],
          "name": "stdout"
        }
      ]
    }
  ]
}