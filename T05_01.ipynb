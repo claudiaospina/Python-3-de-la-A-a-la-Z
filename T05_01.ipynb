{
  "nbformat": 4,
  "nbformat_minor": 0,
  "metadata": {
    "colab": {
      "name": "T05-01.ipynb",
      "provenance": [],
      "collapsed_sections": [],
      "include_colab_link": true
    },
    "kernelspec": {
      "name": "python3",
      "display_name": "Python 3"
    }
  },
  "cells": [
    {
      "cell_type": "markdown",
      "metadata": {
        "id": "view-in-github",
        "colab_type": "text"
      },
      "source": [
        "<a href=\"https://colab.research.google.com/github/claudiaospina/Python-3-de-la-A-a-la-Z/blob/main/T05_01.ipynb\" target=\"_parent\"><img src=\"https://colab.research.google.com/assets/colab-badge.svg\" alt=\"Open In Colab\"/></a>"
      ]
    },
    {
      "cell_type": "markdown",
      "metadata": {
        "id": "ywM9BGHtOOA0"
      },
      "source": [
        "# Ejercicio\n",
        "\n",
        "Con un bucle `while`, dado un string vamos a recorrer una frase y contar el número total de vocales."
      ]
    },
    {
      "cell_type": "code",
      "metadata": {
        "colab": {
          "base_uri": "https://localhost:8080/"
        },
        "id": "3gh_9wn2OLyp",
        "outputId": "d58aecb1-d559-4112-d330-5913f57442c9"
      },
      "source": [
        "s = \"El pato hace quack\"\n",
        "s = s.lower()\n",
        "\n",
        "i = 0\n",
        "count = 0\n",
        "while i < len(s):\n",
        "  if s[i] == \"a\" or s[i] == \"e\" or s[i] == \"i\" or s[i] == \"o\" or s[i] == \"u\":\n",
        "    count += 1\n",
        "  i += 1\n",
        "\n",
        "print(\"En total hay\", count, \"vocales\") "
      ],
      "execution_count": null,
      "outputs": [
        {
          "output_type": "stream",
          "text": [
            "En total hay 7 vocales\n"
          ],
          "name": "stdout"
        }
      ]
    }
  ]
}