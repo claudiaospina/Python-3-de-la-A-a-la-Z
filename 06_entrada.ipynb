{
  "nbformat": 4,
  "nbformat_minor": 0,
  "metadata": {
    "colab": {
      "name": "06-entrada.ipynb",
      "provenance": [],
      "collapsed_sections": [],
      "include_colab_link": true
    },
    "kernelspec": {
      "name": "python3",
      "display_name": "Python 3"
    }
  },
  "cells": [
    {
      "cell_type": "markdown",
      "metadata": {
        "id": "view-in-github",
        "colab_type": "text"
      },
      "source": [
        "<a href=\"https://colab.research.google.com/github/claudiaospina/Python-3-de-la-A-a-la-Z/blob/main/06_entrada.ipynb\" target=\"_parent\"><img src=\"https://colab.research.google.com/assets/colab-badge.svg\" alt=\"Open In Colab\"/></a>"
      ]
    },
    {
      "cell_type": "markdown",
      "metadata": {
        "id": "GOuE0qc8U4pO"
      },
      "source": [
        "# La lista de la compra"
      ]
    },
    {
      "cell_type": "markdown",
      "metadata": {
        "id": "psyHuCb7VUha"
      },
      "source": [
        "Una vez acabada la canción, Pyratilla ya tiene a su tripulación elegida.\n",
        "\n",
        "En primer lugar, gracias al filtro de peticiones consiguió reducir todos los candidatos a 20. Después de leer las 20 solicitudes a fondo, decidió únicamente conceder 7 entrevistas. Finalmente, de esos 7 afortunados, solamente 2 pasaron la prueba final: Pyerce y Pym.\n",
        "\n",
        "Pyerce y Pym son dos gemelos idénticos que siempre han querido ser miembros de una tripulación pirata. Pyerce sabe mucho tanto de cartografía como de metereología, y su sueño siempre ha sido recorrer el mundo sucarndo los mares. Por su parte, Pym hace que tripular un barco sea cosa fácil. Además no solo domina el timón, sino que es un experto en ingeniería naval y desde pequeño se ha dedicado a arreglar barcos. El sueño de Pym siempre ha sido trabajar en el barco que le hará conocer todos los mares y océanos del mundo.\n",
        "\n",
        "Para darles la bienvenida a la tripulación, Pyratilla ha decidido organizar una fiesta por todo lo alto, con lo cuál necesita ir a la compra y conseguir:\n",
        "\n",
        "- 30 botellas de ron (10 para cada uno)\n",
        "- 6 hamburguesas\n",
        "- 2 tomates\n",
        "- 1 pack de lonchas de queso\n",
        "- 1 bote de ketchup\n",
        "- 1 bote de mayonesa\n",
        "- 1 bote de mostaza\n",
        "\n",
        "Ayuda a Pyratilla a escribir su lista de la compra con todos los items (uno en cada posición) en una lista de `Python` llamada `shopping_list`.\n",
        "\n",
        "PISTA: Recuerda que puedes usar repetición y concatenación de listas. Así la elaboración de la lista resultará más sencilla."
      ]
    },
    {
      "cell_type": "code",
      "metadata": {
        "id": "nQgVFc2G9t3g"
      },
      "source": [
        "shopping_list = []\n",
        "ron = 30\n",
        "hamburguesas = 6\n",
        "tomates = 2\n",
        "queso = 1\n",
        "ketchup = 1\n",
        "mayonesa = 1\n",
        "mostaza = 1\n",
        "\n",
        "for i in range(ron):\n",
        "  shopping_list.append(\"Botellas de Ron\")\n",
        "for i in range(hamburguesas):\n",
        "  shopping_list.append(\"Hamburguesas\")\n",
        "for i in range(tomates):\n",
        "  shopping_list.append(\"Tomates\")\n",
        "for i in range(queso):\n",
        "  shopping_list.append(\"Pack Lonchas de queso\")\n",
        "for i in range(ketchup):\n",
        "  shopping_list.append(\"Bote Ketchup\")\n",
        "for i in range(mayonesa):\n",
        "  shopping_list.append(\"Bote Mayonesa\")\n",
        "for i in range(mostaza):\n",
        "  shopping_list.append(\"Bote Mostaza\")"
      ],
      "execution_count": 22,
      "outputs": []
    },
    {
      "cell_type": "markdown",
      "metadata": {
        "id": "gDTF6bggZZLd"
      },
      "source": [
        "Ayuda a Pyratilla a mostrar todos los elementos que se han introducido en la lista de la compra llamada `shopping_list`."
      ]
    },
    {
      "cell_type": "code",
      "metadata": {
        "id": "f18rqafkaISC",
        "colab": {
          "base_uri": "https://localhost:8080/"
        },
        "outputId": "9f4e3e1b-efdc-4aa7-efff-70efa9e9f649"
      },
      "source": [
        "for i in shopping_list:\n",
        "  print(i)\n"
      ],
      "execution_count": 23,
      "outputs": [
        {
          "output_type": "stream",
          "text": [
            "Botellas de Ron\n",
            "Botellas de Ron\n",
            "Botellas de Ron\n",
            "Botellas de Ron\n",
            "Botellas de Ron\n",
            "Botellas de Ron\n",
            "Botellas de Ron\n",
            "Botellas de Ron\n",
            "Botellas de Ron\n",
            "Botellas de Ron\n",
            "Botellas de Ron\n",
            "Botellas de Ron\n",
            "Botellas de Ron\n",
            "Botellas de Ron\n",
            "Botellas de Ron\n",
            "Botellas de Ron\n",
            "Botellas de Ron\n",
            "Botellas de Ron\n",
            "Botellas de Ron\n",
            "Botellas de Ron\n",
            "Botellas de Ron\n",
            "Botellas de Ron\n",
            "Botellas de Ron\n",
            "Botellas de Ron\n",
            "Botellas de Ron\n",
            "Botellas de Ron\n",
            "Botellas de Ron\n",
            "Botellas de Ron\n",
            "Botellas de Ron\n",
            "Botellas de Ron\n",
            "Hamburguesas\n",
            "Hamburguesas\n",
            "Hamburguesas\n",
            "Hamburguesas\n",
            "Hamburguesas\n",
            "Hamburguesas\n",
            "Tomates\n",
            "Tomates\n",
            "Pack Lonchas de queso\n",
            "Bote Ketchup\n",
            "Bote Mayonesa\n",
            "Bote Mostaza\n"
          ],
          "name": "stdout"
        }
      ]
    },
    {
      "cell_type": "markdown",
      "metadata": {
        "id": "DeCG-75waIgs"
      },
      "source": [
        "Como puedes ver, el mostrar todos los elementos no sirve de mucha ayuda, pues en total hay 42, muchos de ellos repetidos. Modifica el bucle anterior con la ayuda de alguno de los métodos vistos en clase para que los elementos no se muestren repetidos, sino que se muestren agrupados tal cuál se muestran en el enunciado."
      ]
    },
    {
      "cell_type": "code",
      "metadata": {
        "id": "CXOD84-bboIh",
        "colab": {
          "base_uri": "https://localhost:8080/"
        },
        "outputId": "9b690a47-5a90-496f-daa9-4938eac8dfba"
      },
      "source": [
        "conteo = []\n",
        "for i in shopping_list:\n",
        "  if i not in conteo:\n",
        "    conteo.append(i)\n",
        "    print(\"{} {}\".format(shopping_list.count(i), i))\n"
      ],
      "execution_count": 24,
      "outputs": [
        {
          "output_type": "stream",
          "text": [
            "30 Botellas de Ron\n",
            "6 Hamburguesas\n",
            "2 Tomates\n",
            "1 Pack Lonchas de queso\n",
            "1 Bote Ketchup\n",
            "1 Bote Mayonesa\n",
            "1 Bote Mostaza\n"
          ],
          "name": "stdout"
        }
      ]
    }
  ]
}