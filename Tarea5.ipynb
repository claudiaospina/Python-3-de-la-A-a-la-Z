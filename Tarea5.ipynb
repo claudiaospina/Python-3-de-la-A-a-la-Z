{
 "cells": [
  {
   "cell_type": "markdown",
   "id": "07b2221c",
   "metadata": {},
   "source": [
    "# Tarea 5 Estructuras de datos: Listas\n",
    "\n",
    "### Curso Python de la A a la Z"
   ]
  },
  {
   "cell_type": "markdown",
   "id": "65ba1111",
   "metadata": {},
   "source": [
    "### Ejercicio 1\n",
    "Crea un programa que lea una secuencia de caracteres, guarde cada caracter en una posición de una lista y\n",
    "finalmente muestre la secuencia invertida."
   ]
  },
  {
   "cell_type": "code",
   "execution_count": 5,
   "id": "8e3f7f3f",
   "metadata": {},
   "outputs": [
    {
     "name": "stdout",
     "output_type": "stream",
     "text": [
      "Ingrese una secuencia de caracteres: Hola\n",
      "Secuencia invertida: ['a', 'l', 'o', 'H']\n"
     ]
    }
   ],
   "source": [
    "caracteres = input(\"Ingrese una secuencia de caracteres: \")\n",
    "lista = []\n",
    "for i in caracteres:\n",
    "    lista.append(i)\n",
    "lista.reverse()\n",
    "print(\"Secuencia invertida: {}\".format(lista))"
   ]
  },
  {
   "cell_type": "markdown",
   "id": "805cf8e0",
   "metadata": {},
   "source": [
    "### Ejercicio 2\n",
    "Crea un programa que lea dos strings de la misma longitud, los guarde intercalados en una lista. Por último,\n",
    "mostrar el contenido de la lista.\n",
    "Por ejemplo, si introducimos **hola caracola** y **adios marieta**, debería mostrarse **haodleao sc\n",
    "amraarcioeltaa**."
   ]
  },
  {
   "cell_type": "code",
   "execution_count": 8,
   "id": "6e211387",
   "metadata": {},
   "outputs": [
    {
     "name": "stdout",
     "output_type": "stream",
     "text": [
      "Ingrese una cadena de caracteres: Hola Caracola\n",
      "Ingrese otra cadena de caracteres: Adios Marieta\n",
      "['H', 'A', 'o', 'd', 'l', 'i', 'a', 'o', ' ', 's', 'C', ' ', 'a', 'M', 'r', 'a', 'a', 'r', 'c', 'i', 'o', 'e', 'l', 't', 'a', 'a']\n"
     ]
    }
   ],
   "source": [
    "str1 = input(\"Ingrese una cadena de caracteres: \")\n",
    "str2 = input(\"Ingrese otra cadena de caracteres: \")\n",
    "k = 1\n",
    "lista = []\n",
    "\n",
    "while len(str1) != len(str2):\n",
    "    print(\"Los dos strings deben tener la misma longitud. Intente nuevamente.\")\n",
    "    str1 = input(\"Ingrese una cadena de caracteres: \")\n",
    "    str2 = input(\"Ingrese otra cadena de caracteres: \")\n",
    "    break\n",
    "\n",
    "\n",
    "for i in str1:\n",
    "    lista.append(i)\n",
    "    \n",
    "for j in str2:\n",
    "    lista.insert(k, j)\n",
    "    k += 2\n",
    "\n",
    "print(lista)"
   ]
  },
  {
   "cell_type": "markdown",
   "id": "7869c34c",
   "metadata": {},
   "source": [
    "### Ejercicio 3 \n",
    "Crea un programa que lea un string y guarde en una lista todas las consonantes."
   ]
  },
  {
   "cell_type": "code",
   "execution_count": 22,
   "id": "3ffb934a",
   "metadata": {},
   "outputs": [
    {
     "name": "stdout",
     "output_type": "stream",
     "text": [
      "Ingrese una secuencia de caracteres: Hola\n",
      "['h', 'l']\n"
     ]
    }
   ],
   "source": [
    "string = input(\"Ingrese una secuencia de caracteres: \").lower()\n",
    "vocales = [\"a\", \"e\", \"i\", \"o\", \"u\"]\n",
    "consonantes = []\n",
    "\n",
    "for i in string:\n",
    "    if i not in vocales:\n",
    "        consonantes.append(i)\n",
    "print(consonantes)"
   ]
  },
  {
   "cell_type": "markdown",
   "id": "98ce90b7",
   "metadata": {},
   "source": [
    "### Ejercicio 4\n",
    "Crea un programa que lea una palabra, la guarde en una lista y compruebe si se trata de un palíndromo."
   ]
  },
  {
   "cell_type": "code",
   "execution_count": 60,
   "id": "1aa4b2c5",
   "metadata": {},
   "outputs": [
    {
     "name": "stdout",
     "output_type": "stream",
     "text": [
      "Ingrese una palabra: hola\n",
      "La palabra ['h', 'o', 'l', 'a'] no es un palíndromo.\n"
     ]
    }
   ],
   "source": [
    "palabra = list(input(\"Ingrese una palabra: \").lower())\n",
    "pal = []\n",
    "\n",
    "for i in palabra:\n",
    "    pal.append(i)\n",
    "\n",
    "pal.reverse()\n",
    "\n",
    "if palabra == pal:\n",
    "    print(\"La palabra {} es un palíndromo.\".format(palabra))\n",
    "else:\n",
    "    print(\"La palabra {} no es un palíndromo.\".format(palabra))"
   ]
  },
  {
   "cell_type": "markdown",
   "id": "07f0bd05",
   "metadata": {},
   "source": [
    "### Ejercicio 5\n",
    "Crea un programa que lea una matriz 3 x 3 y devuelva el máximo de cada fila."
   ]
  },
  {
   "cell_type": "code",
   "execution_count": 22,
   "id": "693a2553",
   "metadata": {},
   "outputs": [
    {
     "name": "stdout",
     "output_type": "stream",
     "text": [
      "Ingresa el elemento (0, 0). 5\n",
      "Ingresa el elemento (0, 1). 9\n",
      "Ingresa el elemento (0, 2). 7\n",
      "Ingresa el elemento (1, 0). 5\n",
      "Ingresa el elemento (1, 1). 61\n",
      "Ingresa el elemento (1, 2). 2\n",
      "Ingresa el elemento (2, 0). 5\n",
      "Ingresa el elemento (2, 1). 36\n",
      "Ingresa el elemento (2, 2). 54\n",
      "El valor máximo de la fila [5.0, 9.0, 7.0] es 9.0.\n",
      "El valor máximo de la fila [5.0, 61.0, 2.0] es 61.0.\n",
      "El valor máximo de la fila [5.0, 36.0, 54.0] es 54.0.\n"
     ]
    }
   ],
   "source": [
    "M = []\n",
    "\n",
    "for i in range(3):\n",
    "    M.append([])\n",
    "    for j in range(3):\n",
    "        M[i].append(float(input(\"Ingresa el elemento ({}, {}). \".format(i,j))))\n",
    "        \n",
    "for row in M:\n",
    "    print(\"El valor máximo de la fila {} es {}.\".format(row, max(row)))"
   ]
  },
  {
   "cell_type": "markdown",
   "id": "70c08f0d",
   "metadata": {},
   "source": [
    "### Ejercicio 6\n",
    "Crea un programa que lea un entero, $n$, de teclado y construya una matriz de tamaño $n × n$. Cada posición\n",
    "debe contener su orden en la matriz (desde 0 hasta $n^2 − 1$). Por ejemplo, si $n$ es 3, deberá crearse la matriz\n",
    "\\begin{bmatrix}\n",
    "0 & 1 & 2\\\\\n",
    "3 & 4 & 5\\\\\n",
    "6 & 7 & 8\\end{bmatrix}"
   ]
  },
  {
   "cell_type": "code",
   "execution_count": 143,
   "id": "7eb1b302",
   "metadata": {},
   "outputs": [
    {
     "name": "stdout",
     "output_type": "stream",
     "text": [
      "Ingrese un número entero: 3\n",
      "0 1 2 \n",
      "3 4 5 \n",
      "6 7 8 \n"
     ]
    }
   ],
   "source": [
    "M = []\n",
    "n = int(input(\"Ingrese un número entero: \"))\n",
    "k = 0\n",
    "\n",
    "while k <= (n**2 - 1):\n",
    "    for i in range(n):\n",
    "        M.append([])\n",
    "        for j in range(n):\n",
    "            M[i].append(k)\n",
    "            k += 1\n",
    "            print(M[i][j], end=\" \")\n",
    "        print(\"\")"
   ]
  },
  {
   "cell_type": "markdown",
   "id": "b2525923",
   "metadata": {},
   "source": [
    "### Ejercicio 7\n",
    "Crea una matriz de $n × m$ y asigna los valores manualmente. El programa debe indicar si la suma de cada\n",
    "columna es el mismo valor."
   ]
  },
  {
   "cell_type": "code",
   "execution_count": 21,
   "id": "15f7e8c0",
   "metadata": {},
   "outputs": [
    {
     "name": "stdout",
     "output_type": "stream",
     "text": [
      "Ingrese el número de filas para la matriz: 5\n",
      "Ingrese el número de columnas para la matriz: 3\n",
      "Ingresa el elemento (0, 0): 2\n",
      "Ingresa el elemento (0, 1): 5\n",
      "Ingresa el elemento (0, 2): 8\n",
      "Ingresa el elemento (1, 0): 2\n",
      "Ingresa el elemento (1, 1): 5\n",
      "Ingresa el elemento (1, 2): 8\n",
      "Ingresa el elemento (2, 0): 2\n",
      "Ingresa el elemento (2, 1): 5\n",
      "Ingresa el elemento (2, 2): 8\n",
      "Ingresa el elemento (3, 0): 2\n",
      "Ingresa el elemento (3, 1): 5\n",
      "Ingresa el elemento (3, 2): 8\n",
      "Ingresa el elemento (4, 0): 2\n",
      "Ingresa el elemento (4, 1): 5\n",
      "Ingresa el elemento (4, 2): 8\n",
      "2.0  5.0  8.0  \n",
      "2.0  5.0  8.0  \n",
      "2.0  5.0  8.0  \n",
      "2.0  5.0  8.0  \n",
      "2.0  5.0  8.0  \n",
      "[10.0, 25.0, 40.0]\n"
     ]
    }
   ],
   "source": [
    "matriz = []\n",
    "n = int(input(\"Ingrese el número de filas para la matriz: \"))\n",
    "m = int(input(\"Ingrese el número de columnas para la matriz: \"))\n",
    "suma = 0\n",
    "total = []\n",
    "\n",
    "for i in range(n):\n",
    "    matriz.append([])\n",
    "    for j in range(m):\n",
    "        matriz[i].append(float(input(\"Ingresa el elemento ({}, {}): \".format(i,j))))\n",
    "\n",
    "for a in range(m):\n",
    "    for b in range(n):\n",
    "        suma = suma + matriz[b][a]\n",
    "        b = + 1\n",
    "    total.append(suma)\n",
    "    suma = 0 \n",
    "    a = + 1\n",
    "\n",
    "    \n",
    "                    \n",
    "for i in range(n):\n",
    "    for j in range(m):\n",
    "        print(matriz[i][j], end = \"  \" if matriz[i][j] >= 0 else \" \")\n",
    "    print(\"\")            \n",
    "\n",
    "print(total)"
   ]
  },
  {
   "cell_type": "markdown",
   "id": "1651115b",
   "metadata": {},
   "source": [
    "### Ejercicio 8\n",
    "Crear un programa determina si la matriz introducida manualmente (tanto sus dimensiones como los elementos)\n",
    "se trata de la matriz identidad. Recuerda que la matriz identidad debe ser una matriz cuadrada."
   ]
  },
  {
   "cell_type": "code",
   "execution_count": 65,
   "id": "6dcb2a4d",
   "metadata": {},
   "outputs": [
    {
     "name": "stdout",
     "output_type": "stream",
     "text": [
      "Ingrese el número de filas para la matriz: 3\n",
      "Ingrese el número de columnas para la matriz: 3\n",
      "Ingresa el elemento (0, 0): 1\n",
      "Ingresa el elemento (0, 1): 0\n",
      "Ingresa el elemento (0, 2): 0\n",
      "Ingresa el elemento (1, 0): 0\n",
      "Ingresa el elemento (1, 1): 1\n",
      "Ingresa el elemento (1, 2): 0\n",
      "Ingresa el elemento (2, 0): 0\n",
      "Ingresa el elemento (2, 1): 0\n",
      "Ingresa el elemento (2, 2): 1\n",
      "1.0  0.0  0.0  \n",
      "0.0  1.0  0.0  \n",
      "0.0  0.0  1.0  \n",
      "¿La matriz ingresada es la matriz identidad? True \n"
     ]
    }
   ],
   "source": [
    "matriz = []\n",
    "n = int(input(\"Ingrese el número de filas para la matriz: \")) \n",
    "m = int(input(\"Ingrese el número de columnas para la matriz: \")) \n",
    "idt = True\n",
    "\n",
    "\n",
    "for i in range(n):\n",
    "    matriz.append([])\n",
    "    for j in range(m):\n",
    "        matriz[i].append(float(input(\"Ingresa el elemento ({}, {}): \".format(i,j))))\n",
    "        \n",
    "for i in range(n):\n",
    "    for j in range(m):\n",
    "        print(matriz[i][j], end = \"  \" if matriz[i][j] >= 0 else \" \")\n",
    "    print(\"\")            \n",
    "\n",
    "if n == m:\n",
    "    for i in range(n):\n",
    "        for j in range(n):\n",
    "            if i == j and matriz[i][j] != 1:\n",
    "                idt = False\n",
    "            if i != j and matriz[i][j] != 0:\n",
    "                idt = False\n",
    "                \n",
    "else:\n",
    "    idt = False\n",
    "    print(\"La matriz ingresada no es la matriz identidad porque no es cuadrada.\")\n",
    "    \n",
    "print(\"¿La matriz ingresada es la matriz identidad? {} \".format(idt))\n"
   ]
  },
  {
   "cell_type": "markdown",
   "id": "11ea3f71",
   "metadata": {},
   "source": [
    "### Ejercicio 9\n",
    "Realiza un programa que calcule la matriz transpuesta."
   ]
  },
  {
   "cell_type": "code",
   "execution_count": 70,
   "id": "3a951643",
   "metadata": {},
   "outputs": [
    {
     "name": "stdout",
     "output_type": "stream",
     "text": [
      "1  4  7  \n",
      "2  5  8  \n",
      "3  6  9  \n"
     ]
    }
   ],
   "source": [
    "matr = [[1, 2, 3],\n",
    "       [4, 5, 6],\n",
    "       [7, 8, 9]]\n",
    "\n",
    "trans = []\n",
    "for i in range(len(matr[0])):\n",
    "    trans.append([])\n",
    "    for j in range(len(matr)):\n",
    "        trans[i].append(matr[j][i])\n",
    "        \n",
    "for i in range(len(trans)):\n",
    "    for j in range(len(trans[0])):\n",
    "        print(trans[i][j], end = \"  \" if trans[i][j] >= 0 else \" \")\n",
    "    print(\"\")"
   ]
  },
  {
   "cell_type": "markdown",
   "id": "90e69c51",
   "metadata": {},
   "source": [
    "### Ejercicio 10\n",
    "Crea un programa que pida al usuario la dimensión y cree la matriz identidad de orden correspondiente con\n",
    "numpy."
   ]
  },
  {
   "cell_type": "code",
   "execution_count": 73,
   "id": "d90f8f40",
   "metadata": {},
   "outputs": [
    {
     "name": "stdout",
     "output_type": "stream",
     "text": [
      "3\n",
      "[[1. 0. 0.]\n",
      " [0. 1. 0.]\n",
      " [0. 0. 1.]]\n"
     ]
    }
   ],
   "source": [
    "import numpy as np\n",
    "n = int(input())\n",
    "ident = np.zeros((n, n))\n",
    "for i in range(n):\n",
    "    ident[i, i] = 1\n",
    "print(ident)"
   ]
  }
 ],
 "metadata": {
  "kernelspec": {
   "display_name": "Python 3",
   "language": "python",
   "name": "python3"
  },
  "language_info": {
   "codemirror_mode": {
    "name": "ipython",
    "version": 3
   },
   "file_extension": ".py",
   "mimetype": "text/x-python",
   "name": "python",
   "nbconvert_exporter": "python",
   "pygments_lexer": "ipython3",
   "version": "3.8.8"
  }
 },
 "nbformat": 4,
 "nbformat_minor": 5
}
