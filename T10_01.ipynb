{
  "nbformat": 4,
  "nbformat_minor": 0,
  "metadata": {
    "colab": {
      "name": "T10-01.ipynb",
      "provenance": [],
      "collapsed_sections": [],
      "include_colab_link": true
    },
    "kernelspec": {
      "name": "python3",
      "display_name": "Python 3"
    }
  },
  "cells": [
    {
      "cell_type": "markdown",
      "metadata": {
        "id": "view-in-github",
        "colab_type": "text"
      },
      "source": [
        "<a href=\"https://colab.research.google.com/github/claudiaospina/Python-3-de-la-A-a-la-Z/blob/main/T10_01.ipynb\" target=\"_parent\"><img src=\"https://colab.research.google.com/assets/colab-badge.svg\" alt=\"Open In Colab\"/></a>"
      ]
    },
    {
      "cell_type": "markdown",
      "metadata": {
        "id": "offzHLJkKNbh"
      },
      "source": [
        "# Ejercicio"
      ]
    },
    {
      "cell_type": "markdown",
      "metadata": {
        "id": "VKmcEL-7KOqk"
      },
      "source": [
        "Vamos a crear una función que cuente y devuelva todas las apariciones de una letra proporcionada por parámetro en una frase también proporcionada por parámetro. "
      ]
    },
    {
      "cell_type": "code",
      "metadata": {
        "id": "eY3nXQFKKKgP",
        "colab": {
          "base_uri": "https://localhost:8080/"
        },
        "outputId": "3d1d9027-3ee8-43f5-dd8d-2b5bc611f0e5"
      },
      "source": [
        "def count_letter(s, letter):\n",
        "  s = s.lower()\n",
        "  count = s.count(letter)\n",
        "  return count\n",
        "\n",
        "s = input(\"Introduce una frase: \")\n",
        "letter = input(\"Introduce una letra: \")\n",
        "print(count_letter(s, letter))"
      ],
      "execution_count": null,
      "outputs": [
        {
          "output_type": "stream",
          "text": [
            "Introduce una frase: El perro de mi vecina se llama juan\n",
            "Introduce una letra: e\n",
            "5\n"
          ],
          "name": "stdout"
        }
      ]
    }
  ]
}