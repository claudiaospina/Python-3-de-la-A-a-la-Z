{
  "nbformat": 4,
  "nbformat_minor": 0,
  "metadata": {
    "colab": {
      "name": "07-entrada.ipynb",
      "provenance": [],
      "collapsed_sections": [],
      "include_colab_link": true
    },
    "kernelspec": {
      "name": "python3",
      "display_name": "Python 3"
    }
  },
  "cells": [
    {
      "cell_type": "markdown",
      "metadata": {
        "id": "view-in-github",
        "colab_type": "text"
      },
      "source": [
        "<a href=\"https://colab.research.google.com/github/claudiaospina/Python-3-de-la-A-a-la-Z/blob/main/07_entrada.ipynb\" target=\"_parent\"><img src=\"https://colab.research.google.com/assets/colab-badge.svg\" alt=\"Open In Colab\"/></a>"
      ]
    },
    {
      "cell_type": "markdown",
      "metadata": {
        "id": "JKJjLIPi6CoC"
      },
      "source": [
        "# ¡Todo listo para zarpar!\n",
        "\n",
        "La fiesta fue todo un éxito. Tanto el capitán, como los dos nuevos miembros de la tripulación (Pyerce y Pym) se lo pasaron en grande comiendo y bebiendo. Incluso Pyo disfrutó de la fiesta zampándose todas las sobras.\n",
        "\n",
        "A la mañana siguiente, decidieron dedicar el día a descansar y hacer todos los preparativos para al día siguiente iniciar su aventura. \n",
        "\n",
        "Entre otras cosas, Pyratilla decide apuntar, por si las moscas, la información de toda la tripulación: sus camaradas Pyerce y Pym, su loro Pyo y él mismo. \n",
        "\n",
        "* Pyerce y Pym son gemelos y tienen ambos 16 años\n",
        "* Pyo tiene año y medio y es el loro del barco\n",
        "* Pyratilla tiene 17 años y es el capitán de los Pyrates\n",
        "* Pyerce es el navegante del barco\n",
        "* Pym es el timonel\n",
        "\n",
        "¡Ayuda a Pyratilla a crear un diccionario llamado `info_pyrates` que contenga para cada miembro de la tripulación de los Pyrates un diccionario con la edad (`age`) y la ocupación (`occupation`) de cada uno."
      ]
    },
    {
      "cell_type": "code",
      "metadata": {
        "id": "7__TTGFlTgXb"
      },
      "source": [
        "\n",
        "info_pyrates = {\"Pyratilla\": {\"Age\": 17, \"Occupation\": \"Capitán\"}, \"Pyo\": {\"Age\": 1.5, \"Occupation\": \"Loro\"},\n",
        "                \"Pyerce\": {\"Age\": 16, \"Occupation\": \"Navegante\"}, \"Pym\": {\"Age\": 16, \"Occupation\": \"Timonel\"}}"
      ],
      "execution_count": 45,
      "outputs": []
    },
    {
      "cell_type": "markdown",
      "metadata": {
        "id": "Dw0LWKxZCgop"
      },
      "source": [
        "Ayuda a Pyratilla a mostrar los datos de cada uno de los miembros de su tripulación como se muestra a continuación:\n",
        "\n",
        "`Pyratilla es el capitán del barco y tiene 17 años`"
      ]
    },
    {
      "cell_type": "code",
      "metadata": {
        "id": "BHcFxX0zCr2S",
        "outputId": "24322303-e652-4c1e-c5f1-a67c346b9639",
        "colab": {
          "base_uri": "https://localhost:8080/"
        }
      },
      "source": [
        "\n",
        "for clave, valor in info_pyrates.items():\n",
        "  #for i in valor:\n",
        "    print(clave, \"es el \", info_pyrates[clave][\"Occupation\"], \"del barco y tiene \", info_pyrates[clave][\"Age\"], \"años.\")"
      ],
      "execution_count": 48,
      "outputs": [
        {
          "output_type": "stream",
          "name": "stdout",
          "text": [
            "Pyratilla es el  Capitán del barco y tiene  17 años.\n",
            "Pyo es el  Loro del barco y tiene  1.5 años.\n",
            "Pyerce es el  Navegante del barco y tiene  16 años.\n",
            "Pym es el  Timonel del barco y tiene  16 años.\n"
          ]
        }
      ]
    }
  ]
}