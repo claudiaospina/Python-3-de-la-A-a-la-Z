{
  "nbformat": 4,
  "nbformat_minor": 0,
  "metadata": {
    "colab": {
      "name": "T06-03.ipynb",
      "provenance": [],
      "collapsed_sections": [],
      "include_colab_link": true
    },
    "kernelspec": {
      "name": "python3",
      "display_name": "Python 3"
    }
  },
  "cells": [
    {
      "cell_type": "markdown",
      "metadata": {
        "id": "view-in-github",
        "colab_type": "text"
      },
      "source": [
        "<a href=\"https://colab.research.google.com/github/claudiaospina/Python-3-de-la-A-a-la-Z/blob/main/T06_03.ipynb\" target=\"_parent\"><img src=\"https://colab.research.google.com/assets/colab-badge.svg\" alt=\"Open In Colab\"/></a>"
      ]
    },
    {
      "cell_type": "markdown",
      "metadata": {
        "id": "XqJT7drTI84k"
      },
      "source": [
        "# Ejercicio\n",
        "\n",
        "Vamos a pedir al usuario que ingrese 10 números, los guardaremos en una lista y mostraremos la lista ordenada, siendo el usuario quien indique el orden: ascendente o descendente."
      ]
    },
    {
      "cell_type": "code",
      "metadata": {
        "colab": {
          "base_uri": "https://localhost:8080/"
        },
        "id": "syb4bTLeeRIx",
        "outputId": "e24e6a12-c439-4ec1-c2b1-73758095e5b1"
      },
      "source": [
        "reversed = bool(input(\"Si quieres orden descendente, escribe True. De lo contrario, dale a la tecla Enter: \"))\n",
        "l = []\n",
        "\n",
        "for _ in range(10):\n",
        "  l.append(float(input()))\n",
        "\n",
        "l.sort(reverse = reversed)\n",
        "print(l)"
      ],
      "execution_count": null,
      "outputs": [
        {
          "output_type": "stream",
          "text": [
            "Si quieres orden descendente, escribe True. De lo contrario, dale a la tecla Enter: \n",
            "9\n",
            "8\n",
            "7\n",
            "6\n",
            "5\n",
            "4\n",
            "-3\n",
            "-2\n",
            "-1\n",
            "0\n",
            "[-3.0, -2.0, -1.0, 0.0, 4.0, 5.0, 6.0, 7.0, 8.0, 9.0]\n"
          ],
          "name": "stdout"
        }
      ]
    }
  ]
}