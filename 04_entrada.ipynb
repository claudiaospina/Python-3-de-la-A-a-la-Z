{
  "nbformat": 4,
  "nbformat_minor": 0,
  "metadata": {
    "colab": {
      "name": "04-entrada.ipynb",
      "provenance": [],
      "collapsed_sections": [],
      "include_colab_link": true
    },
    "kernelspec": {
      "name": "python3",
      "display_name": "Python 3"
    }
  },
  "cells": [
    {
      "cell_type": "markdown",
      "metadata": {
        "id": "view-in-github",
        "colab_type": "text"
      },
      "source": [
        "<a href=\"https://colab.research.google.com/github/claudiaospina/Python-3-de-la-A-a-la-Z/blob/main/04_entrada.ipynb\" target=\"_parent\"><img src=\"https://colab.research.google.com/assets/colab-badge.svg\" alt=\"Open In Colab\"/></a>"
      ]
    },
    {
      "cell_type": "markdown",
      "metadata": {
        "id": "7-w9Es5sktLa"
      },
      "source": [
        "# Filtrando solicitudes\n",
        "\n",
        "Pyratilla hizo un formulario para que los interesados en formar parte de su tripulación rellenaran y así poder evitarse más de una entrevista innecesaria.\n",
        "\n",
        "Ahora es momento de filtrar las convocatorias:\n",
        "\n",
        "- El nombre debe empezar por mayúscula. Si es un nombre compuesto, entonces todos deben empezar por mayúscula.\n",
        "- La edad debe ser mayor o igual a 16 y menor o igual a 40.\n",
        "- El hobby indicado debe tener más de 10 caracteres.\n",
        "- La casilla del sueño no puede haber sido dejada en blanco.\n",
        "\n",
        "Ayuda a Pyratilla a crear este filtro para descartar solicitudes que no cumplan estos requisitos."
      ]
    },
    {
      "cell_type": "code",
      "metadata": {
        "id": "4aq25-Qrktd8",
        "outputId": "2a6299f4-1ed0-4761-c0fe-bb37c6907fee",
        "colab": {
          "base_uri": "https://localhost:8080/"
        }
      },
      "source": [
        "nombre = input(\"Por favor ingresa tu nombre: \")\n",
        "if nombre == nombre.title():\n",
        "  nombre_ok = True\n",
        "else:\n",
        "  nombre_ok = False\n",
        "nombre_ok\n"
      ],
      "execution_count": 29,
      "outputs": [
        {
          "output_type": "stream",
          "text": [
            "Por favor ingresa tu nombre: Claudia Ospina\n"
          ],
          "name": "stdout"
        },
        {
          "output_type": "execute_result",
          "data": {
            "text/plain": [
              "True"
            ]
          },
          "metadata": {
            "tags": []
          },
          "execution_count": 29
        }
      ]
    },
    {
      "cell_type": "code",
      "metadata": {
        "id": "K7erzixFxdg8",
        "outputId": "b9872a1b-d3fb-4849-d41d-4974436c151c",
        "colab": {
          "base_uri": "https://localhost:8080/"
        }
      },
      "source": [
        "edad = int(input(\"Por favor ingresa tu edad: \"))\n",
        "if edad >=16 and edad <= 40:\n",
        "  edad_ok = True\n",
        "else:\n",
        "  edad_ok = False\n",
        "edad_ok"
      ],
      "execution_count": 34,
      "outputs": [
        {
          "output_type": "stream",
          "text": [
            "Por favor ingresa tu edad: 15\n"
          ],
          "name": "stdout"
        },
        {
          "output_type": "execute_result",
          "data": {
            "text/plain": [
              "False"
            ]
          },
          "metadata": {
            "tags": []
          },
          "execution_count": 34
        }
      ]
    },
    {
      "cell_type": "code",
      "metadata": {
        "id": "fiTpHqDUx8U7",
        "outputId": "6c0bcf95-970c-4ed7-b518-0e1fe913d898",
        "colab": {
          "base_uri": "https://localhost:8080/"
        }
      },
      "source": [
        "hobby = input(\"Por favor ingresa tu hobby: \")\n",
        "\n",
        "if len(hobby) > 10:\n",
        "  hobby_ok = True\n",
        "else:\n",
        "  hobby_ok = False\n",
        "hobby_ok"
      ],
      "execution_count": 31,
      "outputs": [
        {
          "output_type": "stream",
          "text": [
            "Por favor ingresa tu hobby: unodostrescuatro cinco\n"
          ],
          "name": "stdout"
        },
        {
          "output_type": "execute_result",
          "data": {
            "text/plain": [
              "True"
            ]
          },
          "metadata": {
            "tags": []
          },
          "execution_count": 31
        }
      ]
    },
    {
      "cell_type": "code",
      "metadata": {
        "id": "DG4ZgrU5yLjj",
        "outputId": "b07a65c2-a1b9-48b2-dd09-04954735fb27",
        "colab": {
          "base_uri": "https://localhost:8080/"
        }
      },
      "source": [
        "sueño = input(\"Por favor ingresa tu sueño: \")\n",
        "\n",
        "if not sueño:\n",
        "  sueño_ok = False\n",
        "else:\n",
        "  sueño_ok = True\n",
        "sueño_ok"
      ],
      "execution_count": 32,
      "outputs": [
        {
          "output_type": "stream",
          "text": [
            "Por favor ingresa tu sueño: asdfghjkl\n"
          ],
          "name": "stdout"
        },
        {
          "output_type": "execute_result",
          "data": {
            "text/plain": [
              "True"
            ]
          },
          "metadata": {
            "tags": []
          },
          "execution_count": 32
        }
      ]
    },
    {
      "cell_type": "code",
      "metadata": {
        "id": "TI_b7GR90rdw",
        "outputId": "9f3b7336-8d40-434a-8fba-7812b5b2c12b",
        "colab": {
          "base_uri": "https://localhost:8080/"
        }
      },
      "source": [
        "if nombre_ok == edad_ok == hobby_ok == sueño_ok == True:\n",
        "  print(\"Continúas en el proceso.\")\n",
        "else:\n",
        "  print(\"No continúas en el proceso.\")\n"
      ],
      "execution_count": 35,
      "outputs": [
        {
          "output_type": "stream",
          "text": [
            "No continúas en el proceso.\n"
          ],
          "name": "stdout"
        }
      ]
    }
  ]
}