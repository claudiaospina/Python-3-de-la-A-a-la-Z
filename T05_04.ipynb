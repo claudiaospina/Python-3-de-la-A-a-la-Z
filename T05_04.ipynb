{
  "nbformat": 4,
  "nbformat_minor": 0,
  "metadata": {
    "colab": {
      "name": "T05-04.ipynb",
      "provenance": [],
      "collapsed_sections": [],
      "include_colab_link": true
    },
    "kernelspec": {
      "name": "python3",
      "display_name": "Python 3"
    }
  },
  "cells": [
    {
      "cell_type": "markdown",
      "metadata": {
        "id": "view-in-github",
        "colab_type": "text"
      },
      "source": [
        "<a href=\"https://colab.research.google.com/github/claudiaospina/Python-3-de-la-A-a-la-Z/blob/main/T05_04.ipynb\" target=\"_parent\"><img src=\"https://colab.research.google.com/assets/colab-badge.svg\" alt=\"Open In Colab\"/></a>"
      ]
    },
    {
      "cell_type": "markdown",
      "metadata": {
        "id": "LgNV8kYnR44M"
      },
      "source": [
        "# Ejercicio\n",
        "\n",
        "Imaginemos las letras del abecedario ordenadas y dispuestas en círculo. Es decir, a la derecha de la A está la B, luego la C, y así sucesivamente hasta la Z. A la derecha de la Z, se encuentra de nuevo la letra A.\n",
        "\n",
        "Vamos a hacer que el usuario introduzca un valor entero `n`, que se corresponderá con la rotación que llevará a una determinada letra `n` posiciones a su derecha. Por ejemplo, si la rotación es 4, entonces la A pasará a la E, la B a la F, ..., la Y a la C y la Z a la D.\n",
        "\n",
        "Con un bucle `while`, vamos a construir el programa que desplazará las letras `n` posiciones a la derecha.\n",
        "\n",
        "PISTA: Investiga las funciones `chr()` y `ord()` para pasar del valor [`ASCII`](https://elcodigoascii.com.ar/) de un caracter al caracter y viceversa."
      ]
    },
    {
      "cell_type": "code",
      "metadata": {
        "colab": {
          "base_uri": "https://localhost:8080/"
        },
        "id": "RjRQsQW0RwPD",
        "outputId": "adec3145-8a20-4676-e1db-cd8acc637158"
      },
      "source": [
        "n = int(input(\"Introduce una rotación: \"))\n",
        "n = n % 26\n",
        "i = 65\n",
        "\n",
        "while i <= 90:\n",
        "  if i + n <= 90:\n",
        "    print(chr(i) + \": \" + chr(i + n))\n",
        "  else:\n",
        "    print(chr(i) + \": \" + chr((i - 26) + n))\n",
        "  i += 1"
      ],
      "execution_count": 12,
      "outputs": [
        {
          "output_type": "stream",
          "text": [
            "Introduce una rotación: 789\n",
            "A: J\n",
            "B: K\n",
            "C: L\n",
            "D: M\n",
            "E: N\n",
            "F: O\n",
            "G: P\n",
            "H: Q\n",
            "I: R\n",
            "J: S\n",
            "K: T\n",
            "L: U\n",
            "M: V\n",
            "N: W\n",
            "O: X\n",
            "P: Y\n",
            "Q: Z\n",
            "R: A\n",
            "S: B\n",
            "T: C\n",
            "U: D\n",
            "V: E\n",
            "W: F\n",
            "X: G\n",
            "Y: H\n",
            "Z: I\n"
          ],
          "name": "stdout"
        }
      ]
    }
  ]
}