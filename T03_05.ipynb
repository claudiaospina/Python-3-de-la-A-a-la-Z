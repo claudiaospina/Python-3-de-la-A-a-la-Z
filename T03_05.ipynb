{
  "nbformat": 4,
  "nbformat_minor": 0,
  "metadata": {
    "colab": {
      "name": "T03-05.ipynb",
      "provenance": [],
      "collapsed_sections": [],
      "include_colab_link": true
    },
    "kernelspec": {
      "name": "python3",
      "display_name": "Python 3"
    }
  },
  "cells": [
    {
      "cell_type": "markdown",
      "metadata": {
        "id": "view-in-github",
        "colab_type": "text"
      },
      "source": [
        "<a href=\"https://colab.research.google.com/github/claudiaospina/Python-3-de-la-A-a-la-Z/blob/main/T03_05.ipynb\" target=\"_parent\"><img src=\"https://colab.research.google.com/assets/colab-badge.svg\" alt=\"Open In Colab\"/></a>"
      ]
    },
    {
      "cell_type": "markdown",
      "metadata": {
        "id": "YhadEaOZ7AAF"
      },
      "source": [
        "# Ejercicio\n",
        "\n",
        "Vamos a pedirle al usuario su año de nacimiento y el año actual y le vamos a imprimir por pantalla su edad"
      ]
    },
    {
      "cell_type": "code",
      "metadata": {
        "colab": {
          "base_uri": "https://localhost:8080/"
        },
        "id": "X-B9BnCRhsVb",
        "outputId": "286cfd21-c7fd-49d4-eec3-9951dcb9f8ab"
      },
      "source": [
        "year = int(input(\"Introduce tu año de nacimiento: \"))\n",
        "this_year = int(input(\"Introduce el año actual: \"))\n",
        "age = this_year - year\n",
        "print(\"En el año {} tienes {} años\".format(this_year, age))"
      ],
      "execution_count": null,
      "outputs": [
        {
          "output_type": "stream",
          "text": [
            "Introduce tu año de nacimiento: 2021\n",
            "Introduce el año actual: 1998\n",
            "En el año 1998 tienes -23 años\n"
          ],
          "name": "stdout"
        }
      ]
    }
  ]
}