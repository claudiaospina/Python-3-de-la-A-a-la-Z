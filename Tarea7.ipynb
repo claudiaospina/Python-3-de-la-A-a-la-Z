{
 "cells": [
  {
   "cell_type": "markdown",
   "id": "d8f7472e",
   "metadata": {},
   "source": [
    "# Tarea 7 - Estructuras de datos: Conjuntos\n",
    "\n",
    "\n",
    "#### Curso Python de la A a la Z"
   ]
  },
  {
   "cell_type": "markdown",
   "id": "7cafed10",
   "metadata": {},
   "source": [
    "### Ejercicio 1\n",
    "Dado un número entero introducido por teclado, guarda sus divisores en un conjunto y muéstralo."
   ]
  },
  {
   "cell_type": "code",
   "execution_count": 5,
   "id": "19e57633",
   "metadata": {},
   "outputs": [
    {
     "name": "stdout",
     "output_type": "stream",
     "text": [
      "Ingresa un número: 60\n"
     ]
    },
    {
     "data": {
      "text/plain": [
       "{1, 2, 3, 4, 5, 6, 10, 12, 15, 20, 30, 60}"
      ]
     },
     "execution_count": 5,
     "metadata": {},
     "output_type": "execute_result"
    }
   ],
   "source": [
    "n = int(input(\"Ingresa un número entero: \"))\n",
    "conjunto = set()\n",
    "for i in range(1, n+1):\n",
    "    if n % i == 0:\n",
    "        conjunto.add(i)\n",
    "conjunto"
   ]
  },
  {
   "cell_type": "markdown",
   "id": "1ae645c7",
   "metadata": {},
   "source": [
    "### Ejercicio 2\n",
    "Crea un programa que dado un conjunto, nos devuelva su mínimo. Debes hacerlo sin recurrir a la función\n",
    "min()."
   ]
  },
  {
   "cell_type": "code",
   "execution_count": 53,
   "id": "7d18ccc1",
   "metadata": {},
   "outputs": [
    {
     "name": "stdout",
     "output_type": "stream",
     "text": [
      "El valor mínimo del conjunto es: -1515\n"
     ]
    },
    {
     "data": {
      "text/plain": [
       "{-1515, -50, 30, 35, 151}"
      ]
     },
     "execution_count": 53,
     "metadata": {},
     "output_type": "execute_result"
    }
   ],
   "source": [
    "set1 = {-50, 30, 35, 151, -1515}\n",
    "\n",
    "mini = 9999999\n",
    "for i in set1:\n",
    "    if i < mini:\n",
    "        mini = i\n",
    "print(\"El valor mínimo del conjunto es: {}\".format(min))\n",
    "set1"
   ]
  },
  {
   "cell_type": "markdown",
   "id": "1e58aff9",
   "metadata": {},
   "source": [
    "### Ejercicio 3\n",
    "Dada una frase introducida por teclado, guarda en un conjunto todas las palabras que empiecen por la letra\n",
    "indicada por el usuario."
   ]
  },
  {
   "cell_type": "code",
   "execution_count": 26,
   "id": "9f5f20b7",
   "metadata": {},
   "outputs": [
    {
     "name": "stdout",
     "output_type": "stream",
     "text": [
      "Ingrese una frase: Hola Caracola\n",
      "Ingrese una letra: C\n",
      "{'caracola'}\n"
     ]
    }
   ],
   "source": [
    "frase = input(\"Ingrese una frase: \").lower()\n",
    "letra = input(\"Ingrese una letra: \").lower()\n",
    "setpalabras = set()\n",
    "palabras = frase.split()\n",
    "\n",
    "for palabra in palabras:\n",
    "    if letra == palabra[0]:\n",
    "        setpalabras.add(palabra)\n",
    "\n",
    "print(setpalabras)"
   ]
  },
  {
   "cell_type": "markdown",
   "id": "ab5a8b23",
   "metadata": {},
   "source": [
    "### Ejercicio 4\n",
    "Dado un conjunto, crea un programa que nos devuelva el caracter con mayor valor ASCII. Debes hacerlo sin\n",
    "recurrir a la función max()."
   ]
  },
  {
   "cell_type": "code",
   "execution_count": 58,
   "id": "8740b1af",
   "metadata": {},
   "outputs": [
    {
     "name": "stdout",
     "output_type": "stream",
     "text": [
      "El caracter con mayor valor ASCII es u y está ubicado en la posición 117\n"
     ]
    }
   ],
   "source": [
    "miconjunto = {\"A\", 5, \"*\", \"W\", \"/\", \"?\", 9, \"u\"}\n",
    "maxi = -999999\n",
    "\n",
    "for elemento in miconjunto:\n",
    "    elemento = str(elemento)\n",
    "    asciiorder = ord(elemento)\n",
    "    if asciiorder > maxi:\n",
    "        maxi = asciiorder\n",
    "    \n",
    "print(f\"El caracter con mayor valor ASCII es {chr(maxi)} y está ubicado en la posición {maxi}\")"
   ]
  },
  {
   "cell_type": "markdown",
   "id": "1d308f74",
   "metadata": {},
   "source": [
    "### Ejercicio 5\n",
    "Dado un conjunto, crea un programa que nos devuelva el caracter con menor valor ASCII. Debes hacerlo sin\n",
    "recurrir a la función min()."
   ]
  },
  {
   "cell_type": "code",
   "execution_count": 60,
   "id": "634be152",
   "metadata": {},
   "outputs": [
    {
     "name": "stdout",
     "output_type": "stream",
     "text": [
      "El caracter con menor valor ASCII es * y está ubicado en la posición 42\n"
     ]
    }
   ],
   "source": [
    "miconjunto2 = {\"A\", 5, \"*\", \"W\", \"/\", \"?\", 9, \"u\"}\n",
    "minim = 999999\n",
    "\n",
    "for elemento in miconjunto2:\n",
    "    elemento = str(elemento)\n",
    "    asciiorder = ord(elemento)\n",
    "    if asciiorder < minim:\n",
    "        minim = asciiorder\n",
    "    \n",
    "print(f\"El caracter con menor valor ASCII es {chr(minim)} y está ubicado en la posición {minim}\")"
   ]
  },
  {
   "cell_type": "markdown",
   "id": "67c035d2",
   "metadata": {},
   "source": [
    "### Ejercicio 6\n",
    "Dada una frase introducida por teclado, guarda en un conjunto todas las palabras que contengan la letra\n",
    "indicada por el usuario."
   ]
  },
  {
   "cell_type": "code",
   "execution_count": 61,
   "id": "f22b5cb3",
   "metadata": {},
   "outputs": [
    {
     "name": "stdout",
     "output_type": "stream",
     "text": [
      "Ingrese una frase: Esto es una prueba\n",
      "Ingrese una letra: a\n",
      "{'una', 'prueba'}\n"
     ]
    }
   ],
   "source": [
    "frase = input(\"Ingrese una frase: \").lower()\n",
    "letra = input(\"Ingrese una letra: \").lower()\n",
    "setpalabras = set()\n",
    "palabras = frase.split()\n",
    "\n",
    "for palabra in palabras:\n",
    "    if letra in palabra:\n",
    "        setpalabras.add(palabra)\n",
    "\n",
    "print(setpalabras)"
   ]
  },
  {
   "cell_type": "markdown",
   "id": "c8bd8b5f",
   "metadata": {},
   "source": [
    "### Ejercicio 7\n",
    "Dada una frase introducida por teclado, guarda en un conjunto la primera letra de cada palabra sin hacer\n",
    "uso del método .split()."
   ]
  },
  {
   "cell_type": "code",
   "execution_count": 73,
   "id": "2db0c30a",
   "metadata": {},
   "outputs": [
    {
     "name": "stdout",
     "output_type": "stream",
     "text": [
      "Ingrese una frase: Esto es una frase de eejemplo 3\n",
      "{'F', 'E', 'D', 'U'}\n"
     ]
    }
   ],
   "source": [
    "frase = input(\"Ingrese una frase: \").title()\n",
    "setpalabras = set()\n",
    "\n",
    "for palabra in frase:\n",
    "    if palabra.isupper():\n",
    "        setpalabras.add(palabra)\n",
    "\n",
    "print(setpalabras) "
   ]
  },
  {
   "cell_type": "markdown",
   "id": "685fa0c8",
   "metadata": {},
   "source": [
    "### Ejercicio 8\n",
    "Dada una frase introducida por teclado, guarda en un conjunto todas las palabras con longitud par."
   ]
  },
  {
   "cell_type": "code",
   "execution_count": 75,
   "id": "f9896d69",
   "metadata": {},
   "outputs": [
    {
     "name": "stdout",
     "output_type": "stream",
     "text": [
      "Ingrese una frase: Eso es un ejemplo de palabras impares y pares\n",
      "{'es', 'de', 'palabras', 'un'}\n"
     ]
    }
   ],
   "source": [
    "frase = input(\"Ingrese una frase: \").lower()\n",
    "palabrapar = set()\n",
    "palabras = frase.split()\n",
    "\n",
    "for palabra in palabras:\n",
    "    if len(palabra) % 2 == 0:\n",
    "        palabrapar.add(palabra)\n",
    "\n",
    "print(palabrapar)"
   ]
  },
  {
   "cell_type": "markdown",
   "id": "4d216c22",
   "metadata": {},
   "source": [
    "### Ejercicio 9\n",
    "Dada una frase introducida por teclado, guarda en un conjunto todas las palabras que acaben por la letra\n",
    "indicada por el usuario."
   ]
  },
  {
   "cell_type": "code",
   "execution_count": 77,
   "id": "fd586ddc",
   "metadata": {},
   "outputs": [
    {
     "name": "stdout",
     "output_type": "stream",
     "text": [
      "Ingrese una frase: Prueba de entrada de texto holo\n",
      "Ingrese una letra: o\n",
      "{'texto', 'holo'}\n"
     ]
    }
   ],
   "source": [
    "frase = input(\"Ingrese una frase: \").lower()\n",
    "letra = input(\"Ingrese una letra: \").lower()\n",
    "setpalabras = set()\n",
    "palabras = frase.split()\n",
    "\n",
    "for palabra in palabras:\n",
    "    if letra == palabra[-1]:\n",
    "        setpalabras.add(palabra)\n",
    "\n",
    "print(setpalabras)"
   ]
  },
  {
   "cell_type": "markdown",
   "id": "2e46e3cb",
   "metadata": {},
   "source": [
    "### Ejercicio 10\n",
    "Dada una frase introducida por teclado, guarda en un conjunto todas las palabras palíndromas."
   ]
  },
  {
   "cell_type": "code",
   "execution_count": 79,
   "id": "a7d5150b",
   "metadata": {},
   "outputs": [
    {
     "name": "stdout",
     "output_type": "stream",
     "text": [
      "Ingrese una frase: La arenera de ana está sucia\n",
      "{'arenera', 'ana'}\n"
     ]
    }
   ],
   "source": [
    "frase = input(\"Ingrese una frase: \").lower()\n",
    "setpalabras = set()\n",
    "palabras = frase.split()\n",
    "\n",
    "def esPalindromo(palabra):\n",
    "    return palabra == palabra[::-1]\n",
    "\n",
    "for palabra in palabras:\n",
    "    if esPalindromo(palabra) == True:\n",
    "        setpalabras.add(palabra)\n",
    "\n",
    "print(setpalabras)"
   ]
  }
 ],
 "metadata": {
  "kernelspec": {
   "display_name": "Python 3",
   "language": "python",
   "name": "python3"
  },
  "language_info": {
   "codemirror_mode": {
    "name": "ipython",
    "version": 3
   },
   "file_extension": ".py",
   "mimetype": "text/x-python",
   "name": "python",
   "nbconvert_exporter": "python",
   "pygments_lexer": "ipython3",
   "version": "3.8.8"
  }
 },
 "nbformat": 4,
 "nbformat_minor": 5
}
