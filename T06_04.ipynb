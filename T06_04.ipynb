{
  "nbformat": 4,
  "nbformat_minor": 0,
  "metadata": {
    "colab": {
      "name": "T06-04.ipynb",
      "provenance": [],
      "collapsed_sections": [],
      "include_colab_link": true
    },
    "kernelspec": {
      "name": "python3",
      "display_name": "Python 3"
    }
  },
  "cells": [
    {
      "cell_type": "markdown",
      "metadata": {
        "id": "view-in-github",
        "colab_type": "text"
      },
      "source": [
        "<a href=\"https://colab.research.google.com/github/claudiaospina/Python-3-de-la-A-a-la-Z/blob/main/T06_04.ipynb\" target=\"_parent\"><img src=\"https://colab.research.google.com/assets/colab-badge.svg\" alt=\"Open In Colab\"/></a>"
      ]
    },
    {
      "cell_type": "markdown",
      "metadata": {
        "id": "n1RfEJ1UKiuY"
      },
      "source": [
        "# Ejercicio\n",
        "\n",
        "Vamos a convertir los números impares del 0 al 30 a una lista y mostrar los elementos con el fomato \"El valor {} ocupa el índice {}\""
      ]
    },
    {
      "cell_type": "code",
      "metadata": {
        "id": "fxRFlR7OHZf3",
        "colab": {
          "base_uri": "https://localhost:8080/"
        },
        "outputId": "3482071c-2035-4fb0-d6ad-5ceaf869ada6"
      },
      "source": [
        "odd = list(range(1, 30, 2))\n",
        "\n",
        "for i in range(len(odd)):\n",
        "  print(\"El valor {} ocupa el índice {}\".format(odd[i], i))"
      ],
      "execution_count": null,
      "outputs": [
        {
          "output_type": "stream",
          "text": [
            "El valor 1 ocupa el índice 0\n",
            "El valor 3 ocupa el índice 1\n",
            "El valor 5 ocupa el índice 2\n",
            "El valor 7 ocupa el índice 3\n",
            "El valor 9 ocupa el índice 4\n",
            "El valor 11 ocupa el índice 5\n",
            "El valor 13 ocupa el índice 6\n",
            "El valor 15 ocupa el índice 7\n",
            "El valor 17 ocupa el índice 8\n",
            "El valor 19 ocupa el índice 9\n",
            "El valor 21 ocupa el índice 10\n",
            "El valor 23 ocupa el índice 11\n",
            "El valor 25 ocupa el índice 12\n",
            "El valor 27 ocupa el índice 13\n",
            "El valor 29 ocupa el índice 14\n"
          ],
          "name": "stdout"
        }
      ]
    }
  ]
}