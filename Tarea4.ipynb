{
 "cells": [
  {
   "cell_type": "markdown",
   "id": "9ee2d06f",
   "metadata": {},
   "source": [
    "# Tarea 4 Operadores de iteración\n",
    "### Curso Python de la A a la Z"
   ]
  },
  {
   "cell_type": "markdown",
   "id": "1b2f2788",
   "metadata": {},
   "source": [
    "### Ejercicio 1\n",
    "\n",
    "Haz que el usuario introduzca números enteros por teclado. Mientras el usuario no introduzca el 0, muestra\n",
    "si el número introducido es par o impar."
   ]
  },
  {
   "cell_type": "code",
   "execution_count": 19,
   "id": "7207609f",
   "metadata": {},
   "outputs": [
    {
     "name": "stdout",
     "output_type": "stream",
     "text": [
      "Ingresa un número: 4\n",
      "El número 4 es par.\n",
      "Ingresa un número: 9\n",
      "El número 9 es impar.\n",
      "Ingresa un número: 5\n",
      "El número 5 es impar.\n",
      "Ingresa un número: 89\n",
      "El número 89 es impar.\n",
      "Ingresa un número: -58\n",
      "El número -58 es par.\n",
      "Ingresa un número: 0\n"
     ]
    }
   ],
   "source": [
    "num = int(input(\"Ingresa un número: \"))\n",
    "\n",
    "while num != 0:\n",
    "    if num % 2 == 0:\n",
    "        print(\"El número {} es par.\".format(num)) \n",
    "    else:\n",
    "        print(\"El número {} es impar.\".format(num))\n",
    "    num = int(input(\"Ingresa un número: \"))"
   ]
  },
  {
   "cell_type": "markdown",
   "id": "fe6adfcc",
   "metadata": {},
   "source": [
    "### Ejercicio 2\n",
    "Haz que el usuario introduzca una palabra y una letra por teclado. Comprueba si la palabra contiene la\n",
    "letra o no e indícaselo al usuario por pantalla."
   ]
  },
  {
   "cell_type": "code",
   "execution_count": 90,
   "id": "296d421c",
   "metadata": {},
   "outputs": [
    {
     "name": "stdout",
     "output_type": "stream",
     "text": [
      "Ingresa una palabra: AustraliA\n",
      "Ingresa una letra: a\n",
      "La letra 'a' está contenida en la palabra 'australia'.\n"
     ]
    }
   ],
   "source": [
    "palabra = input(\"Ingresa una palabra: \")\n",
    "letra = input(\"Ingresa una letra: \")\n",
    "palabra = palabra.lower()\n",
    "letra = letra.lower()\n",
    "\n",
    "while letra in palabra:\n",
    "    print(\"La letra '{}' está contenida en la palabra '{}'.\".format(letra, palabra))\n",
    "    break    \n",
    "else:\n",
    "    print(\"La letra '{}' no está contenida en la palabra '{}'.\".format(letra, palabra))"
   ]
  },
  {
   "cell_type": "markdown",
   "id": "a206d530",
   "metadata": {},
   "source": [
    "### Ejercicio 3\n",
    "Haz que el usuario introduzca precios por teclado (si introduce 0, entonces es que ha finalizado). Si el usuario\n",
    "pasa de 200€, entonces ya no debe poder introducir más precios pues se ha pasado de presupuesto. Sea cual\n",
    "sea el resultado (o bien el precio final o bien que no tiene más presupuesto), indícaselo por pantalla al usuario."
   ]
  },
  {
   "cell_type": "code",
   "execution_count": 109,
   "id": "cf575a59",
   "metadata": {},
   "outputs": [
    {
     "name": "stdout",
     "output_type": "stream",
     "text": [
      "Introduzca el precio del producto: 20\n",
      "Introduzca el precio de otro producto: 50\n",
      "Introduzca el precio de otro producto: 250\n",
      "Has excedido tu presupuesto de €200.\n"
     ]
    }
   ],
   "source": [
    "precio = float(input(\"Introduzca el precio del producto: \"))\n",
    "suma = 0\n",
    "\n",
    "while precio != 0:\n",
    "    suma += precio\n",
    "    if suma <= 200:\n",
    "        precio = float(input(\"Introduzca el precio de otro producto: \"))\n",
    "    else:    \n",
    "        print(\"Has excedido tu presupuesto de €200.\")\n",
    "        break\n",
    "else:\n",
    "    print(\"El costo de tu compra es €{}.\".format(suma))"
   ]
  },
  {
   "cell_type": "markdown",
   "id": "544fc474",
   "metadata": {},
   "source": [
    "### Ejercicio 4\n",
    "Haz que el usuario introduzca números enteros por teclado. Mientras el usuario no introduzca el 0, calcula\n",
    "cuántos números positivos y cuántos negativos ha introducido y muéstraselo al final."
   ]
  },
  {
   "cell_type": "code",
   "execution_count": 111,
   "id": "558e12ac",
   "metadata": {},
   "outputs": [
    {
     "name": "stdout",
     "output_type": "stream",
     "text": [
      "Ingresa un número: 6\n",
      "Ingresa un número: -5\n",
      "Ingresa un número: -5\n",
      "Ingresa un número: -5\n",
      "Ingresa un número: -86544\n",
      "Ingresa un número: 0\n",
      "Ingresaste 1 números positivos y 4 números negativos.\n"
     ]
    }
   ],
   "source": [
    "num = int(input(\"Ingresa un número: \"))\n",
    "pos = 0\n",
    "neg = 0\n",
    "\n",
    "while num != 0:\n",
    "    if num > 0:\n",
    "        pos += 1\n",
    "    else:\n",
    "        neg += 1\n",
    "    num = int(input(\"Ingresa un número: \"))\n",
    "else:\n",
    "    print(\"Ingresaste {} números positivos y {} números negativos.\".format(pos, neg))"
   ]
  },
  {
   "cell_type": "markdown",
   "id": "a8de3dab",
   "metadata": {},
   "source": [
    "### Ejercicio 5\n",
    "Haz que el usuario introduzca números por teclado. Mientras el usuario no introduzca el 0, pídele otro\n",
    "número. Cuando el usuario introduzca el 0, muéstrale la media aritmética de los números que ha introducido."
   ]
  },
  {
   "cell_type": "code",
   "execution_count": 114,
   "id": "39afde03",
   "metadata": {},
   "outputs": [
    {
     "name": "stdout",
     "output_type": "stream",
     "text": [
      "Ingresa un número: 1.5\n",
      "Ingresa un número: 3.5\n",
      "Ingresa un número: 0\n",
      "Ingresaste 2 números y su media es 2.5 \n"
     ]
    }
   ],
   "source": [
    "num = float(input(\"Ingresa un número: \"))\n",
    "suma = 0\n",
    "cuenta = 0\n",
    "media = 0\n",
    "\n",
    "while num != 0:\n",
    "    suma += num\n",
    "    cuenta += 1\n",
    "    media = suma/cuenta\n",
    "    num = float(input(\"Ingresa un número: \"))\n",
    "else:\n",
    "    print(\"Ingresaste {} números y su media es {}.\".format(cuenta, media))"
   ]
  },
  {
   "cell_type": "markdown",
   "id": "9a33be01",
   "metadata": {},
   "source": [
    "### Ejercicio 6\n",
    "Haz que el usuario introduzca dos números enteros por teclado. El primero será el extremo izquierdo del\n",
    "intervalo y, el segundo, el extremo derecho. Imprime todos los números que se encuentren entre los dos\n",
    "números introducidos por el usuario (los extremos incluidos)."
   ]
  },
  {
   "cell_type": "code",
   "execution_count": 117,
   "id": "c75d36f0",
   "metadata": {},
   "outputs": [
    {
     "name": "stdout",
     "output_type": "stream",
     "text": [
      "Ingresa el extremo izquierdo del intervalo: 5\n",
      "Ingresa el extremo derecho del intervalo: 10\n",
      "5\n",
      "6\n",
      "7\n",
      "8\n",
      "9\n",
      "10\n"
     ]
    }
   ],
   "source": [
    "izq = int(input(\"Ingresa el extremo izquierdo del intervalo: \"))\n",
    "der = int(input(\"Ingresa el extremo derecho del intervalo: \"))\n",
    "\n",
    "for i in range (izq, der+1):\n",
    "    print(i)"
   ]
  },
  {
   "cell_type": "markdown",
   "id": "9ee63812",
   "metadata": {},
   "source": [
    "### Ejercicio 7\n",
    "Haz que el usuario introduzca dos números enteros por teclado. El primero será el extremo izquierdo del\n",
    "intervalo y, el segundo, el extremo derecho. Imprime la suma de todos los múltiplos de 3 que se encuentren\n",
    "entre los dos números introducidos por el usuario (los extremos incluidos). Finalmente, muestra por pantalla\n",
    "el resultado de la suma.\n"
   ]
  },
  {
   "cell_type": "code",
   "execution_count": 124,
   "id": "b593744d",
   "metadata": {},
   "outputs": [
    {
     "name": "stdout",
     "output_type": "stream",
     "text": [
      "Ingresa el extremo izquierdo del intervalo: 1\n",
      "Ingresa el extremo derecho del intervalo: 3\n",
      "La suma de los múltiplos de 3 incluidos en el intervalo (1, 3) es 3.\n"
     ]
    }
   ],
   "source": [
    "izq = int(input(\"Ingresa el extremo izquierdo del intervalo: \"))\n",
    "der = int(input(\"Ingresa el extremo derecho del intervalo: \"))\n",
    "suma = 0\n",
    "\n",
    "for i in range (izq, der+1):\n",
    "    if i % 3 == 0:\n",
    "        suma += i\n",
    "print(\"La suma de los múltiplos de 3 incluidos en el intervalo ({}, {}) es {}.\".format(izq, der, suma))"
   ]
  },
  {
   "cell_type": "markdown",
   "id": "229f857c",
   "metadata": {},
   "source": [
    "### Ejercicio 8\n",
    "Pídele al usuario cuántos números va a introducir. Con un bucle for, solicítale esa cantidad de números y\n",
    "calcula su producto.\n"
   ]
  },
  {
   "cell_type": "code",
   "execution_count": 8,
   "id": "bd7262c0",
   "metadata": {},
   "outputs": [
    {
     "name": "stdout",
     "output_type": "stream",
     "text": [
      "¿Cuántos números deseas ingresar?: 4\n",
      "Ingresa un número: 2\n",
      "Ingresa un número: 3\n",
      "Ingresa un número: 45\n",
      "Ingresa un número: 5\n",
      "El producto entre los 4 números que ingresaste es 1350.\n"
     ]
    }
   ],
   "source": [
    "total = int(input(\"¿Cuántos números deseas ingresar? \"))\n",
    "producto = 1\n",
    "\n",
    "for i in range (1, total + 1):\n",
    "    num = int(input(\"Ingresa un número: \"))\n",
    "    producto = producto * num\n",
    "print(\"El producto entre los {} números que ingresaste es {}.\".format(total, producto))"
   ]
  },
  {
   "cell_type": "markdown",
   "id": "98ba9747",
   "metadata": {},
   "source": [
    "### Ejercicio 9\n",
    "Haz que el usuario introduzca su edad y el año actual. Imprime todos los años que han pasado desde su año\n",
    "de nacimiento hasta el año actual (ambos incluidos)."
   ]
  },
  {
   "cell_type": "code",
   "execution_count": 14,
   "id": "afbb47fd",
   "metadata": {},
   "outputs": [
    {
     "name": "stdout",
     "output_type": "stream",
     "text": [
      "¿Cuántos años tienes? 29\n",
      "Introduce el año actual: 2021\n",
      "1992\n",
      "1993\n",
      "1994\n",
      "1995\n",
      "1996\n",
      "1997\n",
      "1998\n",
      "1999\n",
      "2000\n",
      "2001\n",
      "2002\n",
      "2003\n",
      "2004\n",
      "2005\n",
      "2006\n",
      "2007\n",
      "2008\n",
      "2009\n",
      "2010\n",
      "2011\n",
      "2012\n",
      "2013\n",
      "2014\n",
      "2015\n",
      "2016\n",
      "2017\n",
      "2018\n",
      "2019\n",
      "2020\n",
      "2021\n"
     ]
    }
   ],
   "source": [
    "edad = int(input(\"¿Cuántos años tienes? \"))\n",
    "año = int(input(\"Introduce el año actual: \"))\n",
    "\n",
    "for i in range((año - edad), año+1, 1):\n",
    "    print(i)"
   ]
  },
  {
   "cell_type": "markdown",
   "id": "527dc313",
   "metadata": {},
   "source": [
    "### Ejercicio 10\n",
    "Haz que el usuario introduzca un número entero. Muestra un cuadrado y luego un triángulo rectángulo de\n",
    "lado y altura, respectivamente, el número entero introducido. Por ejemplo, si el usuario introduce como\n",
    "número 5, se deberá mostrar:\n",
    "\n",
    "    *          * * * * *\n",
    "    * *        * * * * *\n",
    "    * * *      * * * * *\n",
    "    * * * *    * * * * *\n",
    "    * * * * *  * * * * *"
   ]
  },
  {
   "cell_type": "code",
   "execution_count": 40,
   "id": "e0e2a272",
   "metadata": {},
   "outputs": [
    {
     "name": "stdout",
     "output_type": "stream",
     "text": [
      "Ingresa un número: 50\n",
      "************************************************** *\n",
      "************************************************** **\n",
      "************************************************** ***\n",
      "************************************************** ****\n",
      "************************************************** *****\n",
      "************************************************** ******\n",
      "************************************************** *******\n",
      "************************************************** ********\n",
      "************************************************** *********\n",
      "************************************************** **********\n",
      "************************************************** ***********\n",
      "************************************************** ************\n",
      "************************************************** *************\n",
      "************************************************** **************\n",
      "************************************************** ***************\n",
      "************************************************** ****************\n",
      "************************************************** *****************\n",
      "************************************************** ******************\n",
      "************************************************** *******************\n",
      "************************************************** ********************\n",
      "************************************************** *********************\n",
      "************************************************** **********************\n",
      "************************************************** ***********************\n",
      "************************************************** ************************\n",
      "************************************************** *************************\n",
      "************************************************** **************************\n",
      "************************************************** ***************************\n",
      "************************************************** ****************************\n",
      "************************************************** *****************************\n",
      "************************************************** ******************************\n",
      "************************************************** *******************************\n",
      "************************************************** ********************************\n",
      "************************************************** *********************************\n",
      "************************************************** **********************************\n",
      "************************************************** ***********************************\n",
      "************************************************** ************************************\n",
      "************************************************** *************************************\n",
      "************************************************** **************************************\n",
      "************************************************** ***************************************\n",
      "************************************************** ****************************************\n",
      "************************************************** *****************************************\n",
      "************************************************** ******************************************\n",
      "************************************************** *******************************************\n",
      "************************************************** ********************************************\n",
      "************************************************** *********************************************\n",
      "************************************************** **********************************************\n",
      "************************************************** ***********************************************\n",
      "************************************************** ************************************************\n",
      "************************************************** *************************************************\n",
      "************************************************** **************************************************\n"
     ]
    }
   ],
   "source": [
    "num = int(input(\"Ingresa un número: \"))\n",
    "\n",
    "for i in range(1, num + 1):\n",
    "    tr = \"*\" * i\n",
    "    sq = \"*\" * num\n",
    "    print(sq, tr)"
   ]
  }
 ],
 "metadata": {
  "kernelspec": {
   "display_name": "Python 3",
   "language": "python",
   "name": "python3"
  },
  "language_info": {
   "codemirror_mode": {
    "name": "ipython",
    "version": 3
   },
   "file_extension": ".py",
   "mimetype": "text/x-python",
   "name": "python",
   "nbconvert_exporter": "python",
   "pygments_lexer": "ipython3",
   "version": "3.8.8"
  }
 },
 "nbformat": 4,
 "nbformat_minor": 5
}
