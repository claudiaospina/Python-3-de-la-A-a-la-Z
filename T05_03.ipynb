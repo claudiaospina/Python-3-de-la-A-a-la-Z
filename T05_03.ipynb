{
  "nbformat": 4,
  "nbformat_minor": 0,
  "metadata": {
    "colab": {
      "name": "T05-03.ipynb",
      "provenance": [],
      "collapsed_sections": [],
      "include_colab_link": true
    },
    "kernelspec": {
      "name": "python3",
      "display_name": "Python 3"
    }
  },
  "cells": [
    {
      "cell_type": "markdown",
      "metadata": {
        "id": "view-in-github",
        "colab_type": "text"
      },
      "source": [
        "<a href=\"https://colab.research.google.com/github/claudiaospina/Python-3-de-la-A-a-la-Z/blob/main/T05_03.ipynb\" target=\"_parent\"><img src=\"https://colab.research.google.com/assets/colab-badge.svg\" alt=\"Open In Colab\"/></a>"
      ]
    },
    {
      "cell_type": "markdown",
      "metadata": {
        "id": "AkNvPdOOQtuT"
      },
      "source": [
        "# Ejercicio\n",
        "\n",
        "Vamos a hacer que el usuario introduzca números por teclado e ir sumándolos. Cuando el usuario introduzca 0 saldremos del bucle `while`. Al salir del bucle, con un `else` mostraremos la suma."
      ]
    },
    {
      "cell_type": "code",
      "metadata": {
        "colab": {
          "base_uri": "https://localhost:8080/"
        },
        "id": "RAny8biDQrak",
        "outputId": "ab4b60f2-e00c-4ded-87f7-ce6347def00a"
      },
      "source": [
        "n = float(input(\"Introduce un número: \"))\n",
        "sum = 0\n",
        "\n",
        "while n != 0:\n",
        "  sum += n\n",
        "  n = float(input(\"Introduce un número: \"))\n",
        "else:\n",
        "  print(\"La suma total es\", sum)"
      ],
      "execution_count": 2,
      "outputs": [
        {
          "output_type": "stream",
          "text": [
            "Introduce un número: 8\n",
            "Introduce un número: 98\n",
            "Introduce un número: .1\n",
            "Introduce un número: 0\n",
            "La suma total es 106.1\n"
          ],
          "name": "stdout"
        }
      ]
    }
  ]
}