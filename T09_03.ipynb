{
  "nbformat": 4,
  "nbformat_minor": 0,
  "metadata": {
    "colab": {
      "name": "T09-03.ipynb",
      "provenance": [],
      "collapsed_sections": [],
      "include_colab_link": true
    },
    "kernelspec": {
      "name": "python3",
      "display_name": "Python 3"
    }
  },
  "cells": [
    {
      "cell_type": "markdown",
      "metadata": {
        "id": "view-in-github",
        "colab_type": "text"
      },
      "source": [
        "<a href=\"https://colab.research.google.com/github/claudiaospina/Python-3-de-la-A-a-la-Z/blob/main/T09_03.ipynb\" target=\"_parent\"><img src=\"https://colab.research.google.com/assets/colab-badge.svg\" alt=\"Open In Colab\"/></a>"
      ]
    },
    {
      "cell_type": "markdown",
      "metadata": {
        "id": "hThY3KuTErk9"
      },
      "source": [
        "# Ejercicio\n",
        "\n",
        "Dada una frase introducida por el usuario, vamos a crear una lista con 3 tuplas de 2 entradas. La primera tupla contendrá el número de vocales; la segunda, el número de consonantes; y la última, el número de espacios en blanco. Para cada tupla, la primera entrada será un string explicativo y, la segunda, el valor correspondiente."
      ]
    },
    {
      "cell_type": "code",
      "metadata": {
        "id": "WGscI1GcDCKT",
        "colab": {
          "base_uri": "https://localhost:8080/"
        },
        "outputId": "031ebde1-182d-4d05-f901-76b043ddb7b1"
      },
      "source": [
        "s = input()\n",
        "s = s.lower()\n",
        "vowels = [\"a\", \"e\", \"i\", \"o\", \"u\", \"á\", \"é\", \"í\", \"ó\", \"ú\", \"ü\"]\n",
        "\n",
        "vowels_count = 0\n",
        "consonants_count = 0\n",
        "blanks_count = 0\n",
        "\n",
        "for c in s:\n",
        "  if c in vowels:\n",
        "    vowels_count += 1\n",
        "  elif c.isalpha():\n",
        "    consonants_count += 1\n",
        "  elif c == \" \":\n",
        "    blanks_count += 1\n",
        "\n",
        "info = [(\"Vocales\", vowels_count), (\"Consonantes\", consonants_count), (\"Espacios\", blanks_count)]\n",
        "print(info)"
      ],
      "execution_count": 4,
      "outputs": [
        {
          "output_type": "stream",
          "name": "stdout",
          "text": [
            "La ortografía es iuna vergüenza\n",
            "[('Vocales', 14), ('Consonantes', 13), ('Espacios', 4)]\n"
          ]
        }
      ]
    }
  ]
}