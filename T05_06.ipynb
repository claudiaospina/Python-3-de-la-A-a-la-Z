{
  "nbformat": 4,
  "nbformat_minor": 0,
  "metadata": {
    "colab": {
      "name": "T05-06.ipynb",
      "provenance": [],
      "collapsed_sections": [],
      "include_colab_link": true
    },
    "kernelspec": {
      "name": "python3",
      "display_name": "Python 3"
    }
  },
  "cells": [
    {
      "cell_type": "markdown",
      "metadata": {
        "id": "view-in-github",
        "colab_type": "text"
      },
      "source": [
        "<a href=\"https://colab.research.google.com/github/claudiaospina/Python-3-de-la-A-a-la-Z/blob/main/T05_06.ipynb\" target=\"_parent\"><img src=\"https://colab.research.google.com/assets/colab-badge.svg\" alt=\"Open In Colab\"/></a>"
      ]
    },
    {
      "cell_type": "markdown",
      "metadata": {
        "id": "D3oRd8B-XFF-"
      },
      "source": [
        "# Ejercicio\n",
        "\n",
        "Con un bucle `for`, dada una [progresión aritmética](https://es.wikipedia.org/wiki/Progresi%C3%B3n_aritm%C3%A9tica) de números enteros indicada por el usuario (nos dará el primer término, la diferencia y la cota), vamos a calcular la suma de los elementos incluyendo la cota.\n",
        "\n",
        "Un ejemplo de progresión aritmética es: 0, 2, 4, 6, 8, ... donde el primer término es 0 y la diferencia entre sus términos es 2."
      ]
    },
    {
      "cell_type": "code",
      "metadata": {
        "colab": {
          "base_uri": "https://localhost:8080/"
        },
        "id": "sjf3xklpRz-O",
        "outputId": "8a819f21-5b9f-4296-9f68-aad024ace532"
      },
      "source": [
        "a0 = int(input(\"Introduce el término inicial de una progresión aritmética: \"))\n",
        "d = int(input(\"Introduce la diferencia de dicha progresión aritmética: \"))\n",
        "af = int(input(\"Indica la cota para finalizar: \"))\n",
        "sum_an = 0\n",
        "\n",
        "for an in range(a0, af + 1, d):\n",
        "  sum_an += an\n",
        "\n",
        "print(\"La suma de los términos de la sucesión que has indicado es\", sum_an)\n"
      ],
      "execution_count": null,
      "outputs": [
        {
          "output_type": "stream",
          "text": [
            "Introduce el término inicial de una progresión aritmética: 0\n",
            "Introduce la diferencia de dicha progresión aritmética: 2\n",
            "Indica la cota para finalizar: 8\n",
            "La suma de los términos de la sucesión que has indicado es 20\n"
          ],
          "name": "stdout"
        }
      ]
    }
  ]
}