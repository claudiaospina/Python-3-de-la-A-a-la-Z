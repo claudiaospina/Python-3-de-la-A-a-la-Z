{
  "nbformat": 4,
  "nbformat_minor": 0,
  "metadata": {
    "colab": {
      "name": "T06-05.ipynb",
      "provenance": [],
      "collapsed_sections": [],
      "include_colab_link": true
    },
    "kernelspec": {
      "name": "python3",
      "display_name": "Python 3"
    }
  },
  "cells": [
    {
      "cell_type": "markdown",
      "metadata": {
        "id": "view-in-github",
        "colab_type": "text"
      },
      "source": [
        "<a href=\"https://colab.research.google.com/github/claudiaospina/Python-3-de-la-A-a-la-Z/blob/main/T06_05.ipynb\" target=\"_parent\"><img src=\"https://colab.research.google.com/assets/colab-badge.svg\" alt=\"Open In Colab\"/></a>"
      ]
    },
    {
      "cell_type": "markdown",
      "metadata": {
        "id": "kw1k1wkBOooR"
      },
      "source": [
        "# Ejercicio\n",
        "\n",
        "Vamos a crear manualmente una matriz de tamaño 4 x 4 y guardarla en una lista."
      ]
    },
    {
      "cell_type": "code",
      "metadata": {
        "id": "klAJgGEvHbE7",
        "colab": {
          "base_uri": "https://localhost:8080/"
        },
        "outputId": "95e7ceef-7765-4f2f-812f-3724adb0d4d0"
      },
      "source": [
        "A = []\n",
        "for i in range(4):\n",
        "  A.append([])\n",
        "  for j in range(4):\n",
        "    A[i].append(float(input(\"Introduce el elemento ({},{}): \".format(i, j))))\n",
        "\n",
        "for i in range(4):\n",
        "  for j in range(4):\n",
        "    print(A[i][j], end = \"  \" if A[i][j] >= 0 else \" \")\n",
        "  print(\"\")"
      ],
      "execution_count": null,
      "outputs": [
        {
          "output_type": "stream",
          "text": [
            "Introduce el elemento (0,0): 1\n",
            "Introduce el elemento (0,1): 2\n",
            "Introduce el elemento (0,2): 3\n",
            "Introduce el elemento (0,3): 4\n",
            "Introduce el elemento (1,0): 0\n",
            "Introduce el elemento (1,1): -1\n",
            "Introduce el elemento (1,2): 0\n",
            "Introduce el elemento (1,3): 1\n",
            "Introduce el elemento (2,0): -5\n",
            "Introduce el elemento (2,1): -6\n",
            "Introduce el elemento (2,2): -3\n",
            "Introduce el elemento (2,3): -2\n",
            "Introduce el elemento (3,0): 9\n",
            "Introduce el elemento (3,1): 7\n",
            "Introduce el elemento (3,2): 5\n",
            "Introduce el elemento (3,3): 3\n",
            "1.0  2.0  3.0  4.0  \n",
            "0.0  -1.0 0.0  1.0  \n",
            "-5.0 -6.0 -3.0 -2.0 \n",
            "9.0  7.0  5.0  3.0  \n"
          ],
          "name": "stdout"
        }
      ]
    }
  ]
}