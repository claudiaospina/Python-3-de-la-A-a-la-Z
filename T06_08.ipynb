{
  "nbformat": 4,
  "nbformat_minor": 0,
  "metadata": {
    "colab": {
      "name": "T06-08.ipynb",
      "provenance": [],
      "collapsed_sections": [],
      "include_colab_link": true
    },
    "kernelspec": {
      "name": "python3",
      "display_name": "Python 3"
    }
  },
  "cells": [
    {
      "cell_type": "markdown",
      "metadata": {
        "id": "view-in-github",
        "colab_type": "text"
      },
      "source": [
        "<a href=\"https://colab.research.google.com/github/claudiaospina/Python-3-de-la-A-a-la-Z/blob/main/T06_08.ipynb\" target=\"_parent\"><img src=\"https://colab.research.google.com/assets/colab-badge.svg\" alt=\"Open In Colab\"/></a>"
      ]
    },
    {
      "cell_type": "markdown",
      "metadata": {
        "id": "IHQvYNWeVCLy"
      },
      "source": [
        "# Ejercicio\n",
        "\n",
        "Vamos a introducir manualmente una matriz con `numpy` donde las dimensiones son proporcionadas por el usuario."
      ]
    },
    {
      "cell_type": "code",
      "metadata": {
        "colab": {
          "base_uri": "https://localhost:8080/"
        },
        "id": "78yiqSsLzyw7",
        "outputId": "d75b7be5-2cf1-4281-de95-4635f1cd70a5"
      },
      "source": [
        "import numpy as np\n",
        "n = int(input(\"Número de filas: \"))\n",
        "m = int(input(\"Número de columnas: \")) \n",
        "\n",
        "A = np.empty((n, m))\n",
        "\n",
        "for i in range(n):\n",
        "  for j in range(m):\n",
        "    A[i, j] = float(input(\"Introduce el elemento ({},{}) \".format(i, j)))\n",
        "\n",
        "print(\"\\n=== Matriz A ===\")\n",
        "print(A)"
      ],
      "execution_count": null,
      "outputs": [
        {
          "output_type": "stream",
          "text": [
            "Número de filas: 3\n",
            "Número de columnas: 2\n",
            "Introduce el elemento (0,0) 1\n",
            "Introduce el elemento (0,1) 0\n",
            "Introduce el elemento (1,0) 0\n",
            "Introduce el elemento (1,1) 2\n",
            "Introduce el elemento (2,0) 1\n",
            "Introduce el elemento (2,1) -1\n",
            "\n",
            "=== Matriz A ===\n",
            "[[ 1.  0.]\n",
            " [ 0.  2.]\n",
            " [ 1. -1.]]\n"
          ],
          "name": "stdout"
        }
      ]
    }
  ]
}