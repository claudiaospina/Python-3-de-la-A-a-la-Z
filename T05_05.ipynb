{
  "nbformat": 4,
  "nbformat_minor": 0,
  "metadata": {
    "colab": {
      "name": "T05-05.ipynb",
      "provenance": [],
      "collapsed_sections": [],
      "include_colab_link": true
    },
    "kernelspec": {
      "name": "python3",
      "display_name": "Python 3"
    }
  },
  "cells": [
    {
      "cell_type": "markdown",
      "metadata": {
        "id": "view-in-github",
        "colab_type": "text"
      },
      "source": [
        "<a href=\"https://colab.research.google.com/github/claudiaospina/Python-3-de-la-A-a-la-Z/blob/main/T05_05.ipynb\" target=\"_parent\"><img src=\"https://colab.research.google.com/assets/colab-badge.svg\" alt=\"Open In Colab\"/></a>"
      ]
    },
    {
      "cell_type": "markdown",
      "metadata": {
        "id": "GbWilFkvWq5n"
      },
      "source": [
        "# Ejercicio\n",
        "\n",
        "Vamos a recorrer un string dado con un bucle `for` y lo vamos a devolver impreso del revés."
      ]
    },
    {
      "cell_type": "code",
      "metadata": {
        "colab": {
          "base_uri": "https://localhost:8080/"
        },
        "id": "sQsQOks_Ryb1",
        "outputId": "e9099687-0b48-4e92-89b3-0d6814cba8f6"
      },
      "source": [
        "s = \"Mi mamá me mima\"\n",
        "s_inv = \"\"\n",
        "\n",
        "for c in s:\n",
        "  s_inv = c + s_inv\n",
        "\n",
        "print(s_inv)"
      ],
      "execution_count": 6,
      "outputs": [
        {
          "output_type": "stream",
          "text": [
            "amim em ámam iM\n"
          ],
          "name": "stdout"
        }
      ]
    }
  ]
}