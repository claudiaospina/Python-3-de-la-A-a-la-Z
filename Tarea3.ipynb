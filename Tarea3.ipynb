{
 "cells": [
  {
   "cell_type": "markdown",
   "id": "e9ca3871",
   "metadata": {},
   "source": [
    "# Tarea 3 Operadores de decisión\n",
    "### Curso Python de la A a la Z"
   ]
  },
  {
   "cell_type": "markdown",
   "id": "efe144dd",
   "metadata": {},
   "source": [
    "### Ejercicio 1\n",
    "Haz que un usuario introduzca un número real y evalúa si dicho número es positivo, negativo o cero. Devuelve\n",
    "por pantalla el resultado en cada caso."
   ]
  },
  {
   "cell_type": "code",
   "execution_count": 6,
   "id": "f043042f",
   "metadata": {},
   "outputs": [
    {
     "name": "stdout",
     "output_type": "stream",
     "text": [
      "Introduzca un número real: 0.000\n",
      "El número 0.0 es cero.\n"
     ]
    }
   ],
   "source": [
    "numero = float(input(\"Introduzca un número real: \"))\n",
    "if numero > 0:\n",
    "    print(\"El número {} es positivo.\".format(numero))\n",
    "elif numero < 0:\n",
    "    print(\"El número {} es negativo.\".format(numero))\n",
    "else:\n",
    "    print(\"El número {} es cero.\".format(numero))"
   ]
  },
  {
   "cell_type": "markdown",
   "id": "4375d3b6",
   "metadata": {},
   "source": [
    "### Ejercicio 2\n",
    "Haz que un usuario introduzca su nombre y evalúa con operadores if y else si dicho nombre tiene una\n",
    "longitud mayor a 10 caracteres o no. Devuelve por pantalla el resultado en cada caso."
   ]
  },
  {
   "cell_type": "code",
   "execution_count": 8,
   "id": "b59ca769",
   "metadata": {},
   "outputs": [
    {
     "name": "stdout",
     "output_type": "stream",
     "text": [
      "Ingresa tu nombre: SKGjkasgkJSGKJgaskJASG\n",
      "La longitud del nombre SKGjkasgkJSGKJgaskJASG es mayor que diez.\n"
     ]
    }
   ],
   "source": [
    "nombre = input(\"Ingresa tu nombre: \")\n",
    "if len(nombre) > 10:\n",
    "    print(\"La longitud del nombre {} es mayor que diez.\".format(nombre))\n",
    "else:\n",
    "    print(\"La longitud del nombre {} NO es mayor que diez.\".format(nombre))"
   ]
  },
  {
   "cell_type": "markdown",
   "id": "9d9b99b7",
   "metadata": {},
   "source": [
    "### Ejercicio 3\n",
    "Realiza el ejercicio anterior con el uso del operador ternario.\n"
   ]
  },
  {
   "cell_type": "code",
   "execution_count": 9,
   "id": "2b9967ec",
   "metadata": {},
   "outputs": [
    {
     "name": "stdout",
     "output_type": "stream",
     "text": [
      "Ingresa tu nombre: Claudia\n",
      "La longitud del nombre Claudia NO es mayor que diez.\n"
     ]
    }
   ],
   "source": [
    "nombre = input(\"Ingresa tu nombre: \")\n",
    "print(\"La longitud del nombre {} es mayor que diez.\".format(nombre)) if len(nombre) > 10 else print(\"La longitud del nombre {} NO es mayor que diez.\".format(nombre))    "
   ]
  },
  {
   "cell_type": "markdown",
   "id": "56263a46",
   "metadata": {},
   "source": [
    "### Ejercicio 4\n",
    "Haz que un usuario introduzca dos números enteros positivos. Comprueba si el primer número introducido\n",
    "por el usuario es mayor o igual que el segundo número introducido por el usuario. Devuelve por pantalla el\n",
    "resultado en cada caso.\n",
    "\n",
    "PISTA: Asegúrate de hacer uso de la función int() donde pertoque.\n"
   ]
  },
  {
   "cell_type": "code",
   "execution_count": 33,
   "id": "1fa6b198",
   "metadata": {},
   "outputs": [
    {
     "name": "stdout",
     "output_type": "stream",
     "text": [
      "Introduzca un número entero: 92\n",
      "Introduzca un número entero: 30\n",
      "El primer número es mayor o igual que el segundo porque 92 es mayor o igual que 30.\n"
     ]
    }
   ],
   "source": [
    "num1 = int(input(\"Introduzca un número entero: \"))\n",
    "num2 = int(input(\"Introduzca un número entero: \"))\n",
    "if num1 >= num2:\n",
    "    print(\"El primer número es mayor o igual que el segundo porque {} es mayor o igual que {}.\".format(num1, num2))\n",
    "else:\n",
    "    print(\"El primer número NO es mayor que el segundo porque {} no es mayor o igual que {}.\".format(num1, num2))"
   ]
  },
  {
   "cell_type": "markdown",
   "id": "ad38b665",
   "metadata": {},
   "source": [
    "### Ejercicio 5\n",
    "Haz que un usuario introduzca dos números enteros positivos. Suponiendo que el primer número introducido\n",
    "por el usuario es mayor o igual al segundo número introducido por el usuario, comprueba que la división del\n",
    "primer número entre el segundo número es entera.\n",
    "En caso de la división ser entera, devuelve el cociente por pantalla e indica que la división en efecto es entera.\n",
    "En caso de la división no ser entera, devuelve el cociente y el resto por pantalla e indica que la división entre\n",
    "los dos números no es entera."
   ]
  },
  {
   "cell_type": "code",
   "execution_count": 37,
   "id": "e69b4483",
   "metadata": {},
   "outputs": [
    {
     "name": "stdout",
     "output_type": "stream",
     "text": [
      "Introduzca un número entero: 95\n",
      "Introduzca un número entero: 6\n",
      "La división entre 95 y 6 NO es entera. El cociente es 15 y el resto es 5.\n"
     ]
    }
   ],
   "source": [
    "num1 = int(input(\"Introduzca un número entero: \"))\n",
    "num2 = int(input(\"Introduzca un número entero: \"))\n",
    "if num1 >= num2:\n",
    "    cociente = num1 // num2\n",
    "    residuo = num1 % num2\n",
    "    if residuo == 0:\n",
    "        print(\"La división entre {} y {} es entera y el cociente es {}.\".format(num1, num2, cociente))\n",
    "    else:\n",
    "        print(\"La división entre {} y {} NO es entera. El cociente es {} y el resto es {}.\".format(num1, num2, cociente, residuo))"
   ]
  },
  {
   "cell_type": "markdown",
   "id": "8af850c1",
   "metadata": {},
   "source": [
    "### Ejercicio 6\n",
    "Fusiona lo hecho en los ejercicios 4 y 5 para que\n",
    "1. Un usuario introduzca dos números enteros por pantalla.\n",
    "2. Comprobar si el primer número es mayor o igual al segundo número introducido por el usuario. Devolver\n",
    "    por pantalla en que caso nos encontramos.\n",
    "3. Hacer la división entera pertinente en cada caso.\n",
    "4. Si la división es entera, entonces devolver por pantalla el cociente e indicar que la división es entera.\n",
    "    Si la división no es entera, entonces devolver por pantalla el cociente y el resto e indicar que la división\n",
    "    realizada no es entera."
   ]
  },
  {
   "cell_type": "code",
   "execution_count": 39,
   "id": "74d6ed9d",
   "metadata": {},
   "outputs": [
    {
     "name": "stdout",
     "output_type": "stream",
     "text": [
      "Introduzca un número entero: 256\n",
      "Introduzca un número entero: 584\n",
      "El primer número NO es mayor que el segundo porque 256 no es mayor o igual que 584.\n"
     ]
    }
   ],
   "source": [
    "num1 = int(input(\"Introduzca un número entero: \"))\n",
    "num2 = int(input(\"Introduzca un número entero: \"))\n",
    "if num1 >= num2:\n",
    "    cociente = num1 // num2\n",
    "    residuo = num1 % num2\n",
    "    print(\"El primer número es mayor o igual que el segundo porque {} es mayor o igual que {}.\".format(num1, num2))\n",
    "    if residuo == 0:\n",
    "        print(\"La división entre {} y {} es entera y el cociente es {}.\".format(num1, num2, cociente))\n",
    "    else:\n",
    "        print(\"La división entre {} y {} NO es entera. El cociente es {} y el resto es {}.\".format(num1, num2, cociente, residuo))\n",
    "else:\n",
    "    print(\"El primer número NO es mayor que el segundo porque {} no es mayor o igual que {}.\".format(num1, num2))"
   ]
  },
  {
   "cell_type": "markdown",
   "id": "36bd3341",
   "metadata": {},
   "source": [
    "### Ejercicio 7\n",
    "Haz que un usuario introduzca dos números enteros positivos. Comprueba si el mayor es múltiplo del menor.\n",
    "Devuelve por pantalla el resultado en cada caso."
   ]
  },
  {
   "cell_type": "code",
   "execution_count": 42,
   "id": "ff1b29c9",
   "metadata": {},
   "outputs": [
    {
     "name": "stdout",
     "output_type": "stream",
     "text": [
      "Introduzca un número entero: 5\n",
      "Introduzca un número entero: 8\n",
      "5 no es mayor que 8.\n"
     ]
    }
   ],
   "source": [
    "num1 = int(input(\"Introduzca un número entero: \"))\n",
    "num2 = int(input(\"Introduzca un número entero: \"))\n",
    "if num1 > num2:\n",
    "    if num1 % num2 == 0:\n",
    "        print(\"{} es mayor que {} y es su múltiplo.\".format(num1, num2))\n",
    "    else:\n",
    "        print(\"{} es mayor que {} pero NO es su múltiplo.\".format(num1, num2))\n",
    "else:\n",
    "    print(\"{} NO es mayor que {}.\".format(num1, num2))"
   ]
  },
  {
   "cell_type": "markdown",
   "id": "f101edf5",
   "metadata": {},
   "source": [
    "### Ejercicio 8\n",
    "Haz que un usuario introduzca una palabra y comprueba si dicha palabra empieza por mayúscula. Devuelve\n",
    "por pantalla el resultado en cada caso."
   ]
  },
  {
   "cell_type": "code",
   "execution_count": 79,
   "id": "41a92ab7",
   "metadata": {},
   "outputs": [
    {
     "name": "stdout",
     "output_type": "stream",
     "text": [
      "Introduce una palabra: hola cómo\n",
      "El string ingresado contiene más de una palabra\n"
     ]
    }
   ],
   "source": [
    "palabra = input(\"Introduce una palabra: \")\n",
    "letra1 = palabra[0]\n",
    "if palabra.find(\" \") == -1:\n",
    "    if letra1.isupper() == True:\n",
    "        print(\"La palabra {} empieza con la letra mayúscula {}.\".format(palabra, letra1))\n",
    "    else:\n",
    "        print(\"La palabra {} NO empieza con una letra mayúscula.\".format(palabra))\n",
    "else:\n",
    "    print(\"El string ingresado contiene más de una palabra.\")"
   ]
  },
  {
   "cell_type": "markdown",
   "id": "56aaae90",
   "metadata": {},
   "source": [
    "### Ejercicio 9\n",
    "Haz un usuario introduza una letra y comprueba si se trata de una vocal. Si el usuario introduce un string\n",
    "de más de un carácter, infórmale de que no se puede procesar el dato, pues debe tener como máximo tamaño 1.\n",
    "\n",
    "PISTA: Convierte la letra introducida a minúsculas para tener que realizar menos comprobaciones\n"
   ]
  },
  {
   "cell_type": "code",
   "execution_count": 66,
   "id": "6976e9eb",
   "metadata": {},
   "outputs": [
    {
     "name": "stdout",
     "output_type": "stream",
     "text": [
      "Introduzca una letra: 6\n",
      "El caracter 6 NO es una vocal.\n"
     ]
    }
   ],
   "source": [
    "letra = input(\"Introduzca una letra: \")\n",
    "vocales = (\"a\", \"e\", \"i\" , \"o\" ,\"u\")\n",
    "longitud = len(letra)\n",
    "if longitud == 1:\n",
    "    if letra.lower() in vocales:\n",
    "        print(\"El caracter {} es una vocal.\".format(letra))\n",
    "    else:        \n",
    "        print(\"El caracter {} NO es una vocal.\".format(letra))      \n",
    "else:\n",
    "    print(\"No es posible procesar el dato. Revise la longitud.\")\n"
   ]
  },
  {
   "cell_type": "markdown",
   "id": "c457dd02",
   "metadata": {},
   "source": [
    "### Ejercicio 10\n",
    "Dada una ecuación de segundo grado $ax^2 + bx + c = 0$, sabemos que las soluciones vienen dadas por\n",
    "$$x = \\frac{−b ± \\sqrt{(b^2 − 4ac)}}{2a}$$\n",
    "\n",
    "siempre y cuando $a \\neq 0$.\n",
    "\n",
    "El número de soluciones dentro del conjunto de los números reales ${R}$ viene dado en función del signo que tome el discriminante $\\Delta = b^2 - 4ac$. \n",
    "\n",
    "Si $\\Delta > 0$, entonces tendremos dos soluciones diferentes en ${R}$ $(x = \\frac{-b + \\sqrt{\\Delta}}{2a} $ y $ x = \\frac{-b - \\sqrt{\\Delta}}{2a})$.\n",
    "\n",
    "Si $\\Delta = 0$, entonces tendremos dos soluciones que serán iguales $(x = \\frac{−b}{2a})$. \n",
    "\n",
    "Si $\\Delta < 0$, entonces no existe solución dentro del conjunto de los números reales para esta ecuación de segundo grado.\n",
    "\n",
    "Con toda esta información, haz que el usuario introduzca los valores de los coeficientes $a, b, c$. Con ello,\n",
    "1. Comprueba que el coeficiente a es distinto de $0$\n",
    "2. En función del discriminante, calcula cuántas soluciones va a tener la ecuación de segundo grado\n",
    "    $ax2 + bx + c = 0$.\n",
    "3. Devuelve por pantalla el resultado en cada caso (tanto el número de soluciones en los números reales\n",
    "    como el valor de éstas).\n",
    "\n",
    "PISTA: Para calcular la raíz cuadrada, vas a necesitar la función *math.sqrt()* de la librería *math*."
   ]
  },
  {
   "cell_type": "code",
   "execution_count": 75,
   "id": "eb852dbe",
   "metadata": {},
   "outputs": [
    {
     "name": "stdout",
     "output_type": "stream",
     "text": [
      "Ingresa el coeficiente a: 2\n",
      "Ingresa el coeficiente b: 8\n",
      "Ingresa el coeficiente c: 4\n",
      "La ecuación de segundo grado con coeficientes a = 2.0, b = 8.0 y c =4.0 cuenta con dos soluciones: x1 = -0.5857864376269049 y x2 -3.414213562373095.\n"
     ]
    }
   ],
   "source": [
    "import math\n",
    "a = float(input(\"Ingresa el coeficiente a: \"))\n",
    "b = float(input(\"Ingresa el coeficiente b: \"))\n",
    "c = float(input(\"Ingresa el coeficiente c: \"))\n",
    "disc = b**2 - 4*a*c\n",
    "\n",
    "if a != 0:\n",
    "    if disc > 0:\n",
    "        x1 = (-b + math.sqrt(disc))/(2*a)\n",
    "        x2 = (-b - math.sqrt(disc))/(2*a)\n",
    "        print(\"La ecuación de segundo grado con coeficientes a = {}, b = {} y c ={} cuenta con dos soluciones: x1 = {} y x2 {}.\".format(a, b, c, x1, x2))\n",
    "    if disc == 0:\n",
    "        x = -b/(2*a)\n",
    "        print(\"La ecuación de segundo grado con coeficientes a = {}, b = {} y c ={} cuenta con dos soluciones x idénticas a {}.\".format(a, b, c, x))\n",
    "    if disc < 0:\n",
    "        print(\"La ecuación de segundo grado con coeficientes a = {}, b = {} y c ={} no tiene solución en los reales.\".format(a, b, c))\n",
    "else:\n",
    "    print(\"El coeficiente a no es diferente de cero. Ingrese uno que si lo sea.\")"
   ]
  }
 ],
 "metadata": {
  "kernelspec": {
   "display_name": "Python 3",
   "language": "python",
   "name": "python3"
  },
  "language_info": {
   "codemirror_mode": {
    "name": "ipython",
    "version": 3
   },
   "file_extension": ".py",
   "mimetype": "text/x-python",
   "name": "python",
   "nbconvert_exporter": "python",
   "pygments_lexer": "ipython3",
   "version": "3.8.8"
  }
 },
 "nbformat": 4,
 "nbformat_minor": 5
}
