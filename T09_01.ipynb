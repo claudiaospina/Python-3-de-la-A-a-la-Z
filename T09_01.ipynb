{
  "nbformat": 4,
  "nbformat_minor": 0,
  "metadata": {
    "colab": {
      "name": "T09-01.ipynb",
      "provenance": [],
      "collapsed_sections": [],
      "include_colab_link": true
    },
    "kernelspec": {
      "name": "python3",
      "display_name": "Python 3"
    }
  },
  "cells": [
    {
      "cell_type": "markdown",
      "metadata": {
        "id": "view-in-github",
        "colab_type": "text"
      },
      "source": [
        "<a href=\"https://colab.research.google.com/github/claudiaospina/Python-3-de-la-A-a-la-Z/blob/main/T09_01.ipynb\" target=\"_parent\"><img src=\"https://colab.research.google.com/assets/colab-badge.svg\" alt=\"Open In Colab\"/></a>"
      ]
    },
    {
      "cell_type": "markdown",
      "metadata": {
        "id": "i3heruyJDQxC"
      },
      "source": [
        "# Ejercicio\n",
        "\n",
        "Vamos a pedirle al usuario el número de números enteros que va a introducir por teclado. Para cada uno de esos números, vamos a crear una tupla donde la primera entrada sea el número entero y, la segunda, la palabra \"positivo\", \"negativo\" o \"cero\" según el signo del número entero. Vamos a guardar todas las tuplas en una lista y las vamos a mostrar."
      ]
    },
    {
      "cell_type": "code",
      "metadata": {
        "id": "OLrrFCHVC_Ra",
        "colab": {
          "base_uri": "https://localhost:8080/"
        },
        "outputId": "8f4578c3-d10b-4f31-c4c5-8234c8304f9a"
      },
      "source": [
        "n = int(input(\"¿Cuántos números enteros vas a introducir? \"))\n",
        "nums = []\n",
        "\n",
        "for _ in range(n):\n",
        "  sign = \"\"\n",
        "  num = int(input())\n",
        "  if num > 0:\n",
        "    sign = \"positivo\"\n",
        "  elif num == 0:\n",
        "    sign = \"cero\"\n",
        "  else:\n",
        "    sign = \"negativo\"\n",
        "  nums.append((num, sign))\n",
        "\n",
        "print(nums)"
      ],
      "execution_count": null,
      "outputs": [
        {
          "output_type": "stream",
          "text": [
            "¿Cuántos números enteros vas a introducir? 3\n",
            "4\n",
            "0\n",
            "-7\n",
            "[(4, 'positivo'), (0, 'cero'), (-7, 'negativo')]\n"
          ],
          "name": "stdout"
        }
      ]
    }
  ]
}