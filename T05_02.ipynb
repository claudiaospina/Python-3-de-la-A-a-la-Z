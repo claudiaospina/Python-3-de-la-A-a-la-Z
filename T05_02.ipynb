{
  "nbformat": 4,
  "nbformat_minor": 0,
  "metadata": {
    "colab": {
      "name": "T05-02.ipynb",
      "provenance": [],
      "collapsed_sections": [],
      "include_colab_link": true
    },
    "kernelspec": {
      "name": "python3",
      "display_name": "Python 3"
    }
  },
  "cells": [
    {
      "cell_type": "markdown",
      "metadata": {
        "id": "view-in-github",
        "colab_type": "text"
      },
      "source": [
        "<a href=\"https://colab.research.google.com/github/claudiaospina/Python-3-de-la-A-a-la-Z/blob/main/T05_02.ipynb\" target=\"_parent\"><img src=\"https://colab.research.google.com/assets/colab-badge.svg\" alt=\"Open In Colab\"/></a>"
      ]
    },
    {
      "cell_type": "markdown",
      "metadata": {
        "id": "IpMpq9HHPL_4"
      },
      "source": [
        "# Ejercicio\n",
        "\n",
        "Con un bucle `while`, dados dos números enteros proporcionados por el usuario, vamos a encontrar el primer número divisible entre 2, 3 y 5, siempre que sea posible, que se encuentre dentro del intervalo formado por los dos números dados por el usuario (ambos extremos también incluidos)."
      ]
    },
    {
      "cell_type": "code",
      "metadata": {
        "colab": {
          "base_uri": "https://localhost:8080/"
        },
        "id": "nuPLN6q_PIWF",
        "outputId": "4a4d529b-a3ff-4cbb-e2f7-900f5628d9e4"
      },
      "source": [
        "a = int(input(\"Introduce el extremo izquierdo del intervalo: \"))\n",
        "b = int(input(\"Introduce el extremo derecho del intervalo: \"))\n",
        "\n",
        "n = a\n",
        "while n <= b:\n",
        "  if n % 2 == 0 and n % 3 == 0 and n % 5 == 0:\n",
        "    print(n)\n",
        "    break\n",
        "  n += 1\n",
        "\n",
        "if n == b + 1:\n",
        "  print(\"Dentro del intervalo que has proporcionado, no hay números enteros divisibles entre 2, 3 y 5\")"
      ],
      "execution_count": 2,
      "outputs": [
        {
          "output_type": "stream",
          "text": [
            "Introduce el extremo izquierdo del intervalo: 40\n",
            "Introduce el extremo derecho del intervalo: 100\n",
            "60\n"
          ],
          "name": "stdout"
        }
      ]
    }
  ]
}