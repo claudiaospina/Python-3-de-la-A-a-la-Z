{
  "nbformat": 4,
  "nbformat_minor": 0,
  "metadata": {
    "colab": {
      "name": "T06-06.ipynb",
      "provenance": [],
      "collapsed_sections": [],
      "include_colab_link": true
    },
    "kernelspec": {
      "name": "python3",
      "display_name": "Python 3"
    }
  },
  "cells": [
    {
      "cell_type": "markdown",
      "metadata": {
        "id": "view-in-github",
        "colab_type": "text"
      },
      "source": [
        "<a href=\"https://colab.research.google.com/github/claudiaospina/Python-3-de-la-A-a-la-Z/blob/main/T06_06.ipynb\" target=\"_parent\"><img src=\"https://colab.research.google.com/assets/colab-badge.svg\" alt=\"Open In Colab\"/></a>"
      ]
    },
    {
      "cell_type": "markdown",
      "metadata": {
        "id": "qrfm3r4NRDgZ"
      },
      "source": [
        "# Ejercicio\n",
        "\n",
        "Vamos a sumar dos matrices con listas. Ambas matrices serán proporcionadas por el usuario, así como la dimensión de las matrices."
      ]
    },
    {
      "cell_type": "code",
      "metadata": {
        "id": "KW3ww7UkHchN",
        "colab": {
          "base_uri": "https://localhost:8080/"
        },
        "outputId": "f1acf86a-cd2a-4e40-f86f-5a6bdb172303"
      },
      "source": [
        "n = int(input(\"Número de filas de las matrices: \"))\n",
        "m = int(input(\"Número de columnas de las matrices: \"))\n",
        "\n",
        "A = []\n",
        "print(\"\\n=== Matriz A ===\")\n",
        "for i in range(n):\n",
        "  A.append([])\n",
        "  for j in range(m):\n",
        "    A[i].append(float(input(\"Introduce el elemento ({},{}) \".format(i, j))))\n",
        "\n",
        "B = []\n",
        "print(\"\\n=== Matriz B ===\")\n",
        "for i in range(n):\n",
        "  B.append([])\n",
        "  for j in range(m):\n",
        "    B[i].append(float(input(\"Introduce el elemento ({},{}) \".format(i, j))))\n",
        "\n",
        "C = []\n",
        "for i in range(n):\n",
        "  C.append([])\n",
        "  for j in range(m):\n",
        "    C[i].append(A[i][j] + B[i][j])\n",
        "\n",
        "print(\"\\n=== Matriz A + B ===\")\n",
        "for i in range(n):\n",
        "  for j in range(m):\n",
        "    print(C[i][j], end = \"  \" if C[i][j] >= 0 else \" \")\n",
        "  print(\"\")"
      ],
      "execution_count": null,
      "outputs": [
        {
          "output_type": "stream",
          "text": [
            "Número de filas de las matrices: 2\n",
            "Número de columnas de las matrices: 3\n",
            "\n",
            "=== Matriz A ===\n",
            "Introduce el elemento (0,0) 1\n",
            "Introduce el elemento (0,1) 2\n",
            "Introduce el elemento (0,2) 3\n",
            "Introduce el elemento (1,0) 0\n",
            "Introduce el elemento (1,1) 2\n",
            "Introduce el elemento (1,2) 1\n",
            "\n",
            "=== Matriz B ===\n",
            "Introduce el elemento (0,0) -1\n",
            "Introduce el elemento (0,1) -1\n",
            "Introduce el elemento (0,2) 0\n",
            "Introduce el elemento (1,0) 1\n",
            "Introduce el elemento (1,1) 0\n",
            "Introduce el elemento (1,2) -1\n",
            "\n",
            "=== Matriz A + B ===\n",
            "0.0  1.0  3.0  \n",
            "1.0  2.0  0.0  \n"
          ],
          "name": "stdout"
        }
      ]
    }
  ]
}