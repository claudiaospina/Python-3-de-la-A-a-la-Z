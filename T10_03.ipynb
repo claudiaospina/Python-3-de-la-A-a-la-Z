{
  "nbformat": 4,
  "nbformat_minor": 0,
  "metadata": {
    "colab": {
      "name": "T10-03.ipynb",
      "provenance": [],
      "collapsed_sections": [],
      "include_colab_link": true
    },
    "kernelspec": {
      "name": "python3",
      "display_name": "Python 3"
    }
  },
  "cells": [
    {
      "cell_type": "markdown",
      "metadata": {
        "id": "view-in-github",
        "colab_type": "text"
      },
      "source": [
        "<a href=\"https://colab.research.google.com/github/claudiaospina/Python-3-de-la-A-a-la-Z/blob/main/T10_03.ipynb\" target=\"_parent\"><img src=\"https://colab.research.google.com/assets/colab-badge.svg\" alt=\"Open In Colab\"/></a>"
      ]
    },
    {
      "cell_type": "markdown",
      "metadata": {
        "id": "Jlj0fBHcTjMx"
      },
      "source": [
        "# Ejercicio\n",
        "\n"
      ]
    },
    {
      "cell_type": "markdown",
      "metadata": {
        "id": "ksYdboeUTriR"
      },
      "source": [
        "Vamos a crear una función recursiva que lleve a cabo una cuenta atrás."
      ]
    },
    {
      "cell_type": "code",
      "metadata": {
        "id": "Om219Iyu0YB8"
      },
      "source": [
        "def countdown(n):\n",
        "  \"\"\"\n",
        "  Cuenta atrás recursiva\n",
        "  Args:\n",
        "    n: Número entero positivo\n",
        "  Returns:\n",
        "    0 cuando la cuenta atrás ha finalizado\n",
        "  \"\"\"\n",
        "  if n == 0:\n",
        "    return 0\n",
        "  print(n)\n",
        "  return countdown(n - 1)"
      ],
      "execution_count": null,
      "outputs": []
    },
    {
      "cell_type": "code",
      "metadata": {
        "colab": {
          "base_uri": "https://localhost:8080/"
        },
        "id": "2n3V9mhN0_2L",
        "outputId": "2b21932a-572d-4838-99f3-59ae1fb7a776"
      },
      "source": [
        "countdown(10)"
      ],
      "execution_count": null,
      "outputs": [
        {
          "output_type": "stream",
          "text": [
            "10\n",
            "9\n",
            "8\n",
            "7\n",
            "6\n",
            "5\n",
            "4\n",
            "3\n",
            "2\n",
            "1\n"
          ],
          "name": "stdout"
        },
        {
          "output_type": "execute_result",
          "data": {
            "text/plain": [
              "0"
            ]
          },
          "metadata": {
            "tags": []
          },
          "execution_count": 6
        }
      ]
    }
  ]
}