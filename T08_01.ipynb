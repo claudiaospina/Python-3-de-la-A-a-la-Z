{
  "nbformat": 4,
  "nbformat_minor": 0,
  "metadata": {
    "colab": {
      "name": "T08-01.ipynb",
      "provenance": [],
      "collapsed_sections": [],
      "include_colab_link": true
    },
    "kernelspec": {
      "name": "python3",
      "display_name": "Python 3"
    }
  },
  "cells": [
    {
      "cell_type": "markdown",
      "metadata": {
        "id": "view-in-github",
        "colab_type": "text"
      },
      "source": [
        "<a href=\"https://colab.research.google.com/github/claudiaospina/Python-3-de-la-A-a-la-Z/blob/main/T08_01.ipynb\" target=\"_parent\"><img src=\"https://colab.research.google.com/assets/colab-badge.svg\" alt=\"Open In Colab\"/></a>"
      ]
    },
    {
      "cell_type": "markdown",
      "metadata": {
        "id": "7JS4VSUEjPvr"
      },
      "source": [
        "# Ejercicio\n",
        "\n",
        "Vamos a pedirle al usuario una frase y vamos a guardar en un conjunto las letras que aparecen en dicha frase."
      ]
    },
    {
      "cell_type": "code",
      "metadata": {
        "colab": {
          "base_uri": "https://localhost:8080/"
        },
        "id": "wwuXs36OjOQi",
        "outputId": "d85c4fe7-5a54-43cf-bf65-8e911f8668bb"
      },
      "source": [
        "s = input(\"Introduce una frase: \")\n",
        "\n",
        "letters = set()\n",
        "\n",
        "for c in s.lower():\n",
        "  if c != \" \":\n",
        "    letters.add(c)\n",
        "\n",
        "print(letters)"
      ],
      "execution_count": null,
      "outputs": [
        {
          "output_type": "stream",
          "text": [
            "Introduce una frase: Mi mamá me mima esa es mi mamá\n",
            "{'e', 'á', 's', 'm', 'a', 'i'}\n"
          ],
          "name": "stdout"
        }
      ]
    }
  ]
}