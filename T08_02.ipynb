{
  "nbformat": 4,
  "nbformat_minor": 0,
  "metadata": {
    "colab": {
      "name": "T08-02.ipynb",
      "provenance": [],
      "collapsed_sections": [],
      "include_colab_link": true
    },
    "kernelspec": {
      "name": "python3",
      "display_name": "Python 3"
    }
  },
  "cells": [
    {
      "cell_type": "markdown",
      "metadata": {
        "id": "view-in-github",
        "colab_type": "text"
      },
      "source": [
        "<a href=\"https://colab.research.google.com/github/claudiaospina/Python-3-de-la-A-a-la-Z/blob/main/T08_02.ipynb\" target=\"_parent\"><img src=\"https://colab.research.google.com/assets/colab-badge.svg\" alt=\"Open In Colab\"/></a>"
      ]
    },
    {
      "cell_type": "markdown",
      "metadata": {
        "id": "_0qwgF8-jebr"
      },
      "source": [
        "# Ejercicio\n",
        "\n",
        "Vamos a pedirle al usuario dos palabras y vamos a calcular la intersección de las letras de cada palabra. Para ello habrá que crear dos conjuntos que contendrán, respectivamente, las letras que forman cada palabra."
      ]
    },
    {
      "cell_type": "code",
      "metadata": {
        "colab": {
          "base_uri": "https://localhost:8080/"
        },
        "id": "ANOQFpXvjbko",
        "outputId": "9a068545-f4b8-4402-c022-10b9f872006f"
      },
      "source": [
        "word1 = input(\"Palabra 1: \")\n",
        "word2 = input(\"Palabra 2: \")\n",
        "\n",
        "letters1 = set()\n",
        "letters2 = set()\n",
        "\n",
        "for l in word1.lower():\n",
        "  letters1.add(l)\n",
        "\n",
        "for l in word2.lower():\n",
        "  letters2.add(l)\n",
        "\n",
        "common = letters1 & letters2\n",
        "print(common)"
      ],
      "execution_count": null,
      "outputs": [
        {
          "output_type": "stream",
          "text": [
            "Palabra 1: nene\n",
            "Palabra 2: mimo\n",
            "set()\n"
          ],
          "name": "stdout"
        }
      ]
    }
  ]
}